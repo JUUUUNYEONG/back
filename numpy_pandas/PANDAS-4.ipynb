{
 "cells": [
  {
   "cell_type": "code",
   "execution_count": 1,
   "id": "ccf049a0",
   "metadata": {},
   "outputs": [],
   "source": [
    "import numpy as np\n",
    "import pandas as pd"
   ]
  },
  {
   "cell_type": "code",
   "execution_count": 3,
   "id": "2e67e747",
   "metadata": {},
   "outputs": [
    {
     "data": {
      "text/plain": [
       "2019-01-01    0\n",
       "2020-01-01    1\n",
       "2020-02-01    2\n",
       "2020-02-02    3\n",
       "2020-03-01    4\n",
       "dtype: int64"
      ]
     },
     "execution_count": 3,
     "metadata": {},
     "output_type": "execute_result"
    }
   ],
   "source": [
    "idx = pd.DatetimeIndex(['2019-01-01','2020-01-01','2020-02-01','2020-02-02','2020-03-01'])\n",
    "s=pd.Series([0,1,2,3,4],index=idx)\n",
    "s"
   ]
  },
  {
   "cell_type": "code",
   "execution_count": 4,
   "id": "83ad7e8a",
   "metadata": {},
   "outputs": [
    {
     "data": {
      "text/plain": [
       "2020-01-01    1\n",
       "2020-02-01    2\n",
       "2020-02-02    3\n",
       "2020-03-01    4\n",
       "dtype: int64"
      ]
     },
     "execution_count": 4,
     "metadata": {},
     "output_type": "execute_result"
    }
   ],
   "source": [
    "s['2020-01-01':]"
   ]
  },
  {
   "cell_type": "code",
   "execution_count": 5,
   "id": "6f93c51f",
   "metadata": {},
   "outputs": [
    {
     "data": {
      "text/plain": [
       "2019-01-01    0\n",
       "2020-01-01    1\n",
       "dtype: int64"
      ]
     },
     "execution_count": 5,
     "metadata": {},
     "output_type": "execute_result"
    }
   ],
   "source": [
    "s[:'2020-01-01']"
   ]
  },
  {
   "cell_type": "code",
   "execution_count": 6,
   "id": "6d69b504",
   "metadata": {},
   "outputs": [
    {
     "data": {
      "text/plain": [
       "2019-01-01    0\n",
       "dtype: int64"
      ]
     },
     "execution_count": 6,
     "metadata": {},
     "output_type": "execute_result"
    }
   ],
   "source": [
    "s['2019']"
   ]
  },
  {
   "cell_type": "code",
   "execution_count": 7,
   "id": "526041f2",
   "metadata": {},
   "outputs": [
    {
     "data": {
      "text/plain": [
       "DatetimeIndex(['2019-12-12', '2020-01-01', '2020-02-02', '2020-03-04',\n",
       "               '2020-07-01'],\n",
       "              dtype='datetime64[ns]', freq=None)"
      ]
     },
     "execution_count": 7,
     "metadata": {},
     "output_type": "execute_result"
    }
   ],
   "source": [
    "from datetime import datetime\n",
    "dates = pd.to_datetime(['12-12-2019',datetime(2020,1,1),'2nd of Feb, 2020','2020-Mar-4','20200701'])\n",
    "dates"
   ]
  },
  {
   "cell_type": "code",
   "execution_count": 8,
   "id": "d4d2f246",
   "metadata": {},
   "outputs": [
    {
     "data": {
      "text/plain": [
       "PeriodIndex(['2019-12-12', '2020-01-01', '2020-02-02', '2020-03-04',\n",
       "             '2020-07-01'],\n",
       "            dtype='period[D]')"
      ]
     },
     "execution_count": 8,
     "metadata": {},
     "output_type": "execute_result"
    }
   ],
   "source": [
    "dates.to_period('D')"
   ]
  },
  {
   "cell_type": "code",
   "execution_count": 9,
   "id": "4c65115b",
   "metadata": {},
   "outputs": [
    {
     "data": {
      "text/plain": [
       "TimedeltaIndex(['0 days', '20 days', '52 days', '83 days', '202 days'], dtype='timedelta64[ns]', freq=None)"
      ]
     },
     "execution_count": 9,
     "metadata": {},
     "output_type": "execute_result"
    }
   ],
   "source": [
    "dates - dates[0]"
   ]
  },
  {
   "cell_type": "code",
   "execution_count": 10,
   "id": "75071ea9",
   "metadata": {},
   "outputs": [
    {
     "data": {
      "text/plain": [
       "DatetimeIndex(['2020-01-01', '2020-01-02', '2020-01-03', '2020-01-04',\n",
       "               '2020-01-05', '2020-01-06', '2020-01-07', '2020-01-08',\n",
       "               '2020-01-09', '2020-01-10',\n",
       "               ...\n",
       "               '2020-06-22', '2020-06-23', '2020-06-24', '2020-06-25',\n",
       "               '2020-06-26', '2020-06-27', '2020-06-28', '2020-06-29',\n",
       "               '2020-06-30', '2020-07-01'],\n",
       "              dtype='datetime64[ns]', length=183, freq='D')"
      ]
     },
     "execution_count": 10,
     "metadata": {},
     "output_type": "execute_result"
    }
   ],
   "source": [
    "pd.date_range('2020-01-01','2020-07-01')"
   ]
  },
  {
   "cell_type": "code",
   "execution_count": 12,
   "id": "8115a070",
   "metadata": {},
   "outputs": [
    {
     "data": {
      "text/plain": [
       "DatetimeIndex(['2020-01-01', '2020-01-02', '2020-01-03', '2020-01-04',\n",
       "               '2020-01-05', '2020-01-06', '2020-01-07'],\n",
       "              dtype='datetime64[ns]', freq='D')"
      ]
     },
     "execution_count": 12,
     "metadata": {},
     "output_type": "execute_result"
    }
   ],
   "source": [
    "pd.date_range('2020-01-01',periods=7)"
   ]
  },
  {
   "cell_type": "code",
   "execution_count": 14,
   "id": "2a854433",
   "metadata": {},
   "outputs": [
    {
     "data": {
      "text/plain": [
       "DatetimeIndex(['2020-01-31', '2020-02-29', '2020-03-31', '2020-04-30',\n",
       "               '2020-05-31', '2020-06-30', '2020-07-31'],\n",
       "              dtype='datetime64[ns]', freq='M')"
      ]
     },
     "execution_count": 14,
     "metadata": {},
     "output_type": "execute_result"
    }
   ],
   "source": [
    "pd.date_range('2020-01-01',periods=7,freq='M')"
   ]
  },
  {
   "cell_type": "code",
   "execution_count": 15,
   "id": "39e9c862",
   "metadata": {},
   "outputs": [
    {
     "data": {
      "text/plain": [
       "DatetimeIndex(['2020-01-01 00:00:00', '2020-01-01 01:00:00',\n",
       "               '2020-01-01 02:00:00', '2020-01-01 03:00:00',\n",
       "               '2020-01-01 04:00:00', '2020-01-01 05:00:00',\n",
       "               '2020-01-01 06:00:00'],\n",
       "              dtype='datetime64[ns]', freq='H')"
      ]
     },
     "execution_count": 15,
     "metadata": {},
     "output_type": "execute_result"
    }
   ],
   "source": [
    "pd.date_range('2020-01-01',periods=7,freq='H')"
   ]
  },
  {
   "cell_type": "code",
   "execution_count": 16,
   "id": "48aaa7de",
   "metadata": {},
   "outputs": [
    {
     "data": {
      "text/plain": [
       "DatetimeIndex(['2020-01-01 12:00:00', '2020-01-02 00:00:00', 'NaT'], dtype='datetime64[ns]', freq=None)"
      ]
     },
     "execution_count": 16,
     "metadata": {},
     "output_type": "execute_result"
    }
   ],
   "source": [
    "idx=pd.to_datetime(['2020-01-01 12:00:00','2020-01-02 00:00:00'] + [None])\n",
    "idx"
   ]
  },
  {
   "cell_type": "code",
   "execution_count": 17,
   "id": "1b4aa42b",
   "metadata": {},
   "outputs": [
    {
     "data": {
      "text/plain": [
       "NaT"
      ]
     },
     "execution_count": 17,
     "metadata": {},
     "output_type": "execute_result"
    }
   ],
   "source": [
    "idx[2]"
   ]
  },
  {
   "cell_type": "code",
   "execution_count": 18,
   "id": "00803f59",
   "metadata": {},
   "outputs": [
    {
     "data": {
      "text/plain": [
       "array([False, False,  True])"
      ]
     },
     "execution_count": 18,
     "metadata": {},
     "output_type": "execute_result"
    }
   ],
   "source": [
    "pd.isnull(idx)"
   ]
  },
  {
   "cell_type": "code",
   "execution_count": 19,
   "id": "d5c3d9dd",
   "metadata": {},
   "outputs": [
    {
     "data": {
      "text/plain": [
       "[datetime.datetime(2020, 1, 1, 0, 0),\n",
       " datetime.datetime(2020, 1, 2, 0, 0),\n",
       " datetime.datetime(2020, 1, 4, 0, 0),\n",
       " datetime.datetime(2020, 1, 7, 0, 0),\n",
       " datetime.datetime(2020, 1, 10, 0, 0),\n",
       " datetime.datetime(2020, 1, 11, 0, 0),\n",
       " datetime.datetime(2020, 1, 15, 0, 0)]"
      ]
     },
     "execution_count": 19,
     "metadata": {},
     "output_type": "execute_result"
    }
   ],
   "source": [
    "dates = [datetime(2020,1,1),datetime(2020,1,2),datetime(2020,1,4),datetime(2020,1,7),\n",
    "        datetime(2020,1,10),datetime(2020,1,11),datetime(2020,1,15)]\n",
    "dates"
   ]
  },
  {
   "cell_type": "code",
   "execution_count": 22,
   "id": "727b4c1f",
   "metadata": {},
   "outputs": [
    {
     "data": {
      "text/plain": [
       "2020-01-01    0.377976\n",
       "2020-01-02   -0.006238\n",
       "2020-01-04   -0.277004\n",
       "2020-01-07    0.262062\n",
       "2020-01-10   -0.117294\n",
       "2020-01-11   -0.306970\n",
       "2020-01-15   -0.403089\n",
       "dtype: float64"
      ]
     },
     "execution_count": 22,
     "metadata": {},
     "output_type": "execute_result"
    }
   ],
   "source": [
    "ts = pd.Series(np.random.randn(7),index=dates)\n",
    "ts"
   ]
  },
  {
   "cell_type": "code",
   "execution_count": 23,
   "id": "82bb5864",
   "metadata": {},
   "outputs": [
    {
     "data": {
      "text/plain": [
       "DatetimeIndex(['2020-01-01', '2020-01-02', '2020-01-04', '2020-01-07',\n",
       "               '2020-01-10', '2020-01-11', '2020-01-15'],\n",
       "              dtype='datetime64[ns]', freq=None)"
      ]
     },
     "execution_count": 23,
     "metadata": {},
     "output_type": "execute_result"
    }
   ],
   "source": [
    "ts.index"
   ]
  },
  {
   "cell_type": "code",
   "execution_count": 26,
   "id": "5a537f07",
   "metadata": {},
   "outputs": [
    {
     "data": {
      "text/plain": [
       "Timestamp('2020-01-01 00:00:00')"
      ]
     },
     "execution_count": 26,
     "metadata": {},
     "output_type": "execute_result"
    }
   ],
   "source": [
    "ts.index[0]"
   ]
  },
  {
   "cell_type": "code",
   "execution_count": 27,
   "id": "b584e6e3",
   "metadata": {},
   "outputs": [
    {
     "data": {
      "text/plain": [
       "-0.2770040019220307"
      ]
     },
     "execution_count": 27,
     "metadata": {},
     "output_type": "execute_result"
    }
   ],
   "source": [
    "ts[ts.index[2]]"
   ]
  },
  {
   "cell_type": "code",
   "execution_count": 28,
   "id": "10b8cbab",
   "metadata": {},
   "outputs": [
    {
     "data": {
      "text/plain": [
       "-0.2770040019220307"
      ]
     },
     "execution_count": 28,
     "metadata": {},
     "output_type": "execute_result"
    }
   ],
   "source": [
    "ts['20200104']"
   ]
  },
  {
   "cell_type": "code",
   "execution_count": 29,
   "id": "0f27a05f",
   "metadata": {},
   "outputs": [
    {
     "data": {
      "text/plain": [
       "-0.2770040019220307"
      ]
     },
     "execution_count": 29,
     "metadata": {},
     "output_type": "execute_result"
    }
   ],
   "source": [
    "ts['1/4/2020']"
   ]
  },
  {
   "cell_type": "code",
   "execution_count": 30,
   "id": "cf5c1192",
   "metadata": {},
   "outputs": [
    {
     "data": {
      "text/plain": [
       "2017-10-01    0.448396\n",
       "2017-10-02   -1.648705\n",
       "2017-10-03    1.089315\n",
       "2017-10-04    0.130113\n",
       "2017-10-05    0.120430\n",
       "                ...   \n",
       "2020-06-22    1.309504\n",
       "2020-06-23    1.382405\n",
       "2020-06-24    1.014219\n",
       "2020-06-25   -0.181122\n",
       "2020-06-26   -0.515163\n",
       "Freq: D, Length: 1000, dtype: float64"
      ]
     },
     "execution_count": 30,
     "metadata": {},
     "output_type": "execute_result"
    }
   ],
   "source": [
    "ts = pd.Series(np.random.randn(1000),index=pd.date_range('2017-10-01',periods=1000))\n",
    "ts"
   ]
  },
  {
   "cell_type": "code",
   "execution_count": 31,
   "id": "ac97ce69",
   "metadata": {},
   "outputs": [
    {
     "data": {
      "text/plain": [
       "2020-01-01   -1.749126\n",
       "2020-01-02   -1.057286\n",
       "2020-01-03   -0.119959\n",
       "2020-01-04    1.942619\n",
       "2020-01-05    0.283287\n",
       "                ...   \n",
       "2020-06-22    1.309504\n",
       "2020-06-23    1.382405\n",
       "2020-06-24    1.014219\n",
       "2020-06-25   -0.181122\n",
       "2020-06-26   -0.515163\n",
       "Freq: D, Length: 178, dtype: float64"
      ]
     },
     "execution_count": 31,
     "metadata": {},
     "output_type": "execute_result"
    }
   ],
   "source": [
    "ts['2020']"
   ]
  },
  {
   "cell_type": "code",
   "execution_count": 32,
   "id": "39020c48",
   "metadata": {},
   "outputs": [
    {
     "data": {
      "text/plain": [
       "2020-06-01   -0.994097\n",
       "2020-06-02   -1.325438\n",
       "2020-06-03   -2.381314\n",
       "2020-06-04    0.864557\n",
       "2020-06-05    0.060568\n",
       "2020-06-06    0.913143\n",
       "2020-06-07   -0.182428\n",
       "2020-06-08   -1.482294\n",
       "2020-06-09   -0.252076\n",
       "2020-06-10    0.181151\n",
       "2020-06-11    0.601990\n",
       "2020-06-12   -1.740289\n",
       "2020-06-13   -0.224144\n",
       "2020-06-14   -0.021643\n",
       "2020-06-15    2.470145\n",
       "2020-06-16   -0.293208\n",
       "2020-06-17    1.843548\n",
       "2020-06-18    1.707058\n",
       "2020-06-19    0.307295\n",
       "2020-06-20    0.028761\n",
       "2020-06-21    0.378868\n",
       "2020-06-22    1.309504\n",
       "2020-06-23    1.382405\n",
       "2020-06-24    1.014219\n",
       "2020-06-25   -0.181122\n",
       "2020-06-26   -0.515163\n",
       "Freq: D, dtype: float64"
      ]
     },
     "execution_count": 32,
     "metadata": {},
     "output_type": "execute_result"
    }
   ],
   "source": [
    "ts['2020-06']"
   ]
  },
  {
   "cell_type": "code",
   "execution_count": 33,
   "id": "ab0d262c",
   "metadata": {},
   "outputs": [
    {
     "data": {
      "text/plain": [
       "2020-06-20    0.028761\n",
       "2020-06-21    0.378868\n",
       "2020-06-22    1.309504\n",
       "2020-06-23    1.382405\n",
       "2020-06-24    1.014219\n",
       "2020-06-25   -0.181122\n",
       "2020-06-26   -0.515163\n",
       "Freq: D, dtype: float64"
      ]
     },
     "execution_count": 33,
     "metadata": {},
     "output_type": "execute_result"
    }
   ],
   "source": [
    "ts[datetime(2020,6,20):]"
   ]
  },
  {
   "cell_type": "code",
   "execution_count": 34,
   "id": "45a62f3c",
   "metadata": {},
   "outputs": [
    {
     "data": {
      "text/plain": [
       "2020-06-10    0.181151\n",
       "2020-06-11    0.601990\n",
       "2020-06-12   -1.740289\n",
       "2020-06-13   -0.224144\n",
       "2020-06-14   -0.021643\n",
       "2020-06-15    2.470145\n",
       "2020-06-16   -0.293208\n",
       "2020-06-17    1.843548\n",
       "2020-06-18    1.707058\n",
       "2020-06-19    0.307295\n",
       "2020-06-20    0.028761\n",
       "Freq: D, dtype: float64"
      ]
     },
     "execution_count": 34,
     "metadata": {},
     "output_type": "execute_result"
    }
   ],
   "source": [
    "ts['2020-06-10':'2020-06-20']"
   ]
  },
  {
   "cell_type": "code",
   "execution_count": 35,
   "id": "9ffeeccf",
   "metadata": {},
   "outputs": [
    {
     "data": {
      "text/html": [
       "<div>\n",
       "<style scoped>\n",
       "    .dataframe tbody tr th:only-of-type {\n",
       "        vertical-align: middle;\n",
       "    }\n",
       "\n",
       "    .dataframe tbody tr th {\n",
       "        vertical-align: top;\n",
       "    }\n",
       "\n",
       "    .dataframe thead th {\n",
       "        text-align: right;\n",
       "    }\n",
       "</style>\n",
       "<table border=\"1\" class=\"dataframe\">\n",
       "  <thead>\n",
       "    <tr style=\"text-align: right;\">\n",
       "      <th></th>\n",
       "      <th>A</th>\n",
       "      <th>B</th>\n",
       "      <th>C</th>\n",
       "      <th>D</th>\n",
       "    </tr>\n",
       "  </thead>\n",
       "  <tbody>\n",
       "    <tr>\n",
       "      <th>2017-10-01</th>\n",
       "      <td>-1.342400</td>\n",
       "      <td>0.113873</td>\n",
       "      <td>-0.783189</td>\n",
       "      <td>2.699277</td>\n",
       "    </tr>\n",
       "    <tr>\n",
       "      <th>2017-10-02</th>\n",
       "      <td>2.431193</td>\n",
       "      <td>0.658547</td>\n",
       "      <td>-0.083995</td>\n",
       "      <td>-0.662720</td>\n",
       "    </tr>\n",
       "    <tr>\n",
       "      <th>2017-10-03</th>\n",
       "      <td>-0.235816</td>\n",
       "      <td>0.534169</td>\n",
       "      <td>-0.523536</td>\n",
       "      <td>-0.330914</td>\n",
       "    </tr>\n",
       "    <tr>\n",
       "      <th>2017-10-04</th>\n",
       "      <td>0.931566</td>\n",
       "      <td>-0.931117</td>\n",
       "      <td>0.334315</td>\n",
       "      <td>0.414999</td>\n",
       "    </tr>\n",
       "    <tr>\n",
       "      <th>2017-10-05</th>\n",
       "      <td>1.369114</td>\n",
       "      <td>1.211589</td>\n",
       "      <td>-0.280622</td>\n",
       "      <td>-1.145124</td>\n",
       "    </tr>\n",
       "    <tr>\n",
       "      <th>...</th>\n",
       "      <td>...</td>\n",
       "      <td>...</td>\n",
       "      <td>...</td>\n",
       "      <td>...</td>\n",
       "    </tr>\n",
       "    <tr>\n",
       "      <th>2020-06-22</th>\n",
       "      <td>0.436820</td>\n",
       "      <td>-0.821021</td>\n",
       "      <td>-1.369736</td>\n",
       "      <td>0.904184</td>\n",
       "    </tr>\n",
       "    <tr>\n",
       "      <th>2020-06-23</th>\n",
       "      <td>0.679793</td>\n",
       "      <td>0.581727</td>\n",
       "      <td>1.244773</td>\n",
       "      <td>0.271056</td>\n",
       "    </tr>\n",
       "    <tr>\n",
       "      <th>2020-06-24</th>\n",
       "      <td>0.098967</td>\n",
       "      <td>0.392961</td>\n",
       "      <td>1.300353</td>\n",
       "      <td>-0.180340</td>\n",
       "    </tr>\n",
       "    <tr>\n",
       "      <th>2020-06-25</th>\n",
       "      <td>-0.974532</td>\n",
       "      <td>-0.152133</td>\n",
       "      <td>-0.418595</td>\n",
       "      <td>0.175814</td>\n",
       "    </tr>\n",
       "    <tr>\n",
       "      <th>2020-06-26</th>\n",
       "      <td>-1.138394</td>\n",
       "      <td>1.895938</td>\n",
       "      <td>0.239586</td>\n",
       "      <td>0.495644</td>\n",
       "    </tr>\n",
       "  </tbody>\n",
       "</table>\n",
       "<p>1000 rows × 4 columns</p>\n",
       "</div>"
      ],
      "text/plain": [
       "                   A         B         C         D\n",
       "2017-10-01 -1.342400  0.113873 -0.783189  2.699277\n",
       "2017-10-02  2.431193  0.658547 -0.083995 -0.662720\n",
       "2017-10-03 -0.235816  0.534169 -0.523536 -0.330914\n",
       "2017-10-04  0.931566 -0.931117  0.334315  0.414999\n",
       "2017-10-05  1.369114  1.211589 -0.280622 -1.145124\n",
       "...              ...       ...       ...       ...\n",
       "2020-06-22  0.436820 -0.821021 -1.369736  0.904184\n",
       "2020-06-23  0.679793  0.581727  1.244773  0.271056\n",
       "2020-06-24  0.098967  0.392961  1.300353 -0.180340\n",
       "2020-06-25 -0.974532 -0.152133 -0.418595  0.175814\n",
       "2020-06-26 -1.138394  1.895938  0.239586  0.495644\n",
       "\n",
       "[1000 rows x 4 columns]"
      ]
     },
     "execution_count": 35,
     "metadata": {},
     "output_type": "execute_result"
    }
   ],
   "source": [
    "tdf = pd.DataFrame(np.random.randn(1000,4),\n",
    "                  index=pd.date_range('2017-10-01',periods=1000),\n",
    "                  columns=['A','B','C','D'])\n",
    "tdf"
   ]
  },
  {
   "cell_type": "code",
   "execution_count": 36,
   "id": "2ba67726",
   "metadata": {},
   "outputs": [
    {
     "name": "stderr",
     "output_type": "stream",
     "text": [
      "C:\\Users\\zmzm1\\miniconda3\\lib\\site-packages\\ipykernel_launcher.py:1: FutureWarning: Indexing a DataFrame with a datetimelike index using a single string to slice the rows, like `frame[string]`, is deprecated and will be removed in a future version. Use `frame.loc[string]` instead.\n",
      "  \"\"\"Entry point for launching an IPython kernel.\n"
     ]
    },
    {
     "data": {
      "text/html": [
       "<div>\n",
       "<style scoped>\n",
       "    .dataframe tbody tr th:only-of-type {\n",
       "        vertical-align: middle;\n",
       "    }\n",
       "\n",
       "    .dataframe tbody tr th {\n",
       "        vertical-align: top;\n",
       "    }\n",
       "\n",
       "    .dataframe thead th {\n",
       "        text-align: right;\n",
       "    }\n",
       "</style>\n",
       "<table border=\"1\" class=\"dataframe\">\n",
       "  <thead>\n",
       "    <tr style=\"text-align: right;\">\n",
       "      <th></th>\n",
       "      <th>A</th>\n",
       "      <th>B</th>\n",
       "      <th>C</th>\n",
       "      <th>D</th>\n",
       "    </tr>\n",
       "  </thead>\n",
       "  <tbody>\n",
       "    <tr>\n",
       "      <th>2020-01-01</th>\n",
       "      <td>1.795698</td>\n",
       "      <td>0.703723</td>\n",
       "      <td>-0.497754</td>\n",
       "      <td>0.173974</td>\n",
       "    </tr>\n",
       "    <tr>\n",
       "      <th>2020-01-02</th>\n",
       "      <td>-0.549028</td>\n",
       "      <td>0.072301</td>\n",
       "      <td>0.257380</td>\n",
       "      <td>0.713448</td>\n",
       "    </tr>\n",
       "    <tr>\n",
       "      <th>2020-01-03</th>\n",
       "      <td>-0.843192</td>\n",
       "      <td>0.331910</td>\n",
       "      <td>-1.494416</td>\n",
       "      <td>0.724912</td>\n",
       "    </tr>\n",
       "    <tr>\n",
       "      <th>2020-01-04</th>\n",
       "      <td>0.823196</td>\n",
       "      <td>-1.933473</td>\n",
       "      <td>0.349411</td>\n",
       "      <td>-0.352145</td>\n",
       "    </tr>\n",
       "    <tr>\n",
       "      <th>2020-01-05</th>\n",
       "      <td>1.059874</td>\n",
       "      <td>-1.205147</td>\n",
       "      <td>0.169156</td>\n",
       "      <td>0.647638</td>\n",
       "    </tr>\n",
       "    <tr>\n",
       "      <th>...</th>\n",
       "      <td>...</td>\n",
       "      <td>...</td>\n",
       "      <td>...</td>\n",
       "      <td>...</td>\n",
       "    </tr>\n",
       "    <tr>\n",
       "      <th>2020-06-22</th>\n",
       "      <td>0.436820</td>\n",
       "      <td>-0.821021</td>\n",
       "      <td>-1.369736</td>\n",
       "      <td>0.904184</td>\n",
       "    </tr>\n",
       "    <tr>\n",
       "      <th>2020-06-23</th>\n",
       "      <td>0.679793</td>\n",
       "      <td>0.581727</td>\n",
       "      <td>1.244773</td>\n",
       "      <td>0.271056</td>\n",
       "    </tr>\n",
       "    <tr>\n",
       "      <th>2020-06-24</th>\n",
       "      <td>0.098967</td>\n",
       "      <td>0.392961</td>\n",
       "      <td>1.300353</td>\n",
       "      <td>-0.180340</td>\n",
       "    </tr>\n",
       "    <tr>\n",
       "      <th>2020-06-25</th>\n",
       "      <td>-0.974532</td>\n",
       "      <td>-0.152133</td>\n",
       "      <td>-0.418595</td>\n",
       "      <td>0.175814</td>\n",
       "    </tr>\n",
       "    <tr>\n",
       "      <th>2020-06-26</th>\n",
       "      <td>-1.138394</td>\n",
       "      <td>1.895938</td>\n",
       "      <td>0.239586</td>\n",
       "      <td>0.495644</td>\n",
       "    </tr>\n",
       "  </tbody>\n",
       "</table>\n",
       "<p>178 rows × 4 columns</p>\n",
       "</div>"
      ],
      "text/plain": [
       "                   A         B         C         D\n",
       "2020-01-01  1.795698  0.703723 -0.497754  0.173974\n",
       "2020-01-02 -0.549028  0.072301  0.257380  0.713448\n",
       "2020-01-03 -0.843192  0.331910 -1.494416  0.724912\n",
       "2020-01-04  0.823196 -1.933473  0.349411 -0.352145\n",
       "2020-01-05  1.059874 -1.205147  0.169156  0.647638\n",
       "...              ...       ...       ...       ...\n",
       "2020-06-22  0.436820 -0.821021 -1.369736  0.904184\n",
       "2020-06-23  0.679793  0.581727  1.244773  0.271056\n",
       "2020-06-24  0.098967  0.392961  1.300353 -0.180340\n",
       "2020-06-25 -0.974532 -0.152133 -0.418595  0.175814\n",
       "2020-06-26 -1.138394  1.895938  0.239586  0.495644\n",
       "\n",
       "[178 rows x 4 columns]"
      ]
     },
     "execution_count": 36,
     "metadata": {},
     "output_type": "execute_result"
    }
   ],
   "source": [
    "tdf['2020']"
   ]
  },
  {
   "cell_type": "code",
   "execution_count": 38,
   "id": "12e2857c",
   "metadata": {},
   "outputs": [
    {
     "data": {
      "text/html": [
       "<div>\n",
       "<style scoped>\n",
       "    .dataframe tbody tr th:only-of-type {\n",
       "        vertical-align: middle;\n",
       "    }\n",
       "\n",
       "    .dataframe tbody tr th {\n",
       "        vertical-align: top;\n",
       "    }\n",
       "\n",
       "    .dataframe thead th {\n",
       "        text-align: right;\n",
       "    }\n",
       "</style>\n",
       "<table border=\"1\" class=\"dataframe\">\n",
       "  <thead>\n",
       "    <tr style=\"text-align: right;\">\n",
       "      <th></th>\n",
       "      <th>A</th>\n",
       "      <th>B</th>\n",
       "      <th>C</th>\n",
       "      <th>D</th>\n",
       "    </tr>\n",
       "  </thead>\n",
       "  <tbody>\n",
       "    <tr>\n",
       "      <th>2020-06-01</th>\n",
       "      <td>0.124677</td>\n",
       "      <td>1.294474</td>\n",
       "      <td>0.683849</td>\n",
       "      <td>1.363010</td>\n",
       "    </tr>\n",
       "    <tr>\n",
       "      <th>2020-06-02</th>\n",
       "      <td>0.556273</td>\n",
       "      <td>1.484790</td>\n",
       "      <td>1.375514</td>\n",
       "      <td>-0.022886</td>\n",
       "    </tr>\n",
       "    <tr>\n",
       "      <th>2020-06-03</th>\n",
       "      <td>0.031434</td>\n",
       "      <td>-0.402503</td>\n",
       "      <td>-1.278589</td>\n",
       "      <td>0.276934</td>\n",
       "    </tr>\n",
       "    <tr>\n",
       "      <th>2020-06-04</th>\n",
       "      <td>-2.597538</td>\n",
       "      <td>0.686293</td>\n",
       "      <td>0.555892</td>\n",
       "      <td>0.659958</td>\n",
       "    </tr>\n",
       "    <tr>\n",
       "      <th>2020-06-05</th>\n",
       "      <td>0.735715</td>\n",
       "      <td>0.872903</td>\n",
       "      <td>-1.436679</td>\n",
       "      <td>-0.262547</td>\n",
       "    </tr>\n",
       "    <tr>\n",
       "      <th>2020-06-06</th>\n",
       "      <td>-0.348459</td>\n",
       "      <td>-1.770182</td>\n",
       "      <td>-0.823569</td>\n",
       "      <td>1.135426</td>\n",
       "    </tr>\n",
       "    <tr>\n",
       "      <th>2020-06-07</th>\n",
       "      <td>0.111008</td>\n",
       "      <td>-0.454305</td>\n",
       "      <td>-0.811175</td>\n",
       "      <td>0.919678</td>\n",
       "    </tr>\n",
       "    <tr>\n",
       "      <th>2020-06-08</th>\n",
       "      <td>-0.134171</td>\n",
       "      <td>0.350085</td>\n",
       "      <td>-0.412428</td>\n",
       "      <td>0.417330</td>\n",
       "    </tr>\n",
       "    <tr>\n",
       "      <th>2020-06-09</th>\n",
       "      <td>0.682077</td>\n",
       "      <td>0.922682</td>\n",
       "      <td>0.268153</td>\n",
       "      <td>0.628665</td>\n",
       "    </tr>\n",
       "    <tr>\n",
       "      <th>2020-06-10</th>\n",
       "      <td>0.716626</td>\n",
       "      <td>-0.485196</td>\n",
       "      <td>-0.077883</td>\n",
       "      <td>-0.763388</td>\n",
       "    </tr>\n",
       "    <tr>\n",
       "      <th>2020-06-11</th>\n",
       "      <td>1.318382</td>\n",
       "      <td>-0.436985</td>\n",
       "      <td>-2.446840</td>\n",
       "      <td>1.036803</td>\n",
       "    </tr>\n",
       "    <tr>\n",
       "      <th>2020-06-12</th>\n",
       "      <td>-1.813235</td>\n",
       "      <td>1.552374</td>\n",
       "      <td>0.078784</td>\n",
       "      <td>-1.120296</td>\n",
       "    </tr>\n",
       "    <tr>\n",
       "      <th>2020-06-13</th>\n",
       "      <td>-1.684488</td>\n",
       "      <td>-0.564149</td>\n",
       "      <td>-0.237993</td>\n",
       "      <td>0.714721</td>\n",
       "    </tr>\n",
       "    <tr>\n",
       "      <th>2020-06-14</th>\n",
       "      <td>-0.071383</td>\n",
       "      <td>-0.541585</td>\n",
       "      <td>0.709347</td>\n",
       "      <td>-0.305996</td>\n",
       "    </tr>\n",
       "    <tr>\n",
       "      <th>2020-06-15</th>\n",
       "      <td>1.099354</td>\n",
       "      <td>0.688356</td>\n",
       "      <td>0.671314</td>\n",
       "      <td>-0.024475</td>\n",
       "    </tr>\n",
       "    <tr>\n",
       "      <th>2020-06-16</th>\n",
       "      <td>-0.834221</td>\n",
       "      <td>-0.195893</td>\n",
       "      <td>-0.874480</td>\n",
       "      <td>-2.132227</td>\n",
       "    </tr>\n",
       "    <tr>\n",
       "      <th>2020-06-17</th>\n",
       "      <td>1.179973</td>\n",
       "      <td>-0.762438</td>\n",
       "      <td>1.760805</td>\n",
       "      <td>-2.290477</td>\n",
       "    </tr>\n",
       "    <tr>\n",
       "      <th>2020-06-18</th>\n",
       "      <td>1.225736</td>\n",
       "      <td>-0.209995</td>\n",
       "      <td>-0.362357</td>\n",
       "      <td>-0.339161</td>\n",
       "    </tr>\n",
       "    <tr>\n",
       "      <th>2020-06-19</th>\n",
       "      <td>0.423691</td>\n",
       "      <td>0.815982</td>\n",
       "      <td>-0.117052</td>\n",
       "      <td>-0.430996</td>\n",
       "    </tr>\n",
       "    <tr>\n",
       "      <th>2020-06-20</th>\n",
       "      <td>-0.983993</td>\n",
       "      <td>1.704168</td>\n",
       "      <td>1.809988</td>\n",
       "      <td>1.491219</td>\n",
       "    </tr>\n",
       "    <tr>\n",
       "      <th>2020-06-21</th>\n",
       "      <td>-0.063819</td>\n",
       "      <td>1.866128</td>\n",
       "      <td>-0.017124</td>\n",
       "      <td>0.897938</td>\n",
       "    </tr>\n",
       "    <tr>\n",
       "      <th>2020-06-22</th>\n",
       "      <td>0.436820</td>\n",
       "      <td>-0.821021</td>\n",
       "      <td>-1.369736</td>\n",
       "      <td>0.904184</td>\n",
       "    </tr>\n",
       "    <tr>\n",
       "      <th>2020-06-23</th>\n",
       "      <td>0.679793</td>\n",
       "      <td>0.581727</td>\n",
       "      <td>1.244773</td>\n",
       "      <td>0.271056</td>\n",
       "    </tr>\n",
       "    <tr>\n",
       "      <th>2020-06-24</th>\n",
       "      <td>0.098967</td>\n",
       "      <td>0.392961</td>\n",
       "      <td>1.300353</td>\n",
       "      <td>-0.180340</td>\n",
       "    </tr>\n",
       "    <tr>\n",
       "      <th>2020-06-25</th>\n",
       "      <td>-0.974532</td>\n",
       "      <td>-0.152133</td>\n",
       "      <td>-0.418595</td>\n",
       "      <td>0.175814</td>\n",
       "    </tr>\n",
       "    <tr>\n",
       "      <th>2020-06-26</th>\n",
       "      <td>-1.138394</td>\n",
       "      <td>1.895938</td>\n",
       "      <td>0.239586</td>\n",
       "      <td>0.495644</td>\n",
       "    </tr>\n",
       "  </tbody>\n",
       "</table>\n",
       "</div>"
      ],
      "text/plain": [
       "                   A         B         C         D\n",
       "2020-06-01  0.124677  1.294474  0.683849  1.363010\n",
       "2020-06-02  0.556273  1.484790  1.375514 -0.022886\n",
       "2020-06-03  0.031434 -0.402503 -1.278589  0.276934\n",
       "2020-06-04 -2.597538  0.686293  0.555892  0.659958\n",
       "2020-06-05  0.735715  0.872903 -1.436679 -0.262547\n",
       "2020-06-06 -0.348459 -1.770182 -0.823569  1.135426\n",
       "2020-06-07  0.111008 -0.454305 -0.811175  0.919678\n",
       "2020-06-08 -0.134171  0.350085 -0.412428  0.417330\n",
       "2020-06-09  0.682077  0.922682  0.268153  0.628665\n",
       "2020-06-10  0.716626 -0.485196 -0.077883 -0.763388\n",
       "2020-06-11  1.318382 -0.436985 -2.446840  1.036803\n",
       "2020-06-12 -1.813235  1.552374  0.078784 -1.120296\n",
       "2020-06-13 -1.684488 -0.564149 -0.237993  0.714721\n",
       "2020-06-14 -0.071383 -0.541585  0.709347 -0.305996\n",
       "2020-06-15  1.099354  0.688356  0.671314 -0.024475\n",
       "2020-06-16 -0.834221 -0.195893 -0.874480 -2.132227\n",
       "2020-06-17  1.179973 -0.762438  1.760805 -2.290477\n",
       "2020-06-18  1.225736 -0.209995 -0.362357 -0.339161\n",
       "2020-06-19  0.423691  0.815982 -0.117052 -0.430996\n",
       "2020-06-20 -0.983993  1.704168  1.809988  1.491219\n",
       "2020-06-21 -0.063819  1.866128 -0.017124  0.897938\n",
       "2020-06-22  0.436820 -0.821021 -1.369736  0.904184\n",
       "2020-06-23  0.679793  0.581727  1.244773  0.271056\n",
       "2020-06-24  0.098967  0.392961  1.300353 -0.180340\n",
       "2020-06-25 -0.974532 -0.152133 -0.418595  0.175814\n",
       "2020-06-26 -1.138394  1.895938  0.239586  0.495644"
      ]
     },
     "execution_count": 38,
     "metadata": {},
     "output_type": "execute_result"
    }
   ],
   "source": [
    "tdf.loc['2020-06']"
   ]
  },
  {
   "cell_type": "code",
   "execution_count": 39,
   "id": "4a1c9e7d",
   "metadata": {},
   "outputs": [
    {
     "data": {
      "text/html": [
       "<div>\n",
       "<style scoped>\n",
       "    .dataframe tbody tr th:only-of-type {\n",
       "        vertical-align: middle;\n",
       "    }\n",
       "\n",
       "    .dataframe tbody tr th {\n",
       "        vertical-align: top;\n",
       "    }\n",
       "\n",
       "    .dataframe thead th {\n",
       "        text-align: right;\n",
       "    }\n",
       "</style>\n",
       "<table border=\"1\" class=\"dataframe\">\n",
       "  <thead>\n",
       "    <tr style=\"text-align: right;\">\n",
       "      <th></th>\n",
       "      <th>A</th>\n",
       "      <th>B</th>\n",
       "      <th>C</th>\n",
       "      <th>D</th>\n",
       "    </tr>\n",
       "  </thead>\n",
       "  <tbody>\n",
       "    <tr>\n",
       "      <th>2020-06-20</th>\n",
       "      <td>-0.983993</td>\n",
       "      <td>1.704168</td>\n",
       "      <td>1.809988</td>\n",
       "      <td>1.491219</td>\n",
       "    </tr>\n",
       "    <tr>\n",
       "      <th>2020-06-21</th>\n",
       "      <td>-0.063819</td>\n",
       "      <td>1.866128</td>\n",
       "      <td>-0.017124</td>\n",
       "      <td>0.897938</td>\n",
       "    </tr>\n",
       "    <tr>\n",
       "      <th>2020-06-22</th>\n",
       "      <td>0.436820</td>\n",
       "      <td>-0.821021</td>\n",
       "      <td>-1.369736</td>\n",
       "      <td>0.904184</td>\n",
       "    </tr>\n",
       "    <tr>\n",
       "      <th>2020-06-23</th>\n",
       "      <td>0.679793</td>\n",
       "      <td>0.581727</td>\n",
       "      <td>1.244773</td>\n",
       "      <td>0.271056</td>\n",
       "    </tr>\n",
       "    <tr>\n",
       "      <th>2020-06-24</th>\n",
       "      <td>0.098967</td>\n",
       "      <td>0.392961</td>\n",
       "      <td>1.300353</td>\n",
       "      <td>-0.180340</td>\n",
       "    </tr>\n",
       "    <tr>\n",
       "      <th>2020-06-25</th>\n",
       "      <td>-0.974532</td>\n",
       "      <td>-0.152133</td>\n",
       "      <td>-0.418595</td>\n",
       "      <td>0.175814</td>\n",
       "    </tr>\n",
       "    <tr>\n",
       "      <th>2020-06-26</th>\n",
       "      <td>-1.138394</td>\n",
       "      <td>1.895938</td>\n",
       "      <td>0.239586</td>\n",
       "      <td>0.495644</td>\n",
       "    </tr>\n",
       "  </tbody>\n",
       "</table>\n",
       "</div>"
      ],
      "text/plain": [
       "                   A         B         C         D\n",
       "2020-06-20 -0.983993  1.704168  1.809988  1.491219\n",
       "2020-06-21 -0.063819  1.866128 -0.017124  0.897938\n",
       "2020-06-22  0.436820 -0.821021 -1.369736  0.904184\n",
       "2020-06-23  0.679793  0.581727  1.244773  0.271056\n",
       "2020-06-24  0.098967  0.392961  1.300353 -0.180340\n",
       "2020-06-25 -0.974532 -0.152133 -0.418595  0.175814\n",
       "2020-06-26 -1.138394  1.895938  0.239586  0.495644"
      ]
     },
     "execution_count": 39,
     "metadata": {},
     "output_type": "execute_result"
    }
   ],
   "source": [
    "tdf['2020-06-20':]"
   ]
  },
  {
   "cell_type": "code",
   "execution_count": 41,
   "id": "220342dd",
   "metadata": {},
   "outputs": [
    {
     "data": {
      "text/plain": [
       "2017-10-01   -0.783189\n",
       "2017-10-02   -0.083995\n",
       "2017-10-03   -0.523536\n",
       "2017-10-04    0.334315\n",
       "2017-10-05   -0.280622\n",
       "                ...   \n",
       "2020-06-22   -1.369736\n",
       "2020-06-23    1.244773\n",
       "2020-06-24    1.300353\n",
       "2020-06-25   -0.418595\n",
       "2020-06-26    0.239586\n",
       "Freq: D, Name: C, Length: 1000, dtype: float64"
      ]
     },
     "execution_count": 41,
     "metadata": {},
     "output_type": "execute_result"
    }
   ],
   "source": [
    "tdf['C']"
   ]
  },
  {
   "cell_type": "code",
   "execution_count": 42,
   "id": "4e0ecf21",
   "metadata": {},
   "outputs": [
    {
     "data": {
      "text/plain": [
       "2020-01-01    0.148572\n",
       "2020-01-01    1.349365\n",
       "2020-01-02   -0.210217\n",
       "2020-01-02    1.279380\n",
       "2020-01-03    1.089443\n",
       "2020-01-04   -2.325704\n",
       "2020-01-05    0.351832\n",
       "2020-01-05   -0.186927\n",
       "2020-01-06    1.080250\n",
       "2020-01-07    0.018789\n",
       "dtype: float64"
      ]
     },
     "execution_count": 42,
     "metadata": {},
     "output_type": "execute_result"
    }
   ],
   "source": [
    "ts = pd.Series(np.random.randn(10),\n",
    "              index=pd.DatetimeIndex(['2020-01-01','2020-01-01','2020-01-02','2020-01-02','2020-01-03',\n",
    "                                     '2020-01-04','2020-01-05','2020-01-05','2020-01-06','2020-01-07']))\n",
    "ts"
   ]
  },
  {
   "cell_type": "code",
   "execution_count": 43,
   "id": "726874a4",
   "metadata": {},
   "outputs": [
    {
     "data": {
      "text/plain": [
       "False"
      ]
     },
     "execution_count": 43,
     "metadata": {},
     "output_type": "execute_result"
    }
   ],
   "source": [
    "ts.index.is_unique"
   ]
  },
  {
   "cell_type": "code",
   "execution_count": 44,
   "id": "8d12ded3",
   "metadata": {},
   "outputs": [
    {
     "data": {
      "text/plain": [
       "2020-01-01    0.148572\n",
       "2020-01-01    1.349365\n",
       "dtype: float64"
      ]
     },
     "execution_count": 44,
     "metadata": {},
     "output_type": "execute_result"
    }
   ],
   "source": [
    "ts['2020-01-01']"
   ]
  },
  {
   "cell_type": "code",
   "execution_count": 45,
   "id": "a46aa39a",
   "metadata": {},
   "outputs": [
    {
     "data": {
      "text/plain": [
       "2020-01-01    0.748969\n",
       "2020-01-02    0.534581\n",
       "2020-01-03    1.089443\n",
       "2020-01-04   -2.325704\n",
       "2020-01-05    0.082452\n",
       "2020-01-06    1.080250\n",
       "2020-01-07    0.018789\n",
       "dtype: float64"
      ]
     },
     "execution_count": 45,
     "metadata": {},
     "output_type": "execute_result"
    }
   ],
   "source": [
    "ts.groupby(level=0).mean()"
   ]
  },
  {
   "cell_type": "code",
   "execution_count": 46,
   "id": "3d4a5b32",
   "metadata": {},
   "outputs": [
    {
     "data": {
      "text/plain": [
       "DatetimeIndex(['2020-01-01', '2020-01-02', '2020-01-03', '2020-01-04',\n",
       "               '2020-01-05', '2020-01-06', '2020-01-07', '2020-01-08',\n",
       "               '2020-01-09', '2020-01-10',\n",
       "               ...\n",
       "               '2020-06-22', '2020-06-23', '2020-06-24', '2020-06-25',\n",
       "               '2020-06-26', '2020-06-27', '2020-06-28', '2020-06-29',\n",
       "               '2020-06-30', '2020-07-01'],\n",
       "              dtype='datetime64[ns]', length=183, freq='D')"
      ]
     },
     "execution_count": 46,
     "metadata": {},
     "output_type": "execute_result"
    }
   ],
   "source": [
    "pd.date_range('2020-01-01','2020-07-01')"
   ]
  },
  {
   "cell_type": "code",
   "execution_count": 47,
   "id": "1ac3813e",
   "metadata": {},
   "outputs": [
    {
     "data": {
      "text/plain": [
       "DatetimeIndex(['2020-01-01', '2020-01-02', '2020-01-03', '2020-01-04',\n",
       "               '2020-01-05', '2020-01-06', '2020-01-07', '2020-01-08',\n",
       "               '2020-01-09', '2020-01-10'],\n",
       "              dtype='datetime64[ns]', freq='D')"
      ]
     },
     "execution_count": 47,
     "metadata": {},
     "output_type": "execute_result"
    }
   ],
   "source": [
    "pd.date_range(start='2020-01-01',periods=10)"
   ]
  },
  {
   "cell_type": "code",
   "execution_count": 49,
   "id": "fedfade1",
   "metadata": {},
   "outputs": [
    {
     "data": {
      "text/plain": [
       "DatetimeIndex(['2020-06-22', '2020-06-23', '2020-06-24', '2020-06-25',\n",
       "               '2020-06-26', '2020-06-27', '2020-06-28', '2020-06-29',\n",
       "               '2020-06-30', '2020-07-01'],\n",
       "              dtype='datetime64[ns]', freq='D')"
      ]
     },
     "execution_count": 49,
     "metadata": {},
     "output_type": "execute_result"
    }
   ],
   "source": [
    "pd.date_range(end='2020-07-01',periods=10)"
   ]
  },
  {
   "cell_type": "code",
   "execution_count": 50,
   "id": "1b678816",
   "metadata": {},
   "outputs": [
    {
     "data": {
      "text/plain": [
       "DatetimeIndex(['2020-07-01', '2020-07-02', '2020-07-03', '2020-07-06',\n",
       "               '2020-07-07'],\n",
       "              dtype='datetime64[ns]', freq='B')"
      ]
     },
     "execution_count": 50,
     "metadata": {},
     "output_type": "execute_result"
    }
   ],
   "source": [
    "pd.date_range('2020-07-01','2020-07-7',freq='B')"
   ]
  },
  {
   "cell_type": "code",
   "execution_count": 51,
   "id": "122358f7",
   "metadata": {},
   "outputs": [
    {
     "data": {
      "text/plain": [
       "TimedeltaIndex(['0 days 00:00:00', '0 days 01:00:00', '0 days 02:00:00',\n",
       "                '0 days 03:00:00', '0 days 04:00:00', '0 days 05:00:00',\n",
       "                '0 days 06:00:00', '0 days 07:00:00', '0 days 08:00:00',\n",
       "                '0 days 09:00:00', '0 days 10:00:00', '0 days 11:00:00'],\n",
       "               dtype='timedelta64[ns]', freq='H')"
      ]
     },
     "execution_count": 51,
     "metadata": {},
     "output_type": "execute_result"
    }
   ],
   "source": [
    "pd.timedelta_range(0,periods=12,freq='H')"
   ]
  },
  {
   "cell_type": "code",
   "execution_count": 52,
   "id": "6259833c",
   "metadata": {},
   "outputs": [
    {
     "data": {
      "text/plain": [
       "TimedeltaIndex(['0 days 00:00:00', '0 days 00:01:00', '0 days 00:02:00',\n",
       "                '0 days 00:03:00', '0 days 00:04:00', '0 days 00:05:00',\n",
       "                '0 days 00:06:00', '0 days 00:07:00', '0 days 00:08:00',\n",
       "                '0 days 00:09:00', '0 days 00:10:00', '0 days 00:11:00',\n",
       "                '0 days 00:12:00', '0 days 00:13:00', '0 days 00:14:00',\n",
       "                '0 days 00:15:00', '0 days 00:16:00', '0 days 00:17:00',\n",
       "                '0 days 00:18:00', '0 days 00:19:00', '0 days 00:20:00',\n",
       "                '0 days 00:21:00', '0 days 00:22:00', '0 days 00:23:00',\n",
       "                '0 days 00:24:00', '0 days 00:25:00', '0 days 00:26:00',\n",
       "                '0 days 00:27:00', '0 days 00:28:00', '0 days 00:29:00',\n",
       "                '0 days 00:30:00', '0 days 00:31:00', '0 days 00:32:00',\n",
       "                '0 days 00:33:00', '0 days 00:34:00', '0 days 00:35:00',\n",
       "                '0 days 00:36:00', '0 days 00:37:00', '0 days 00:38:00',\n",
       "                '0 days 00:39:00', '0 days 00:40:00', '0 days 00:41:00',\n",
       "                '0 days 00:42:00', '0 days 00:43:00', '0 days 00:44:00',\n",
       "                '0 days 00:45:00', '0 days 00:46:00', '0 days 00:47:00',\n",
       "                '0 days 00:48:00', '0 days 00:49:00', '0 days 00:50:00',\n",
       "                '0 days 00:51:00', '0 days 00:52:00', '0 days 00:53:00',\n",
       "                '0 days 00:54:00', '0 days 00:55:00', '0 days 00:56:00',\n",
       "                '0 days 00:57:00', '0 days 00:58:00', '0 days 00:59:00'],\n",
       "               dtype='timedelta64[ns]', freq='T')"
      ]
     },
     "execution_count": 52,
     "metadata": {},
     "output_type": "execute_result"
    }
   ],
   "source": [
    "pd.timedelta_range(0,periods=60,freq='T')"
   ]
  },
  {
   "cell_type": "code",
   "execution_count": 53,
   "id": "b3715430",
   "metadata": {},
   "outputs": [
    {
     "data": {
      "text/plain": [
       "TimedeltaIndex(['0 days 00:00:00', '0 days 01:30:00', '0 days 03:00:00',\n",
       "                '0 days 04:30:00', '0 days 06:00:00', '0 days 07:30:00',\n",
       "                '0 days 09:00:00', '0 days 10:30:00', '0 days 12:00:00',\n",
       "                '0 days 13:30:00'],\n",
       "               dtype='timedelta64[ns]', freq='90T')"
      ]
     },
     "execution_count": 53,
     "metadata": {},
     "output_type": "execute_result"
    }
   ],
   "source": [
    "pd.timedelta_range(0,periods=10,freq='1H30T')"
   ]
  },
  {
   "cell_type": "code",
   "execution_count": 54,
   "id": "84f6dd35",
   "metadata": {},
   "outputs": [
    {
     "data": {
      "text/plain": [
       "DatetimeIndex(['2020-01-01', '2020-01-02', '2020-01-03', '2020-01-06',\n",
       "               '2020-01-07', '2020-01-08', '2020-01-09', '2020-01-10',\n",
       "               '2020-01-13', '2020-01-14', '2020-01-15', '2020-01-16',\n",
       "               '2020-01-17', '2020-01-20', '2020-01-21', '2020-01-22',\n",
       "               '2020-01-23', '2020-01-24', '2020-01-27', '2020-01-28'],\n",
       "              dtype='datetime64[ns]', freq='B')"
      ]
     },
     "execution_count": 54,
     "metadata": {},
     "output_type": "execute_result"
    }
   ],
   "source": [
    "pd.date_range('2020-01-01',periods=20,freq='B')"
   ]
  },
  {
   "cell_type": "code",
   "execution_count": 56,
   "id": "40959dd4",
   "metadata": {},
   "outputs": [
    {
     "data": {
      "text/plain": [
       "DatetimeIndex(['2020-01-01 00:00:00', '2020-01-01 02:00:00',\n",
       "               '2020-01-01 04:00:00', '2020-01-01 06:00:00',\n",
       "               '2020-01-01 08:00:00', '2020-01-01 10:00:00',\n",
       "               '2020-01-01 12:00:00', '2020-01-01 14:00:00',\n",
       "               '2020-01-01 16:00:00', '2020-01-01 18:00:00',\n",
       "               '2020-01-01 20:00:00', '2020-01-01 22:00:00',\n",
       "               '2020-01-02 00:00:00', '2020-01-02 02:00:00',\n",
       "               '2020-01-02 04:00:00', '2020-01-02 06:00:00',\n",
       "               '2020-01-02 08:00:00', '2020-01-02 10:00:00',\n",
       "               '2020-01-02 12:00:00', '2020-01-02 14:00:00',\n",
       "               '2020-01-02 16:00:00', '2020-01-02 18:00:00',\n",
       "               '2020-01-02 20:00:00', '2020-01-02 22:00:00',\n",
       "               '2020-01-03 00:00:00', '2020-01-03 02:00:00',\n",
       "               '2020-01-03 04:00:00', '2020-01-03 06:00:00',\n",
       "               '2020-01-03 08:00:00', '2020-01-03 10:00:00'],\n",
       "              dtype='datetime64[ns]', freq='2H')"
      ]
     },
     "execution_count": 56,
     "metadata": {},
     "output_type": "execute_result"
    }
   ],
   "source": [
    "pd.date_range('2020-01-01',periods=30,freq='2H')"
   ]
  },
  {
   "cell_type": "code",
   "execution_count": 57,
   "id": "0fd27a4a",
   "metadata": {},
   "outputs": [
    {
     "data": {
      "text/plain": [
       "DatetimeIndex(['2020-01-01 00:00:00', '2020-01-01 00:00:01',\n",
       "               '2020-01-01 00:00:02', '2020-01-01 00:00:03',\n",
       "               '2020-01-01 00:00:04', '2020-01-01 00:00:05',\n",
       "               '2020-01-01 00:00:06', '2020-01-01 00:00:07',\n",
       "               '2020-01-01 00:00:08', '2020-01-01 00:00:09',\n",
       "               '2020-01-01 00:00:10', '2020-01-01 00:00:11',\n",
       "               '2020-01-01 00:00:12', '2020-01-01 00:00:13',\n",
       "               '2020-01-01 00:00:14', '2020-01-01 00:00:15',\n",
       "               '2020-01-01 00:00:16', '2020-01-01 00:00:17',\n",
       "               '2020-01-01 00:00:18', '2020-01-01 00:00:19'],\n",
       "              dtype='datetime64[ns]', freq='S')"
      ]
     },
     "execution_count": 57,
     "metadata": {},
     "output_type": "execute_result"
    }
   ],
   "source": [
    "pd.date_range('2020-01-01',periods=20,freq='S')"
   ]
  },
  {
   "cell_type": "code",
   "execution_count": 58,
   "id": "a8b3cacd",
   "metadata": {},
   "outputs": [
    {
     "data": {
      "text/plain": [
       "2020-01-01    0.162423\n",
       "2020-01-02   -0.788876\n",
       "2020-01-03    0.772709\n",
       "2020-01-06   -0.325231\n",
       "2020-01-07   -0.109804\n",
       "Freq: B, dtype: float64"
      ]
     },
     "execution_count": 58,
     "metadata": {},
     "output_type": "execute_result"
    }
   ],
   "source": [
    "ts = pd.Series(np.random.randn(5),\n",
    "              index=pd.date_range('2020-01-01',periods=5,freq='B'))\n",
    "ts"
   ]
  },
  {
   "cell_type": "code",
   "execution_count": 59,
   "id": "9689ae57",
   "metadata": {},
   "outputs": [
    {
     "data": {
      "text/plain": [
       "2020-01-01         NaN\n",
       "2020-01-02    0.162423\n",
       "2020-01-03   -0.788876\n",
       "2020-01-06    0.772709\n",
       "2020-01-07   -0.325231\n",
       "Freq: B, dtype: float64"
      ]
     },
     "execution_count": 59,
     "metadata": {},
     "output_type": "execute_result"
    }
   ],
   "source": [
    "ts.shift(1)"
   ]
  },
  {
   "cell_type": "code",
   "execution_count": 60,
   "id": "3ee55818",
   "metadata": {},
   "outputs": [
    {
     "data": {
      "text/plain": [
       "2020-01-01         NaN\n",
       "2020-01-02         NaN\n",
       "2020-01-03         NaN\n",
       "2020-01-06    0.162423\n",
       "2020-01-07   -0.788876\n",
       "Freq: B, dtype: float64"
      ]
     },
     "execution_count": 60,
     "metadata": {},
     "output_type": "execute_result"
    }
   ],
   "source": [
    "ts.shift(3)"
   ]
  },
  {
   "cell_type": "code",
   "execution_count": 61,
   "id": "5e219f39",
   "metadata": {},
   "outputs": [
    {
     "data": {
      "text/plain": [
       "2020-01-01    0.772709\n",
       "2020-01-02   -0.325231\n",
       "2020-01-03   -0.109804\n",
       "2020-01-06         NaN\n",
       "2020-01-07         NaN\n",
       "Freq: B, dtype: float64"
      ]
     },
     "execution_count": 61,
     "metadata": {},
     "output_type": "execute_result"
    }
   ],
   "source": [
    "ts.shift(-2)"
   ]
  },
  {
   "cell_type": "code",
   "execution_count": 62,
   "id": "bc61d77b",
   "metadata": {},
   "outputs": [
    {
     "data": {
      "text/plain": [
       "2020-01-06    0.162423\n",
       "2020-01-07   -0.788876\n",
       "2020-01-08    0.772709\n",
       "2020-01-09   -0.325231\n",
       "2020-01-10   -0.109804\n",
       "Freq: B, dtype: float64"
      ]
     },
     "execution_count": 62,
     "metadata": {},
     "output_type": "execute_result"
    }
   ],
   "source": [
    "ts.shift(3,freq='B')"
   ]
  },
  {
   "cell_type": "code",
   "execution_count": 64,
   "id": "084ddb88",
   "metadata": {},
   "outputs": [
    {
     "data": {
      "text/plain": [
       "2020-01-12    0.162423\n",
       "2020-01-12   -0.788876\n",
       "2020-01-12    0.772709\n",
       "2020-01-19   -0.325231\n",
       "2020-01-19   -0.109804\n",
       "dtype: float64"
      ]
     },
     "execution_count": 64,
     "metadata": {},
     "output_type": "execute_result"
    }
   ],
   "source": [
    "ts.shift(2,freq='W')"
   ]
  },
  {
   "cell_type": "code",
   "execution_count": 65,
   "id": "24738291",
   "metadata": {},
   "outputs": [
    {
     "data": {
      "text/plain": [
       "['Africa/Abidjan', 'Africa/Accra', 'Africa/Addis_Ababa', 'Africa/Algiers', 'Africa/Asmara', 'Africa/Bamako', 'Africa/Bangui', 'Africa/Banjul', 'Africa/Bissau', 'Africa/Blantyre', 'Africa/Brazzaville', 'Africa/Bujumbura', 'Africa/Cairo', 'Africa/Casablanca', 'Africa/Ceuta', 'Africa/Conakry', 'Africa/Dakar', 'Africa/Dar_es_Salaam', 'Africa/Djibouti', 'Africa/Douala', 'Africa/El_Aaiun', 'Africa/Freetown', 'Africa/Gaborone', 'Africa/Harare', 'Africa/Johannesburg', 'Africa/Juba', 'Africa/Kampala', 'Africa/Khartoum', 'Africa/Kigali', 'Africa/Kinshasa', 'Africa/Lagos', 'Africa/Libreville', 'Africa/Lome', 'Africa/Luanda', 'Africa/Lubumbashi', 'Africa/Lusaka', 'Africa/Malabo', 'Africa/Maputo', 'Africa/Maseru', 'Africa/Mbabane', 'Africa/Mogadishu', 'Africa/Monrovia', 'Africa/Nairobi', 'Africa/Ndjamena', 'Africa/Niamey', 'Africa/Nouakchott', 'Africa/Ouagadougou', 'Africa/Porto-Novo', 'Africa/Sao_Tome', 'Africa/Tripoli', 'Africa/Tunis', 'Africa/Windhoek', 'America/Adak', 'America/Anchorage', 'America/Anguilla', 'America/Antigua', 'America/Araguaina', 'America/Argentina/Buenos_Aires', 'America/Argentina/Catamarca', 'America/Argentina/Cordoba', 'America/Argentina/Jujuy', 'America/Argentina/La_Rioja', 'America/Argentina/Mendoza', 'America/Argentina/Rio_Gallegos', 'America/Argentina/Salta', 'America/Argentina/San_Juan', 'America/Argentina/San_Luis', 'America/Argentina/Tucuman', 'America/Argentina/Ushuaia', 'America/Aruba', 'America/Asuncion', 'America/Atikokan', 'America/Bahia', 'America/Bahia_Banderas', 'America/Barbados', 'America/Belem', 'America/Belize', 'America/Blanc-Sablon', 'America/Boa_Vista', 'America/Bogota', 'America/Boise', 'America/Cambridge_Bay', 'America/Campo_Grande', 'America/Cancun', 'America/Caracas', 'America/Cayenne', 'America/Cayman', 'America/Chicago', 'America/Chihuahua', 'America/Costa_Rica', 'America/Creston', 'America/Cuiaba', 'America/Curacao', 'America/Danmarkshavn', 'America/Dawson', 'America/Dawson_Creek', 'America/Denver', 'America/Detroit', 'America/Dominica', 'America/Edmonton', 'America/Eirunepe', 'America/El_Salvador', 'America/Fort_Nelson', 'America/Fortaleza', 'America/Glace_Bay', 'America/Goose_Bay', 'America/Grand_Turk', 'America/Grenada', 'America/Guadeloupe', 'America/Guatemala', 'America/Guayaquil', 'America/Guyana', 'America/Halifax', 'America/Havana', 'America/Hermosillo', 'America/Indiana/Indianapolis', 'America/Indiana/Knox', 'America/Indiana/Marengo', 'America/Indiana/Petersburg', 'America/Indiana/Tell_City', 'America/Indiana/Vevay', 'America/Indiana/Vincennes', 'America/Indiana/Winamac', 'America/Inuvik', 'America/Iqaluit', 'America/Jamaica', 'America/Juneau', 'America/Kentucky/Louisville', 'America/Kentucky/Monticello', 'America/Kralendijk', 'America/La_Paz', 'America/Lima', 'America/Los_Angeles', 'America/Lower_Princes', 'America/Maceio', 'America/Managua', 'America/Manaus', 'America/Marigot', 'America/Martinique', 'America/Matamoros', 'America/Mazatlan', 'America/Menominee', 'America/Merida', 'America/Metlakatla', 'America/Mexico_City', 'America/Miquelon', 'America/Moncton', 'America/Monterrey', 'America/Montevideo', 'America/Montserrat', 'America/Nassau', 'America/New_York', 'America/Nipigon', 'America/Nome', 'America/Noronha', 'America/North_Dakota/Beulah', 'America/North_Dakota/Center', 'America/North_Dakota/New_Salem', 'America/Nuuk', 'America/Ojinaga', 'America/Panama', 'America/Pangnirtung', 'America/Paramaribo', 'America/Phoenix', 'America/Port-au-Prince', 'America/Port_of_Spain', 'America/Porto_Velho', 'America/Puerto_Rico', 'America/Punta_Arenas', 'America/Rainy_River', 'America/Rankin_Inlet', 'America/Recife', 'America/Regina', 'America/Resolute', 'America/Rio_Branco', 'America/Santarem', 'America/Santiago', 'America/Santo_Domingo', 'America/Sao_Paulo', 'America/Scoresbysund', 'America/Sitka', 'America/St_Barthelemy', 'America/St_Johns', 'America/St_Kitts', 'America/St_Lucia', 'America/St_Thomas', 'America/St_Vincent', 'America/Swift_Current', 'America/Tegucigalpa', 'America/Thule', 'America/Thunder_Bay', 'America/Tijuana', 'America/Toronto', 'America/Tortola', 'America/Vancouver', 'America/Whitehorse', 'America/Winnipeg', 'America/Yakutat', 'America/Yellowknife', 'Antarctica/Casey', 'Antarctica/Davis', 'Antarctica/DumontDUrville', 'Antarctica/Macquarie', 'Antarctica/Mawson', 'Antarctica/McMurdo', 'Antarctica/Palmer', 'Antarctica/Rothera', 'Antarctica/Syowa', 'Antarctica/Troll', 'Antarctica/Vostok', 'Arctic/Longyearbyen', 'Asia/Aden', 'Asia/Almaty', 'Asia/Amman', 'Asia/Anadyr', 'Asia/Aqtau', 'Asia/Aqtobe', 'Asia/Ashgabat', 'Asia/Atyrau', 'Asia/Baghdad', 'Asia/Bahrain', 'Asia/Baku', 'Asia/Bangkok', 'Asia/Barnaul', 'Asia/Beirut', 'Asia/Bishkek', 'Asia/Brunei', 'Asia/Chita', 'Asia/Choibalsan', 'Asia/Colombo', 'Asia/Damascus', 'Asia/Dhaka', 'Asia/Dili', 'Asia/Dubai', 'Asia/Dushanbe', 'Asia/Famagusta', 'Asia/Gaza', 'Asia/Hebron', 'Asia/Ho_Chi_Minh', 'Asia/Hong_Kong', 'Asia/Hovd', 'Asia/Irkutsk', 'Asia/Jakarta', 'Asia/Jayapura', 'Asia/Jerusalem', 'Asia/Kabul', 'Asia/Kamchatka', 'Asia/Karachi', 'Asia/Kathmandu', 'Asia/Khandyga', 'Asia/Kolkata', 'Asia/Krasnoyarsk', 'Asia/Kuala_Lumpur', 'Asia/Kuching', 'Asia/Kuwait', 'Asia/Macau', 'Asia/Magadan', 'Asia/Makassar', 'Asia/Manila', 'Asia/Muscat', 'Asia/Nicosia', 'Asia/Novokuznetsk', 'Asia/Novosibirsk', 'Asia/Omsk', 'Asia/Oral', 'Asia/Phnom_Penh', 'Asia/Pontianak', 'Asia/Pyongyang', 'Asia/Qatar', 'Asia/Qostanay', 'Asia/Qyzylorda', 'Asia/Riyadh', 'Asia/Sakhalin', 'Asia/Samarkand', 'Asia/Seoul', 'Asia/Shanghai', 'Asia/Singapore', 'Asia/Srednekolymsk', 'Asia/Taipei', 'Asia/Tashkent', 'Asia/Tbilisi', 'Asia/Tehran', 'Asia/Thimphu', 'Asia/Tokyo', 'Asia/Tomsk', 'Asia/Ulaanbaatar', 'Asia/Urumqi', 'Asia/Ust-Nera', 'Asia/Vientiane', 'Asia/Vladivostok', 'Asia/Yakutsk', 'Asia/Yangon', 'Asia/Yekaterinburg', 'Asia/Yerevan', 'Atlantic/Azores', 'Atlantic/Bermuda', 'Atlantic/Canary', 'Atlantic/Cape_Verde', 'Atlantic/Faroe', 'Atlantic/Madeira', 'Atlantic/Reykjavik', 'Atlantic/South_Georgia', 'Atlantic/St_Helena', 'Atlantic/Stanley', 'Australia/Adelaide', 'Australia/Brisbane', 'Australia/Broken_Hill', 'Australia/Darwin', 'Australia/Eucla', 'Australia/Hobart', 'Australia/Lindeman', 'Australia/Lord_Howe', 'Australia/Melbourne', 'Australia/Perth', 'Australia/Sydney', 'Canada/Atlantic', 'Canada/Central', 'Canada/Eastern', 'Canada/Mountain', 'Canada/Newfoundland', 'Canada/Pacific', 'Europe/Amsterdam', 'Europe/Andorra', 'Europe/Astrakhan', 'Europe/Athens', 'Europe/Belgrade', 'Europe/Berlin', 'Europe/Bratislava', 'Europe/Brussels', 'Europe/Bucharest', 'Europe/Budapest', 'Europe/Busingen', 'Europe/Chisinau', 'Europe/Copenhagen', 'Europe/Dublin', 'Europe/Gibraltar', 'Europe/Guernsey', 'Europe/Helsinki', 'Europe/Isle_of_Man', 'Europe/Istanbul', 'Europe/Jersey', 'Europe/Kaliningrad', 'Europe/Kiev', 'Europe/Kirov', 'Europe/Lisbon', 'Europe/Ljubljana', 'Europe/London', 'Europe/Luxembourg', 'Europe/Madrid', 'Europe/Malta', 'Europe/Mariehamn', 'Europe/Minsk', 'Europe/Monaco', 'Europe/Moscow', 'Europe/Oslo', 'Europe/Paris', 'Europe/Podgorica', 'Europe/Prague', 'Europe/Riga', 'Europe/Rome', 'Europe/Samara', 'Europe/San_Marino', 'Europe/Sarajevo', 'Europe/Saratov', 'Europe/Simferopol', 'Europe/Skopje', 'Europe/Sofia', 'Europe/Stockholm', 'Europe/Tallinn', 'Europe/Tirane', 'Europe/Ulyanovsk', 'Europe/Uzhgorod', 'Europe/Vaduz', 'Europe/Vatican', 'Europe/Vienna', 'Europe/Vilnius', 'Europe/Volgograd', 'Europe/Warsaw', 'Europe/Zagreb', 'Europe/Zaporozhye', 'Europe/Zurich', 'GMT', 'Indian/Antananarivo', 'Indian/Chagos', 'Indian/Christmas', 'Indian/Cocos', 'Indian/Comoro', 'Indian/Kerguelen', 'Indian/Mahe', 'Indian/Maldives', 'Indian/Mauritius', 'Indian/Mayotte', 'Indian/Reunion', 'Pacific/Apia', 'Pacific/Auckland', 'Pacific/Bougainville', 'Pacific/Chatham', 'Pacific/Chuuk', 'Pacific/Easter', 'Pacific/Efate', 'Pacific/Fakaofo', 'Pacific/Fiji', 'Pacific/Funafuti', 'Pacific/Galapagos', 'Pacific/Gambier', 'Pacific/Guadalcanal', 'Pacific/Guam', 'Pacific/Honolulu', 'Pacific/Kanton', 'Pacific/Kiritimati', 'Pacific/Kosrae', 'Pacific/Kwajalein', 'Pacific/Majuro', 'Pacific/Marquesas', 'Pacific/Midway', 'Pacific/Nauru', 'Pacific/Niue', 'Pacific/Norfolk', 'Pacific/Noumea', 'Pacific/Pago_Pago', 'Pacific/Palau', 'Pacific/Pitcairn', 'Pacific/Pohnpei', 'Pacific/Port_Moresby', 'Pacific/Rarotonga', 'Pacific/Saipan', 'Pacific/Tahiti', 'Pacific/Tarawa', 'Pacific/Tongatapu', 'Pacific/Wake', 'Pacific/Wallis', 'US/Alaska', 'US/Arizona', 'US/Central', 'US/Eastern', 'US/Hawaii', 'US/Mountain', 'US/Pacific', 'UTC']"
      ]
     },
     "execution_count": 65,
     "metadata": {},
     "output_type": "execute_result"
    }
   ],
   "source": [
    "import pytz\n",
    "pytz.common_timezones"
   ]
  },
  {
   "cell_type": "code",
   "execution_count": 66,
   "id": "1ac32bc2",
   "metadata": {},
   "outputs": [],
   "source": [
    "tz = pytz.timezone('Asia/Seoul')"
   ]
  },
  {
   "cell_type": "code",
   "execution_count": 68,
   "id": "2127a7c3",
   "metadata": {},
   "outputs": [
    {
     "data": {
      "text/plain": [
       "2020-01-01 09:00:00    0.226494\n",
       "2020-01-02 09:00:00   -0.188454\n",
       "2020-01-03 09:00:00   -0.682094\n",
       "2020-01-06 09:00:00    1.308248\n",
       "2020-01-07 09:00:00   -0.612956\n",
       "2020-01-08 09:00:00    0.842195\n",
       "2020-01-09 09:00:00   -1.746986\n",
       "Freq: B, dtype: float64"
      ]
     },
     "execution_count": 68,
     "metadata": {},
     "output_type": "execute_result"
    }
   ],
   "source": [
    "dinx = pd.date_range('2020-01-01 09:00',periods=7,freq='B')\n",
    "ts = pd.Series(np.random.randn(len(dinx)),index=dinx)\n",
    "ts"
   ]
  },
  {
   "cell_type": "code",
   "execution_count": 69,
   "id": "cc7fce32",
   "metadata": {},
   "outputs": [
    {
     "data": {
      "text/plain": [
       "DatetimeIndex(['2020-01-01 09:00:00+00:00', '2020-01-02 09:00:00+00:00',\n",
       "               '2020-01-03 09:00:00+00:00', '2020-01-06 09:00:00+00:00',\n",
       "               '2020-01-07 09:00:00+00:00', '2020-01-08 09:00:00+00:00',\n",
       "               '2020-01-09 09:00:00+00:00'],\n",
       "              dtype='datetime64[ns, UTC]', freq='B')"
      ]
     },
     "execution_count": 69,
     "metadata": {},
     "output_type": "execute_result"
    }
   ],
   "source": [
    "pd.date_range('2020-01-01 09:00',periods=7,freq='B',tz='UTC')"
   ]
  },
  {
   "cell_type": "code",
   "execution_count": 70,
   "id": "ce56d154",
   "metadata": {},
   "outputs": [
    {
     "data": {
      "text/plain": [
       "2020-01-01 09:00:00+00:00    0.226494\n",
       "2020-01-02 09:00:00+00:00   -0.188454\n",
       "2020-01-03 09:00:00+00:00   -0.682094\n",
       "2020-01-06 09:00:00+00:00    1.308248\n",
       "2020-01-07 09:00:00+00:00   -0.612956\n",
       "2020-01-08 09:00:00+00:00    0.842195\n",
       "2020-01-09 09:00:00+00:00   -1.746986\n",
       "Freq: B, dtype: float64"
      ]
     },
     "execution_count": 70,
     "metadata": {},
     "output_type": "execute_result"
    }
   ],
   "source": [
    "ts_utc=ts.tz_localize('UTC')\n",
    "ts_utc"
   ]
  },
  {
   "cell_type": "code",
   "execution_count": 71,
   "id": "9eeaedd5",
   "metadata": {},
   "outputs": [
    {
     "data": {
      "text/plain": [
       "DatetimeIndex(['2020-01-01 09:00:00+00:00', '2020-01-02 09:00:00+00:00',\n",
       "               '2020-01-03 09:00:00+00:00', '2020-01-06 09:00:00+00:00',\n",
       "               '2020-01-07 09:00:00+00:00', '2020-01-08 09:00:00+00:00',\n",
       "               '2020-01-09 09:00:00+00:00'],\n",
       "              dtype='datetime64[ns, UTC]', freq='B')"
      ]
     },
     "execution_count": 71,
     "metadata": {},
     "output_type": "execute_result"
    }
   ],
   "source": [
    "ts_utc.index"
   ]
  },
  {
   "cell_type": "code",
   "execution_count": 72,
   "id": "8d6e91c4",
   "metadata": {},
   "outputs": [
    {
     "data": {
      "text/plain": [
       "2020-01-01 18:00:00+09:00    0.226494\n",
       "2020-01-02 18:00:00+09:00   -0.188454\n",
       "2020-01-03 18:00:00+09:00   -0.682094\n",
       "2020-01-06 18:00:00+09:00    1.308248\n",
       "2020-01-07 18:00:00+09:00   -0.612956\n",
       "2020-01-08 18:00:00+09:00    0.842195\n",
       "2020-01-09 18:00:00+09:00   -1.746986\n",
       "Freq: B, dtype: float64"
      ]
     },
     "execution_count": 72,
     "metadata": {},
     "output_type": "execute_result"
    }
   ],
   "source": [
    "ts_utc.tz_convert('Asia/Seoul')"
   ]
  },
  {
   "cell_type": "code",
   "execution_count": 73,
   "id": "0ec4778a",
   "metadata": {},
   "outputs": [
    {
     "data": {
      "text/plain": [
       "2020-01-01 09:00:00+09:00    0.226494\n",
       "2020-01-02 09:00:00+09:00   -0.188454\n",
       "2020-01-03 09:00:00+09:00   -0.682094\n",
       "2020-01-06 09:00:00+09:00    1.308248\n",
       "2020-01-07 09:00:00+09:00   -0.612956\n",
       "2020-01-08 09:00:00+09:00    0.842195\n",
       "2020-01-09 09:00:00+09:00   -1.746986\n",
       "dtype: float64"
      ]
     },
     "execution_count": 73,
     "metadata": {},
     "output_type": "execute_result"
    }
   ],
   "source": [
    "ts_seoul = ts.tz_localize('Asia/Seoul')\n",
    "ts_seoul"
   ]
  },
  {
   "cell_type": "code",
   "execution_count": 74,
   "id": "3e6df899",
   "metadata": {},
   "outputs": [
    {
     "data": {
      "text/plain": [
       "2020-01-01 00:00:00+00:00    0.226494\n",
       "2020-01-02 00:00:00+00:00   -0.188454\n",
       "2020-01-03 00:00:00+00:00   -0.682094\n",
       "2020-01-06 00:00:00+00:00    1.308248\n",
       "2020-01-07 00:00:00+00:00   -0.612956\n",
       "2020-01-08 00:00:00+00:00    0.842195\n",
       "2020-01-09 00:00:00+00:00   -1.746986\n",
       "dtype: float64"
      ]
     },
     "execution_count": 74,
     "metadata": {},
     "output_type": "execute_result"
    }
   ],
   "source": [
    "ts_seoul.tz_convert('UTC')"
   ]
  },
  {
   "cell_type": "code",
   "execution_count": 75,
   "id": "a6e3c670",
   "metadata": {},
   "outputs": [
    {
     "data": {
      "text/plain": [
       "2020-01-01 01:00:00+01:00    0.226494\n",
       "2020-01-02 01:00:00+01:00   -0.188454\n",
       "2020-01-03 01:00:00+01:00   -0.682094\n",
       "2020-01-06 01:00:00+01:00    1.308248\n",
       "2020-01-07 01:00:00+01:00   -0.612956\n",
       "2020-01-08 01:00:00+01:00    0.842195\n",
       "2020-01-09 01:00:00+01:00   -1.746986\n",
       "dtype: float64"
      ]
     },
     "execution_count": 75,
     "metadata": {},
     "output_type": "execute_result"
    }
   ],
   "source": [
    "ts_seoul.tz_convert('Europe/Berlin')"
   ]
  },
  {
   "cell_type": "code",
   "execution_count": 76,
   "id": "e0ff15e7",
   "metadata": {},
   "outputs": [
    {
     "data": {
      "text/plain": [
       "DatetimeIndex(['2020-01-01 09:00:00-05:00', '2020-01-02 09:00:00-05:00',\n",
       "               '2020-01-03 09:00:00-05:00', '2020-01-06 09:00:00-05:00',\n",
       "               '2020-01-07 09:00:00-05:00', '2020-01-08 09:00:00-05:00',\n",
       "               '2020-01-09 09:00:00-05:00'],\n",
       "              dtype='datetime64[ns, America/New_York]', freq=None)"
      ]
     },
     "execution_count": 76,
     "metadata": {},
     "output_type": "execute_result"
    }
   ],
   "source": [
    "ts.index.tz_localize('America/New_York')"
   ]
  },
  {
   "cell_type": "code",
   "execution_count": 77,
   "id": "8289e8ba",
   "metadata": {},
   "outputs": [
    {
     "data": {
      "text/plain": [
       "Timestamp('2020-01-01 12:00:00+0000', tz='UTC')"
      ]
     },
     "execution_count": 77,
     "metadata": {},
     "output_type": "execute_result"
    }
   ],
   "source": [
    "stamp = pd.Timestamp('2020-01-01 12:00')\n",
    "stamp_utc = stamp.tz_localize('UTC')\n",
    "stamp_utc"
   ]
  },
  {
   "cell_type": "code",
   "execution_count": 78,
   "id": "7a5b8ef9",
   "metadata": {},
   "outputs": [
    {
     "data": {
      "text/plain": [
       "1577880000000000000"
      ]
     },
     "execution_count": 78,
     "metadata": {},
     "output_type": "execute_result"
    }
   ],
   "source": [
    "stamp_utc.value"
   ]
  },
  {
   "cell_type": "code",
   "execution_count": 80,
   "id": "72b8049f",
   "metadata": {},
   "outputs": [
    {
     "data": {
      "text/plain": [
       "Timestamp('2020-01-01 21:00:00+0900', tz='Asia/Seoul')"
      ]
     },
     "execution_count": 80,
     "metadata": {},
     "output_type": "execute_result"
    }
   ],
   "source": [
    "stamp_utc.tz_convert('Asia/Seoul')"
   ]
  },
  {
   "cell_type": "code",
   "execution_count": 81,
   "id": "369dbe2f",
   "metadata": {},
   "outputs": [
    {
     "data": {
      "text/plain": [
       "1577880000000000000"
      ]
     },
     "execution_count": 81,
     "metadata": {},
     "output_type": "execute_result"
    }
   ],
   "source": [
    "stamp_utc.tz_convert('Asia/Seoul').value"
   ]
  },
  {
   "cell_type": "code",
   "execution_count": 82,
   "id": "bb98107a",
   "metadata": {},
   "outputs": [
    {
     "data": {
      "text/plain": [
       "Timestamp('2020-01-01 12:00:00-0500', tz='America/New_York')"
      ]
     },
     "execution_count": 82,
     "metadata": {},
     "output_type": "execute_result"
    }
   ],
   "source": [
    "stamp_ny = pd.Timestamp('2020-01-01 12:00',tz='America/New_York')\n",
    "stamp_ny"
   ]
  },
  {
   "cell_type": "code",
   "execution_count": 83,
   "id": "56efc1c5",
   "metadata": {},
   "outputs": [
    {
     "data": {
      "text/plain": [
       "1577880000000000000"
      ]
     },
     "execution_count": 83,
     "metadata": {},
     "output_type": "execute_result"
    }
   ],
   "source": [
    "stamp_utc.value"
   ]
  },
  {
   "cell_type": "code",
   "execution_count": 84,
   "id": "98cbc7b7",
   "metadata": {},
   "outputs": [
    {
     "data": {
      "text/plain": [
       "1577898000000000000"
      ]
     },
     "execution_count": 84,
     "metadata": {},
     "output_type": "execute_result"
    }
   ],
   "source": [
    "stamp_ny.value"
   ]
  },
  {
   "cell_type": "code",
   "execution_count": 85,
   "id": "747f0a64",
   "metadata": {},
   "outputs": [
    {
     "data": {
      "text/plain": [
       "Timestamp('2020-01-01 20:00:00+0800', tz='Asia/Shanghai')"
      ]
     },
     "execution_count": 85,
     "metadata": {},
     "output_type": "execute_result"
    }
   ],
   "source": [
    "stamp_utc.tz_convert('Asia/Shanghai')"
   ]
  },
  {
   "cell_type": "code",
   "execution_count": 89,
   "id": "081928fb",
   "metadata": {},
   "outputs": [
    {
     "data": {
      "text/plain": [
       "Timestamp('2020-01-01 12:00:00+0900', tz='Asia/Seoul')"
      ]
     },
     "execution_count": 89,
     "metadata": {},
     "output_type": "execute_result"
    }
   ],
   "source": [
    "stamp = pd.Timestamp('2020-01-01 12:00',tz='Asia/Seoul')\n",
    "stamp"
   ]
  },
  {
   "cell_type": "code",
   "execution_count": 90,
   "id": "c3865f7e",
   "metadata": {},
   "outputs": [
    {
     "data": {
      "text/plain": [
       "Timestamp('2020-01-01 13:00:00+0900', tz='Asia/Seoul')"
      ]
     },
     "execution_count": 90,
     "metadata": {},
     "output_type": "execute_result"
    }
   ],
   "source": [
    "from pandas.tseries.offsets import Hour\n",
    "stamp + Hour()"
   ]
  },
  {
   "cell_type": "code",
   "execution_count": 91,
   "id": "d8f4b8de",
   "metadata": {},
   "outputs": [
    {
     "data": {
      "text/plain": [
       "Timestamp('2020-01-01 15:00:00+0900', tz='Asia/Seoul')"
      ]
     },
     "execution_count": 91,
     "metadata": {},
     "output_type": "execute_result"
    }
   ],
   "source": [
    "stamp + 3*Hour()"
   ]
  },
  {
   "cell_type": "code",
   "execution_count": 92,
   "id": "18f80179",
   "metadata": {},
   "outputs": [
    {
     "data": {
      "text/plain": [
       "2020-01-01 09:00:00+00:00    0.226494\n",
       "2020-01-02 09:00:00+00:00   -0.188454\n",
       "2020-01-03 09:00:00+00:00   -0.682094\n",
       "2020-01-06 09:00:00+00:00    1.308248\n",
       "2020-01-07 09:00:00+00:00   -0.612956\n",
       "2020-01-08 09:00:00+00:00    0.842195\n",
       "2020-01-09 09:00:00+00:00   -1.746986\n",
       "Freq: B, dtype: float64"
      ]
     },
     "execution_count": 92,
     "metadata": {},
     "output_type": "execute_result"
    }
   ],
   "source": [
    "ts_utc"
   ]
  },
  {
   "cell_type": "code",
   "execution_count": 93,
   "id": "9c981f86",
   "metadata": {},
   "outputs": [],
   "source": [
    "ts1 = ts_utc[:5].tz_convert('Europe/Berlin')\n",
    "ts2 = ts_utc[2:].tz_convert('America/New_York')\n",
    "ts = ts1 + ts2"
   ]
  },
  {
   "cell_type": "code",
   "execution_count": 94,
   "id": "05c607d7",
   "metadata": {},
   "outputs": [
    {
     "data": {
      "text/plain": [
       "DatetimeIndex(['2020-01-01 09:00:00+00:00', '2020-01-02 09:00:00+00:00',\n",
       "               '2020-01-03 09:00:00+00:00', '2020-01-06 09:00:00+00:00',\n",
       "               '2020-01-07 09:00:00+00:00', '2020-01-08 09:00:00+00:00',\n",
       "               '2020-01-09 09:00:00+00:00'],\n",
       "              dtype='datetime64[ns, UTC]', freq='B')"
      ]
     },
     "execution_count": 94,
     "metadata": {},
     "output_type": "execute_result"
    }
   ],
   "source": [
    "ts.index"
   ]
  },
  {
   "cell_type": "code",
   "execution_count": 95,
   "id": "5b06aa7a",
   "metadata": {},
   "outputs": [
    {
     "data": {
      "text/plain": [
       "Period('2020', 'A-JAN')"
      ]
     },
     "execution_count": 95,
     "metadata": {},
     "output_type": "execute_result"
    }
   ],
   "source": [
    "p = pd.Period(2020,freq='A-JAN')\n",
    "p"
   ]
  },
  {
   "cell_type": "code",
   "execution_count": 96,
   "id": "39f7557b",
   "metadata": {},
   "outputs": [
    {
     "data": {
      "text/plain": [
       "Period('2022', 'A-JAN')"
      ]
     },
     "execution_count": 96,
     "metadata": {},
     "output_type": "execute_result"
    }
   ],
   "source": [
    "p + 2"
   ]
  },
  {
   "cell_type": "code",
   "execution_count": 97,
   "id": "b6871fd3",
   "metadata": {},
   "outputs": [
    {
     "data": {
      "text/plain": [
       "Period('2017', 'A-JAN')"
      ]
     },
     "execution_count": 97,
     "metadata": {},
     "output_type": "execute_result"
    }
   ],
   "source": [
    "p - 3"
   ]
  },
  {
   "cell_type": "code",
   "execution_count": 98,
   "id": "63bcc7fe",
   "metadata": {},
   "outputs": [
    {
     "data": {
      "text/plain": [
       "<10 * YearEnds: month=1>"
      ]
     },
     "execution_count": 98,
     "metadata": {},
     "output_type": "execute_result"
    }
   ],
   "source": [
    "p1 = pd.Period(2010,freq='A-JAN')\n",
    "p2 = pd.Period(2020,freq='A-JAN')\n",
    "p2-p1"
   ]
  },
  {
   "cell_type": "code",
   "execution_count": 99,
   "id": "591a1da4",
   "metadata": {},
   "outputs": [],
   "source": [
    "pr = pd.period_range('2020-01-01','2020-06-30',freq='M')"
   ]
  },
  {
   "cell_type": "code",
   "execution_count": 100,
   "id": "16ada85f",
   "metadata": {},
   "outputs": [
    {
     "data": {
      "text/plain": [
       "2020-01   -0.747370\n",
       "2020-02   -0.398733\n",
       "2020-03    0.645335\n",
       "2020-04   -0.432767\n",
       "2020-05    1.527128\n",
       "2020-06    0.754727\n",
       "Freq: M, dtype: float64"
      ]
     },
     "execution_count": 100,
     "metadata": {},
     "output_type": "execute_result"
    }
   ],
   "source": [
    "pd.Series(np.random.randn(6),index=pr)"
   ]
  },
  {
   "cell_type": "code",
   "execution_count": 101,
   "id": "992aec15",
   "metadata": {},
   "outputs": [
    {
     "data": {
      "text/plain": [
       "PeriodIndex(['2020-01', '2020-02', '2020-04'], dtype='period[M]')"
      ]
     },
     "execution_count": 101,
     "metadata": {},
     "output_type": "execute_result"
    }
   ],
   "source": [
    "pidx = pd.PeriodIndex(['2020-1','2020-2','2020-4'],freq='M')\n",
    "pidx"
   ]
  },
  {
   "cell_type": "code",
   "execution_count": 102,
   "id": "3b78e8e8",
   "metadata": {},
   "outputs": [
    {
     "data": {
      "text/plain": [
       "Period('2020', 'A-FEB')"
      ]
     },
     "execution_count": 102,
     "metadata": {},
     "output_type": "execute_result"
    }
   ],
   "source": [
    "p = pd.Period('2020',freq='A-FEB')\n",
    "p"
   ]
  },
  {
   "cell_type": "code",
   "execution_count": 103,
   "id": "44e221ef",
   "metadata": {},
   "outputs": [
    {
     "data": {
      "text/plain": [
       "Period('2019-03', 'M')"
      ]
     },
     "execution_count": 103,
     "metadata": {},
     "output_type": "execute_result"
    }
   ],
   "source": [
    "p.asfreq('M',how='start')"
   ]
  },
  {
   "cell_type": "code",
   "execution_count": 104,
   "id": "52400180",
   "metadata": {},
   "outputs": [
    {
     "data": {
      "text/plain": [
       "Period('2020-02', 'M')"
      ]
     },
     "execution_count": 104,
     "metadata": {},
     "output_type": "execute_result"
    }
   ],
   "source": [
    "p.asfreq('M',how='end')"
   ]
  },
  {
   "cell_type": "code",
   "execution_count": 105,
   "id": "a640e6d9",
   "metadata": {},
   "outputs": [
    {
     "data": {
      "text/plain": [
       "Period('2020', 'A-OCT')"
      ]
     },
     "execution_count": 105,
     "metadata": {},
     "output_type": "execute_result"
    }
   ],
   "source": [
    "p = pd.Period('2020',freq='A-OCT')\n",
    "p"
   ]
  },
  {
   "cell_type": "code",
   "execution_count": 106,
   "id": "f08d7687",
   "metadata": {},
   "outputs": [
    {
     "data": {
      "text/plain": [
       "Period('2019-11', 'M')"
      ]
     },
     "execution_count": 106,
     "metadata": {},
     "output_type": "execute_result"
    }
   ],
   "source": [
    "p.asfreq('M',how='start')"
   ]
  },
  {
   "cell_type": "code",
   "execution_count": 107,
   "id": "8ad022c3",
   "metadata": {},
   "outputs": [
    {
     "data": {
      "text/plain": [
       "Period('2020-10', 'M')"
      ]
     },
     "execution_count": 107,
     "metadata": {},
     "output_type": "execute_result"
    }
   ],
   "source": [
    "p.asfreq('M',how='end')"
   ]
  },
  {
   "cell_type": "code",
   "execution_count": 109,
   "id": "190be779",
   "metadata": {},
   "outputs": [
    {
     "data": {
      "text/plain": [
       "2010   -1.624603\n",
       "2011   -0.465196\n",
       "2012   -0.366136\n",
       "2013   -0.920839\n",
       "2014   -0.878749\n",
       "2015   -1.863723\n",
       "2016    0.278762\n",
       "2017    1.070546\n",
       "2018    0.351300\n",
       "2019    2.540485\n",
       "2020    0.033089\n",
       "Freq: A-JAN, dtype: float64"
      ]
     },
     "execution_count": 109,
     "metadata": {},
     "output_type": "execute_result"
    }
   ],
   "source": [
    "pr = pd.period_range('2010','2020',freq='A-JAN')\n",
    "ts = pd.Series(np.random.randn(len(pr)),index=pr)\n",
    "ts"
   ]
  },
  {
   "cell_type": "code",
   "execution_count": 110,
   "id": "70b9dbad",
   "metadata": {},
   "outputs": [
    {
     "data": {
      "text/plain": [
       "2009-02   -1.624603\n",
       "2010-02   -0.465196\n",
       "2011-02   -0.366136\n",
       "2012-02   -0.920839\n",
       "2013-02   -0.878749\n",
       "2014-02   -1.863723\n",
       "2015-02    0.278762\n",
       "2016-02    1.070546\n",
       "2017-02    0.351300\n",
       "2018-02    2.540485\n",
       "2019-02    0.033089\n",
       "Freq: M, dtype: float64"
      ]
     },
     "execution_count": 110,
     "metadata": {},
     "output_type": "execute_result"
    }
   ],
   "source": [
    "ts.asfreq('M',how='start')"
   ]
  },
  {
   "cell_type": "code",
   "execution_count": 112,
   "id": "7908c933",
   "metadata": {},
   "outputs": [
    {
     "data": {
      "text/plain": [
       "2010-01-29   -1.624603\n",
       "2011-01-31   -0.465196\n",
       "2012-01-31   -0.366136\n",
       "2013-01-31   -0.920839\n",
       "2014-01-31   -0.878749\n",
       "2015-01-30   -1.863723\n",
       "2016-01-29    0.278762\n",
       "2017-01-31    1.070546\n",
       "2018-01-31    0.351300\n",
       "2019-01-31    2.540485\n",
       "2020-01-31    0.033089\n",
       "Freq: B, dtype: float64"
      ]
     },
     "execution_count": 112,
     "metadata": {},
     "output_type": "execute_result"
    }
   ],
   "source": [
    "ts.asfreq('B',how='end')"
   ]
  },
  {
   "cell_type": "code",
   "execution_count": 113,
   "id": "5a37814c",
   "metadata": {},
   "outputs": [
    {
     "data": {
      "text/plain": [
       "Period('2020Q2', 'Q-JAN')"
      ]
     },
     "execution_count": 113,
     "metadata": {},
     "output_type": "execute_result"
    }
   ],
   "source": [
    "p = pd.Period('2020Q2',freq='Q-JAN')\n",
    "p"
   ]
  },
  {
   "cell_type": "code",
   "execution_count": 114,
   "id": "03eec953",
   "metadata": {},
   "outputs": [
    {
     "data": {
      "text/plain": [
       "Period('2019-05-01', 'D')"
      ]
     },
     "execution_count": 114,
     "metadata": {},
     "output_type": "execute_result"
    }
   ],
   "source": [
    "p.asfreq('D','start')"
   ]
  },
  {
   "cell_type": "code",
   "execution_count": 115,
   "id": "d293992f",
   "metadata": {},
   "outputs": [
    {
     "data": {
      "text/plain": [
       "Period('2019-07-31', 'D')"
      ]
     },
     "execution_count": 115,
     "metadata": {},
     "output_type": "execute_result"
    }
   ],
   "source": [
    "p.asfreq('D','end')"
   ]
  },
  {
   "cell_type": "code",
   "execution_count": 116,
   "id": "e5cb92ad",
   "metadata": {},
   "outputs": [
    {
     "data": {
      "text/plain": [
       "2019Q3    0\n",
       "2019Q4    1\n",
       "2020Q1    2\n",
       "2020Q2    3\n",
       "2020Q3    4\n",
       "Freq: Q-JAN, dtype: int32"
      ]
     },
     "execution_count": 116,
     "metadata": {},
     "output_type": "execute_result"
    }
   ],
   "source": [
    "pr = pd.period_range('2019Q3','2020Q3',freq='Q-JAN')\n",
    "ts = pd.Series(np.arange(len(pr)),index=pr)\n",
    "ts"
   ]
  },
  {
   "cell_type": "code",
   "execution_count": 119,
   "id": "963a71e8",
   "metadata": {},
   "outputs": [
    {
     "data": {
      "text/plain": [
       "2020-01-31    0.629082\n",
       "2020-04-30   -0.376216\n",
       "2020-07-31   -0.548479\n",
       "2020-10-31    1.259637\n",
       "2021-01-31   -0.544977\n",
       "Freq: Q-JAN, dtype: float64"
      ]
     },
     "execution_count": 119,
     "metadata": {},
     "output_type": "execute_result"
    }
   ],
   "source": [
    "pr = pd.date_range('2020-01-01',periods=5,freq='Q-JAN')\n",
    "ts = pd.Series(np.random.randn(5),index=pr)\n",
    "ts"
   ]
  },
  {
   "cell_type": "code",
   "execution_count": 120,
   "id": "dcde6b9e",
   "metadata": {},
   "outputs": [
    {
     "data": {
      "text/plain": [
       "2020Q4    0.629082\n",
       "2021Q1   -0.376216\n",
       "2021Q2   -0.548479\n",
       "2021Q3    1.259637\n",
       "2021Q4   -0.544977\n",
       "Freq: Q-JAN, dtype: float64"
      ]
     },
     "execution_count": 120,
     "metadata": {},
     "output_type": "execute_result"
    }
   ],
   "source": [
    "ts.to_period()"
   ]
  },
  {
   "cell_type": "code",
   "execution_count": 122,
   "id": "0a652c64",
   "metadata": {},
   "outputs": [
    {
     "data": {
      "text/plain": [
       "2020-01-01   -0.456588\n",
       "2020-01-02   -0.870923\n",
       "2020-01-03   -0.116686\n",
       "2020-01-04   -0.815184\n",
       "2020-01-05   -2.130040\n",
       "Freq: D, dtype: float64"
      ]
     },
     "execution_count": 122,
     "metadata": {},
     "output_type": "execute_result"
    }
   ],
   "source": [
    "pr = pd.date_range('2020-01-01',periods=5,freq='D')\n",
    "ts = pd.Series(np.random.randn(5),index=pr)\n",
    "ts"
   ]
  },
  {
   "cell_type": "code",
   "execution_count": 123,
   "id": "ae5fe966",
   "metadata": {},
   "outputs": [
    {
     "data": {
      "text/plain": [
       "2020-01   -0.456588\n",
       "2020-01   -0.870923\n",
       "2020-01   -0.116686\n",
       "2020-01   -0.815184\n",
       "2020-01   -2.130040\n",
       "Freq: M, dtype: float64"
      ]
     },
     "execution_count": 123,
     "metadata": {},
     "output_type": "execute_result"
    }
   ],
   "source": [
    "p = ts.to_period('M')\n",
    "p"
   ]
  },
  {
   "cell_type": "code",
   "execution_count": 124,
   "id": "8a89b2a6",
   "metadata": {},
   "outputs": [
    {
     "data": {
      "text/plain": [
       "2020-01-01   -0.456588\n",
       "2020-01-01   -0.870923\n",
       "2020-01-01   -0.116686\n",
       "2020-01-01   -0.815184\n",
       "2020-01-01   -2.130040\n",
       "dtype: float64"
      ]
     },
     "execution_count": 124,
     "metadata": {},
     "output_type": "execute_result"
    }
   ],
   "source": [
    "p.to_timestamp(how='start')"
   ]
  },
  {
   "cell_type": "code",
   "execution_count": 125,
   "id": "0773c780",
   "metadata": {},
   "outputs": [],
   "source": [
    "###리샘플링(다운, 업)"
   ]
  },
  {
   "cell_type": "code",
   "execution_count": 126,
   "id": "69cc7662",
   "metadata": {},
   "outputs": [
    {
     "data": {
      "text/plain": [
       "2020-01-01   -0.522476\n",
       "2020-01-02   -0.010088\n",
       "2020-01-03   -0.698844\n",
       "2020-01-04   -0.083493\n",
       "2020-01-05   -0.958726\n",
       "                ...   \n",
       "2020-07-14   -0.725541\n",
       "2020-07-15    1.053119\n",
       "2020-07-16    1.280782\n",
       "2020-07-17    1.105134\n",
       "2020-07-18   -0.092969\n",
       "Freq: D, Length: 200, dtype: float64"
      ]
     },
     "execution_count": 126,
     "metadata": {},
     "output_type": "execute_result"
    }
   ],
   "source": [
    "dr = pd.date_range('2020-01-01',periods=200,freq='D')\n",
    "ts = pd.Series(np.random.randn(len(dr)),index=dr)\n",
    "ts"
   ]
  },
  {
   "cell_type": "code",
   "execution_count": 127,
   "id": "646f356c",
   "metadata": {},
   "outputs": [
    {
     "data": {
      "text/plain": [
       "2020-01-31    0.129056\n",
       "2020-02-29    0.061464\n",
       "2020-03-31   -0.219516\n",
       "2020-04-30   -0.160642\n",
       "2020-05-31    0.158249\n",
       "2020-06-30   -0.090032\n",
       "2020-07-31    0.116535\n",
       "Freq: M, dtype: float64"
      ]
     },
     "execution_count": 127,
     "metadata": {},
     "output_type": "execute_result"
    }
   ],
   "source": [
    "ts.resample('M').mean()"
   ]
  },
  {
   "cell_type": "code",
   "execution_count": 128,
   "id": "9b20e78f",
   "metadata": {},
   "outputs": [
    {
     "data": {
      "text/plain": [
       "2020-01    0.129056\n",
       "2020-02    0.061464\n",
       "2020-03   -0.219516\n",
       "2020-04   -0.160642\n",
       "2020-05    0.158249\n",
       "2020-06   -0.090032\n",
       "2020-07    0.116535\n",
       "Freq: M, dtype: float64"
      ]
     },
     "execution_count": 128,
     "metadata": {},
     "output_type": "execute_result"
    }
   ],
   "source": [
    "ts.resample('M',kind='period').mean()"
   ]
  },
  {
   "cell_type": "code",
   "execution_count": 129,
   "id": "21df943a",
   "metadata": {},
   "outputs": [
    {
     "data": {
      "text/plain": [
       "2020-01-01 00:00:00    0\n",
       "2020-01-01 00:01:00    1\n",
       "2020-01-01 00:02:00    2\n",
       "2020-01-01 00:03:00    3\n",
       "2020-01-01 00:04:00    4\n",
       "2020-01-01 00:05:00    5\n",
       "2020-01-01 00:06:00    6\n",
       "2020-01-01 00:07:00    7\n",
       "2020-01-01 00:08:00    8\n",
       "2020-01-01 00:09:00    9\n",
       "Freq: T, dtype: int32"
      ]
     },
     "execution_count": 129,
     "metadata": {},
     "output_type": "execute_result"
    }
   ],
   "source": [
    "dr = pd.date_range('2020-01-01',periods=10,freq='T')\n",
    "ts = pd.Series(np.arange(10),index=dr)\n",
    "ts"
   ]
  },
  {
   "cell_type": "code",
   "execution_count": 130,
   "id": "5b1acc8a",
   "metadata": {},
   "outputs": [
    {
     "data": {
      "text/plain": [
       "2020-01-01 00:00:00     1\n",
       "2020-01-01 00:02:00     5\n",
       "2020-01-01 00:04:00     9\n",
       "2020-01-01 00:06:00    13\n",
       "2020-01-01 00:08:00    17\n",
       "Freq: 2T, dtype: int32"
      ]
     },
     "execution_count": 130,
     "metadata": {},
     "output_type": "execute_result"
    }
   ],
   "source": [
    "ts.resample('2T',closed='left').sum()"
   ]
  },
  {
   "cell_type": "code",
   "execution_count": 131,
   "id": "4aa8ecbb",
   "metadata": {},
   "outputs": [
    {
     "data": {
      "text/plain": [
       "2019-12-31 23:58:00     0\n",
       "2020-01-01 00:00:00     3\n",
       "2020-01-01 00:02:00     7\n",
       "2020-01-01 00:04:00    11\n",
       "2020-01-01 00:06:00    15\n",
       "2020-01-01 00:08:00     9\n",
       "Freq: 2T, dtype: int32"
      ]
     },
     "execution_count": 131,
     "metadata": {},
     "output_type": "execute_result"
    }
   ],
   "source": [
    "ts.resample('2T',closed='right').sum()"
   ]
  },
  {
   "cell_type": "code",
   "execution_count": 132,
   "id": "520a7a4f",
   "metadata": {},
   "outputs": [
    {
     "data": {
      "text/plain": [
       "2020-01-01 00:00:00     0\n",
       "2020-01-01 00:02:00     3\n",
       "2020-01-01 00:04:00     7\n",
       "2020-01-01 00:06:00    11\n",
       "2020-01-01 00:08:00    15\n",
       "2020-01-01 00:10:00     9\n",
       "Freq: 2T, dtype: int32"
      ]
     },
     "execution_count": 132,
     "metadata": {},
     "output_type": "execute_result"
    }
   ],
   "source": [
    "ts.resample('2T',closed='right',label='right').sum()"
   ]
  },
  {
   "cell_type": "code",
   "execution_count": 133,
   "id": "4e3fe52a",
   "metadata": {},
   "outputs": [
    {
     "name": "stderr",
     "output_type": "stream",
     "text": [
      "C:\\Users\\zmzm1\\miniconda3\\lib\\site-packages\\ipykernel_launcher.py:1: FutureWarning: 'loffset' in .resample() and in Grouper() is deprecated.\n",
      "\n",
      ">>> df.resample(freq=\"3s\", loffset=\"8H\")\n",
      "\n",
      "becomes:\n",
      "\n",
      ">>> from pandas.tseries.frequencies import to_offset\n",
      ">>> df = df.resample(freq=\"3s\").mean()\n",
      ">>> df.index = df.index.to_timestamp() + to_offset(\"8H\")\n",
      "\n",
      "  \"\"\"Entry point for launching an IPython kernel.\n"
     ]
    },
    {
     "data": {
      "text/plain": [
       "2019-12-31 23:59:59     0\n",
       "2020-01-01 00:01:59     3\n",
       "2020-01-01 00:03:59     7\n",
       "2020-01-01 00:05:59    11\n",
       "2020-01-01 00:07:59    15\n",
       "2020-01-01 00:09:59     9\n",
       "Freq: 2T, dtype: int32"
      ]
     },
     "execution_count": 133,
     "metadata": {},
     "output_type": "execute_result"
    }
   ],
   "source": [
    "ts.resample('2T',closed='right',label='right',loffset='-1s').sum()"
   ]
  },
  {
   "cell_type": "code",
   "execution_count": 134,
   "id": "58fbe5e1",
   "metadata": {},
   "outputs": [
    {
     "data": {
      "text/html": [
       "<div>\n",
       "<style scoped>\n",
       "    .dataframe tbody tr th:only-of-type {\n",
       "        vertical-align: middle;\n",
       "    }\n",
       "\n",
       "    .dataframe tbody tr th {\n",
       "        vertical-align: top;\n",
       "    }\n",
       "\n",
       "    .dataframe thead th {\n",
       "        text-align: right;\n",
       "    }\n",
       "</style>\n",
       "<table border=\"1\" class=\"dataframe\">\n",
       "  <thead>\n",
       "    <tr style=\"text-align: right;\">\n",
       "      <th></th>\n",
       "      <th>open</th>\n",
       "      <th>high</th>\n",
       "      <th>low</th>\n",
       "      <th>close</th>\n",
       "    </tr>\n",
       "  </thead>\n",
       "  <tbody>\n",
       "    <tr>\n",
       "      <th>2020-01-01 00:00:00</th>\n",
       "      <td>0</td>\n",
       "      <td>1</td>\n",
       "      <td>0</td>\n",
       "      <td>1</td>\n",
       "    </tr>\n",
       "    <tr>\n",
       "      <th>2020-01-01 00:02:00</th>\n",
       "      <td>2</td>\n",
       "      <td>3</td>\n",
       "      <td>2</td>\n",
       "      <td>3</td>\n",
       "    </tr>\n",
       "    <tr>\n",
       "      <th>2020-01-01 00:04:00</th>\n",
       "      <td>4</td>\n",
       "      <td>5</td>\n",
       "      <td>4</td>\n",
       "      <td>5</td>\n",
       "    </tr>\n",
       "    <tr>\n",
       "      <th>2020-01-01 00:06:00</th>\n",
       "      <td>6</td>\n",
       "      <td>7</td>\n",
       "      <td>6</td>\n",
       "      <td>7</td>\n",
       "    </tr>\n",
       "    <tr>\n",
       "      <th>2020-01-01 00:08:00</th>\n",
       "      <td>8</td>\n",
       "      <td>9</td>\n",
       "      <td>8</td>\n",
       "      <td>9</td>\n",
       "    </tr>\n",
       "  </tbody>\n",
       "</table>\n",
       "</div>"
      ],
      "text/plain": [
       "                     open  high  low  close\n",
       "2020-01-01 00:00:00     0     1    0      1\n",
       "2020-01-01 00:02:00     2     3    2      3\n",
       "2020-01-01 00:04:00     4     5    4      5\n",
       "2020-01-01 00:06:00     6     7    6      7\n",
       "2020-01-01 00:08:00     8     9    8      9"
      ]
     },
     "execution_count": 134,
     "metadata": {},
     "output_type": "execute_result"
    }
   ],
   "source": [
    "ts.resample('2T').ohlc()"
   ]
  },
  {
   "cell_type": "code",
   "execution_count": 136,
   "id": "bdcacb76",
   "metadata": {},
   "outputs": [
    {
     "data": {
      "text/html": [
       "<div>\n",
       "<style scoped>\n",
       "    .dataframe tbody tr th:only-of-type {\n",
       "        vertical-align: middle;\n",
       "    }\n",
       "\n",
       "    .dataframe tbody tr th {\n",
       "        vertical-align: top;\n",
       "    }\n",
       "\n",
       "    .dataframe thead th {\n",
       "        text-align: right;\n",
       "    }\n",
       "</style>\n",
       "<table border=\"1\" class=\"dataframe\">\n",
       "  <thead>\n",
       "    <tr style=\"text-align: right;\">\n",
       "      <th></th>\n",
       "      <th>C1</th>\n",
       "      <th>C2</th>\n",
       "      <th>C3</th>\n",
       "      <th>C4</th>\n",
       "    </tr>\n",
       "  </thead>\n",
       "  <tbody>\n",
       "    <tr>\n",
       "      <th>2019-10-31</th>\n",
       "      <td>-0.755745</td>\n",
       "      <td>0.161799</td>\n",
       "      <td>0.800797</td>\n",
       "      <td>0.546400</td>\n",
       "    </tr>\n",
       "    <tr>\n",
       "      <th>2019-11-30</th>\n",
       "      <td>1.550756</td>\n",
       "      <td>0.036938</td>\n",
       "      <td>0.871244</td>\n",
       "      <td>1.966795</td>\n",
       "    </tr>\n",
       "    <tr>\n",
       "      <th>2019-12-31</th>\n",
       "      <td>-0.093468</td>\n",
       "      <td>1.017945</td>\n",
       "      <td>-1.171734</td>\n",
       "      <td>-1.160567</td>\n",
       "    </tr>\n",
       "    <tr>\n",
       "      <th>2020-01-31</th>\n",
       "      <td>-0.006170</td>\n",
       "      <td>0.788919</td>\n",
       "      <td>-0.191400</td>\n",
       "      <td>0.912908</td>\n",
       "    </tr>\n",
       "    <tr>\n",
       "      <th>2020-02-29</th>\n",
       "      <td>0.228380</td>\n",
       "      <td>-0.130724</td>\n",
       "      <td>-1.237164</td>\n",
       "      <td>-0.838820</td>\n",
       "    </tr>\n",
       "    <tr>\n",
       "      <th>2020-03-31</th>\n",
       "      <td>-1.103465</td>\n",
       "      <td>-1.474259</td>\n",
       "      <td>-1.527336</td>\n",
       "      <td>0.331776</td>\n",
       "    </tr>\n",
       "    <tr>\n",
       "      <th>2020-04-30</th>\n",
       "      <td>0.010929</td>\n",
       "      <td>-0.016395</td>\n",
       "      <td>0.094664</td>\n",
       "      <td>-2.145463</td>\n",
       "    </tr>\n",
       "    <tr>\n",
       "      <th>2020-05-31</th>\n",
       "      <td>0.173053</td>\n",
       "      <td>-1.220974</td>\n",
       "      <td>-0.678088</td>\n",
       "      <td>0.415251</td>\n",
       "    </tr>\n",
       "    <tr>\n",
       "      <th>2020-06-30</th>\n",
       "      <td>3.003987</td>\n",
       "      <td>0.481616</td>\n",
       "      <td>0.177511</td>\n",
       "      <td>1.264419</td>\n",
       "    </tr>\n",
       "    <tr>\n",
       "      <th>2020-07-31</th>\n",
       "      <td>-0.146703</td>\n",
       "      <td>-0.171828</td>\n",
       "      <td>1.566195</td>\n",
       "      <td>-0.765523</td>\n",
       "    </tr>\n",
       "  </tbody>\n",
       "</table>\n",
       "</div>"
      ],
      "text/plain": [
       "                  C1        C2        C3        C4\n",
       "2019-10-31 -0.755745  0.161799  0.800797  0.546400\n",
       "2019-11-30  1.550756  0.036938  0.871244  1.966795\n",
       "2019-12-31 -0.093468  1.017945 -1.171734 -1.160567\n",
       "2020-01-31 -0.006170  0.788919 -0.191400  0.912908\n",
       "2020-02-29  0.228380 -0.130724 -1.237164 -0.838820\n",
       "2020-03-31 -1.103465 -1.474259 -1.527336  0.331776\n",
       "2020-04-30  0.010929 -0.016395  0.094664 -2.145463\n",
       "2020-05-31  0.173053 -1.220974 -0.678088  0.415251\n",
       "2020-06-30  3.003987  0.481616  0.177511  1.264419\n",
       "2020-07-31 -0.146703 -0.171828  1.566195 -0.765523"
      ]
     },
     "execution_count": 136,
     "metadata": {},
     "output_type": "execute_result"
    }
   ],
   "source": [
    "df = pd.DataFrame(np.random.randn(10,4),\n",
    "                 index=pd.date_range('2019-10-01',periods=10,freq='M'),\n",
    "                 columns=(['C1','C2','C3','C4']))\n",
    "df"
   ]
  },
  {
   "cell_type": "code",
   "execution_count": 137,
   "id": "38c96e3b",
   "metadata": {},
   "outputs": [
    {
     "data": {
      "text/html": [
       "<div>\n",
       "<style scoped>\n",
       "    .dataframe tbody tr th:only-of-type {\n",
       "        vertical-align: middle;\n",
       "    }\n",
       "\n",
       "    .dataframe tbody tr th {\n",
       "        vertical-align: top;\n",
       "    }\n",
       "\n",
       "    .dataframe thead th {\n",
       "        text-align: right;\n",
       "    }\n",
       "</style>\n",
       "<table border=\"1\" class=\"dataframe\">\n",
       "  <thead>\n",
       "    <tr style=\"text-align: right;\">\n",
       "      <th></th>\n",
       "      <th>C1</th>\n",
       "      <th>C2</th>\n",
       "      <th>C3</th>\n",
       "      <th>C4</th>\n",
       "    </tr>\n",
       "  </thead>\n",
       "  <tbody>\n",
       "    <tr>\n",
       "      <th>2019-12-31</th>\n",
       "      <td>-0.093468</td>\n",
       "      <td>1.017945</td>\n",
       "      <td>-1.171734</td>\n",
       "      <td>-1.160567</td>\n",
       "    </tr>\n",
       "    <tr>\n",
       "      <th>2020-12-31</th>\n",
       "      <td>NaN</td>\n",
       "      <td>NaN</td>\n",
       "      <td>NaN</td>\n",
       "      <td>NaN</td>\n",
       "    </tr>\n",
       "  </tbody>\n",
       "</table>\n",
       "</div>"
      ],
      "text/plain": [
       "                  C1        C2        C3        C4\n",
       "2019-12-31 -0.093468  1.017945 -1.171734 -1.160567\n",
       "2020-12-31       NaN       NaN       NaN       NaN"
      ]
     },
     "execution_count": 137,
     "metadata": {},
     "output_type": "execute_result"
    }
   ],
   "source": [
    "df.resample('Y').asfreq()"
   ]
  },
  {
   "cell_type": "code",
   "execution_count": 139,
   "id": "fe589cf4",
   "metadata": {},
   "outputs": [
    {
     "data": {
      "text/html": [
       "<div>\n",
       "<style scoped>\n",
       "    .dataframe tbody tr th:only-of-type {\n",
       "        vertical-align: middle;\n",
       "    }\n",
       "\n",
       "    .dataframe tbody tr th {\n",
       "        vertical-align: top;\n",
       "    }\n",
       "\n",
       "    .dataframe thead th {\n",
       "        text-align: right;\n",
       "    }\n",
       "</style>\n",
       "<table border=\"1\" class=\"dataframe\">\n",
       "  <thead>\n",
       "    <tr style=\"text-align: right;\">\n",
       "      <th></th>\n",
       "      <th>C1</th>\n",
       "      <th>C2</th>\n",
       "      <th>C3</th>\n",
       "      <th>C4</th>\n",
       "    </tr>\n",
       "  </thead>\n",
       "  <tbody>\n",
       "    <tr>\n",
       "      <th>2019-11-01</th>\n",
       "      <td>NaN</td>\n",
       "      <td>NaN</td>\n",
       "      <td>NaN</td>\n",
       "      <td>NaN</td>\n",
       "    </tr>\n",
       "    <tr>\n",
       "      <th>2019-11-08</th>\n",
       "      <td>NaN</td>\n",
       "      <td>NaN</td>\n",
       "      <td>NaN</td>\n",
       "      <td>NaN</td>\n",
       "    </tr>\n",
       "    <tr>\n",
       "      <th>2019-11-15</th>\n",
       "      <td>NaN</td>\n",
       "      <td>NaN</td>\n",
       "      <td>NaN</td>\n",
       "      <td>NaN</td>\n",
       "    </tr>\n",
       "    <tr>\n",
       "      <th>2019-11-22</th>\n",
       "      <td>NaN</td>\n",
       "      <td>NaN</td>\n",
       "      <td>NaN</td>\n",
       "      <td>NaN</td>\n",
       "    </tr>\n",
       "    <tr>\n",
       "      <th>2019-11-29</th>\n",
       "      <td>NaN</td>\n",
       "      <td>NaN</td>\n",
       "      <td>NaN</td>\n",
       "      <td>NaN</td>\n",
       "    </tr>\n",
       "    <tr>\n",
       "      <th>2019-12-06</th>\n",
       "      <td>NaN</td>\n",
       "      <td>NaN</td>\n",
       "      <td>NaN</td>\n",
       "      <td>NaN</td>\n",
       "    </tr>\n",
       "    <tr>\n",
       "      <th>2019-12-13</th>\n",
       "      <td>NaN</td>\n",
       "      <td>NaN</td>\n",
       "      <td>NaN</td>\n",
       "      <td>NaN</td>\n",
       "    </tr>\n",
       "    <tr>\n",
       "      <th>2019-12-20</th>\n",
       "      <td>NaN</td>\n",
       "      <td>NaN</td>\n",
       "      <td>NaN</td>\n",
       "      <td>NaN</td>\n",
       "    </tr>\n",
       "    <tr>\n",
       "      <th>2019-12-27</th>\n",
       "      <td>NaN</td>\n",
       "      <td>NaN</td>\n",
       "      <td>NaN</td>\n",
       "      <td>NaN</td>\n",
       "    </tr>\n",
       "    <tr>\n",
       "      <th>2020-01-03</th>\n",
       "      <td>NaN</td>\n",
       "      <td>NaN</td>\n",
       "      <td>NaN</td>\n",
       "      <td>NaN</td>\n",
       "    </tr>\n",
       "    <tr>\n",
       "      <th>2020-01-10</th>\n",
       "      <td>NaN</td>\n",
       "      <td>NaN</td>\n",
       "      <td>NaN</td>\n",
       "      <td>NaN</td>\n",
       "    </tr>\n",
       "    <tr>\n",
       "      <th>2020-01-17</th>\n",
       "      <td>NaN</td>\n",
       "      <td>NaN</td>\n",
       "      <td>NaN</td>\n",
       "      <td>NaN</td>\n",
       "    </tr>\n",
       "    <tr>\n",
       "      <th>2020-01-24</th>\n",
       "      <td>NaN</td>\n",
       "      <td>NaN</td>\n",
       "      <td>NaN</td>\n",
       "      <td>NaN</td>\n",
       "    </tr>\n",
       "    <tr>\n",
       "      <th>2020-01-31</th>\n",
       "      <td>-0.006170</td>\n",
       "      <td>0.788919</td>\n",
       "      <td>-0.191400</td>\n",
       "      <td>0.912908</td>\n",
       "    </tr>\n",
       "    <tr>\n",
       "      <th>2020-02-07</th>\n",
       "      <td>NaN</td>\n",
       "      <td>NaN</td>\n",
       "      <td>NaN</td>\n",
       "      <td>NaN</td>\n",
       "    </tr>\n",
       "    <tr>\n",
       "      <th>2020-02-14</th>\n",
       "      <td>NaN</td>\n",
       "      <td>NaN</td>\n",
       "      <td>NaN</td>\n",
       "      <td>NaN</td>\n",
       "    </tr>\n",
       "    <tr>\n",
       "      <th>2020-02-21</th>\n",
       "      <td>NaN</td>\n",
       "      <td>NaN</td>\n",
       "      <td>NaN</td>\n",
       "      <td>NaN</td>\n",
       "    </tr>\n",
       "    <tr>\n",
       "      <th>2020-02-28</th>\n",
       "      <td>NaN</td>\n",
       "      <td>NaN</td>\n",
       "      <td>NaN</td>\n",
       "      <td>NaN</td>\n",
       "    </tr>\n",
       "    <tr>\n",
       "      <th>2020-03-06</th>\n",
       "      <td>NaN</td>\n",
       "      <td>NaN</td>\n",
       "      <td>NaN</td>\n",
       "      <td>NaN</td>\n",
       "    </tr>\n",
       "    <tr>\n",
       "      <th>2020-03-13</th>\n",
       "      <td>NaN</td>\n",
       "      <td>NaN</td>\n",
       "      <td>NaN</td>\n",
       "      <td>NaN</td>\n",
       "    </tr>\n",
       "    <tr>\n",
       "      <th>2020-03-20</th>\n",
       "      <td>NaN</td>\n",
       "      <td>NaN</td>\n",
       "      <td>NaN</td>\n",
       "      <td>NaN</td>\n",
       "    </tr>\n",
       "    <tr>\n",
       "      <th>2020-03-27</th>\n",
       "      <td>NaN</td>\n",
       "      <td>NaN</td>\n",
       "      <td>NaN</td>\n",
       "      <td>NaN</td>\n",
       "    </tr>\n",
       "    <tr>\n",
       "      <th>2020-04-03</th>\n",
       "      <td>NaN</td>\n",
       "      <td>NaN</td>\n",
       "      <td>NaN</td>\n",
       "      <td>NaN</td>\n",
       "    </tr>\n",
       "    <tr>\n",
       "      <th>2020-04-10</th>\n",
       "      <td>NaN</td>\n",
       "      <td>NaN</td>\n",
       "      <td>NaN</td>\n",
       "      <td>NaN</td>\n",
       "    </tr>\n",
       "    <tr>\n",
       "      <th>2020-04-17</th>\n",
       "      <td>NaN</td>\n",
       "      <td>NaN</td>\n",
       "      <td>NaN</td>\n",
       "      <td>NaN</td>\n",
       "    </tr>\n",
       "    <tr>\n",
       "      <th>2020-04-24</th>\n",
       "      <td>NaN</td>\n",
       "      <td>NaN</td>\n",
       "      <td>NaN</td>\n",
       "      <td>NaN</td>\n",
       "    </tr>\n",
       "    <tr>\n",
       "      <th>2020-05-01</th>\n",
       "      <td>NaN</td>\n",
       "      <td>NaN</td>\n",
       "      <td>NaN</td>\n",
       "      <td>NaN</td>\n",
       "    </tr>\n",
       "    <tr>\n",
       "      <th>2020-05-08</th>\n",
       "      <td>NaN</td>\n",
       "      <td>NaN</td>\n",
       "      <td>NaN</td>\n",
       "      <td>NaN</td>\n",
       "    </tr>\n",
       "    <tr>\n",
       "      <th>2020-05-15</th>\n",
       "      <td>NaN</td>\n",
       "      <td>NaN</td>\n",
       "      <td>NaN</td>\n",
       "      <td>NaN</td>\n",
       "    </tr>\n",
       "    <tr>\n",
       "      <th>2020-05-22</th>\n",
       "      <td>NaN</td>\n",
       "      <td>NaN</td>\n",
       "      <td>NaN</td>\n",
       "      <td>NaN</td>\n",
       "    </tr>\n",
       "    <tr>\n",
       "      <th>2020-05-29</th>\n",
       "      <td>NaN</td>\n",
       "      <td>NaN</td>\n",
       "      <td>NaN</td>\n",
       "      <td>NaN</td>\n",
       "    </tr>\n",
       "    <tr>\n",
       "      <th>2020-06-05</th>\n",
       "      <td>NaN</td>\n",
       "      <td>NaN</td>\n",
       "      <td>NaN</td>\n",
       "      <td>NaN</td>\n",
       "    </tr>\n",
       "    <tr>\n",
       "      <th>2020-06-12</th>\n",
       "      <td>NaN</td>\n",
       "      <td>NaN</td>\n",
       "      <td>NaN</td>\n",
       "      <td>NaN</td>\n",
       "    </tr>\n",
       "    <tr>\n",
       "      <th>2020-06-19</th>\n",
       "      <td>NaN</td>\n",
       "      <td>NaN</td>\n",
       "      <td>NaN</td>\n",
       "      <td>NaN</td>\n",
       "    </tr>\n",
       "    <tr>\n",
       "      <th>2020-06-26</th>\n",
       "      <td>NaN</td>\n",
       "      <td>NaN</td>\n",
       "      <td>NaN</td>\n",
       "      <td>NaN</td>\n",
       "    </tr>\n",
       "    <tr>\n",
       "      <th>2020-07-03</th>\n",
       "      <td>NaN</td>\n",
       "      <td>NaN</td>\n",
       "      <td>NaN</td>\n",
       "      <td>NaN</td>\n",
       "    </tr>\n",
       "    <tr>\n",
       "      <th>2020-07-10</th>\n",
       "      <td>NaN</td>\n",
       "      <td>NaN</td>\n",
       "      <td>NaN</td>\n",
       "      <td>NaN</td>\n",
       "    </tr>\n",
       "    <tr>\n",
       "      <th>2020-07-17</th>\n",
       "      <td>NaN</td>\n",
       "      <td>NaN</td>\n",
       "      <td>NaN</td>\n",
       "      <td>NaN</td>\n",
       "    </tr>\n",
       "    <tr>\n",
       "      <th>2020-07-24</th>\n",
       "      <td>NaN</td>\n",
       "      <td>NaN</td>\n",
       "      <td>NaN</td>\n",
       "      <td>NaN</td>\n",
       "    </tr>\n",
       "    <tr>\n",
       "      <th>2020-07-31</th>\n",
       "      <td>-0.146703</td>\n",
       "      <td>-0.171828</td>\n",
       "      <td>1.566195</td>\n",
       "      <td>-0.765523</td>\n",
       "    </tr>\n",
       "  </tbody>\n",
       "</table>\n",
       "</div>"
      ],
      "text/plain": [
       "                  C1        C2        C3        C4\n",
       "2019-11-01       NaN       NaN       NaN       NaN\n",
       "2019-11-08       NaN       NaN       NaN       NaN\n",
       "2019-11-15       NaN       NaN       NaN       NaN\n",
       "2019-11-22       NaN       NaN       NaN       NaN\n",
       "2019-11-29       NaN       NaN       NaN       NaN\n",
       "2019-12-06       NaN       NaN       NaN       NaN\n",
       "2019-12-13       NaN       NaN       NaN       NaN\n",
       "2019-12-20       NaN       NaN       NaN       NaN\n",
       "2019-12-27       NaN       NaN       NaN       NaN\n",
       "2020-01-03       NaN       NaN       NaN       NaN\n",
       "2020-01-10       NaN       NaN       NaN       NaN\n",
       "2020-01-17       NaN       NaN       NaN       NaN\n",
       "2020-01-24       NaN       NaN       NaN       NaN\n",
       "2020-01-31 -0.006170  0.788919 -0.191400  0.912908\n",
       "2020-02-07       NaN       NaN       NaN       NaN\n",
       "2020-02-14       NaN       NaN       NaN       NaN\n",
       "2020-02-21       NaN       NaN       NaN       NaN\n",
       "2020-02-28       NaN       NaN       NaN       NaN\n",
       "2020-03-06       NaN       NaN       NaN       NaN\n",
       "2020-03-13       NaN       NaN       NaN       NaN\n",
       "2020-03-20       NaN       NaN       NaN       NaN\n",
       "2020-03-27       NaN       NaN       NaN       NaN\n",
       "2020-04-03       NaN       NaN       NaN       NaN\n",
       "2020-04-10       NaN       NaN       NaN       NaN\n",
       "2020-04-17       NaN       NaN       NaN       NaN\n",
       "2020-04-24       NaN       NaN       NaN       NaN\n",
       "2020-05-01       NaN       NaN       NaN       NaN\n",
       "2020-05-08       NaN       NaN       NaN       NaN\n",
       "2020-05-15       NaN       NaN       NaN       NaN\n",
       "2020-05-22       NaN       NaN       NaN       NaN\n",
       "2020-05-29       NaN       NaN       NaN       NaN\n",
       "2020-06-05       NaN       NaN       NaN       NaN\n",
       "2020-06-12       NaN       NaN       NaN       NaN\n",
       "2020-06-19       NaN       NaN       NaN       NaN\n",
       "2020-06-26       NaN       NaN       NaN       NaN\n",
       "2020-07-03       NaN       NaN       NaN       NaN\n",
       "2020-07-10       NaN       NaN       NaN       NaN\n",
       "2020-07-17       NaN       NaN       NaN       NaN\n",
       "2020-07-24       NaN       NaN       NaN       NaN\n",
       "2020-07-31 -0.146703 -0.171828  1.566195 -0.765523"
      ]
     },
     "execution_count": 139,
     "metadata": {},
     "output_type": "execute_result"
    }
   ],
   "source": [
    "df.resample('W-FRI').asfreq()"
   ]
  },
  {
   "cell_type": "code",
   "execution_count": 140,
   "id": "88292a8d",
   "metadata": {},
   "outputs": [
    {
     "data": {
      "text/html": [
       "<div>\n",
       "<style scoped>\n",
       "    .dataframe tbody tr th:only-of-type {\n",
       "        vertical-align: middle;\n",
       "    }\n",
       "\n",
       "    .dataframe tbody tr th {\n",
       "        vertical-align: top;\n",
       "    }\n",
       "\n",
       "    .dataframe thead th {\n",
       "        text-align: right;\n",
       "    }\n",
       "</style>\n",
       "<table border=\"1\" class=\"dataframe\">\n",
       "  <thead>\n",
       "    <tr style=\"text-align: right;\">\n",
       "      <th></th>\n",
       "      <th>C1</th>\n",
       "      <th>C2</th>\n",
       "      <th>C3</th>\n",
       "      <th>C4</th>\n",
       "    </tr>\n",
       "  </thead>\n",
       "  <tbody>\n",
       "    <tr>\n",
       "      <th>2019-10-31 00:00:00</th>\n",
       "      <td>-0.755745</td>\n",
       "      <td>0.161799</td>\n",
       "      <td>0.800797</td>\n",
       "      <td>0.546400</td>\n",
       "    </tr>\n",
       "    <tr>\n",
       "      <th>2019-10-31 01:00:00</th>\n",
       "      <td>NaN</td>\n",
       "      <td>NaN</td>\n",
       "      <td>NaN</td>\n",
       "      <td>NaN</td>\n",
       "    </tr>\n",
       "    <tr>\n",
       "      <th>2019-10-31 02:00:00</th>\n",
       "      <td>NaN</td>\n",
       "      <td>NaN</td>\n",
       "      <td>NaN</td>\n",
       "      <td>NaN</td>\n",
       "    </tr>\n",
       "    <tr>\n",
       "      <th>2019-10-31 03:00:00</th>\n",
       "      <td>NaN</td>\n",
       "      <td>NaN</td>\n",
       "      <td>NaN</td>\n",
       "      <td>NaN</td>\n",
       "    </tr>\n",
       "    <tr>\n",
       "      <th>2019-10-31 04:00:00</th>\n",
       "      <td>NaN</td>\n",
       "      <td>NaN</td>\n",
       "      <td>NaN</td>\n",
       "      <td>NaN</td>\n",
       "    </tr>\n",
       "    <tr>\n",
       "      <th>...</th>\n",
       "      <td>...</td>\n",
       "      <td>...</td>\n",
       "      <td>...</td>\n",
       "      <td>...</td>\n",
       "    </tr>\n",
       "    <tr>\n",
       "      <th>2020-07-30 20:00:00</th>\n",
       "      <td>NaN</td>\n",
       "      <td>NaN</td>\n",
       "      <td>NaN</td>\n",
       "      <td>NaN</td>\n",
       "    </tr>\n",
       "    <tr>\n",
       "      <th>2020-07-30 21:00:00</th>\n",
       "      <td>NaN</td>\n",
       "      <td>NaN</td>\n",
       "      <td>NaN</td>\n",
       "      <td>NaN</td>\n",
       "    </tr>\n",
       "    <tr>\n",
       "      <th>2020-07-30 22:00:00</th>\n",
       "      <td>NaN</td>\n",
       "      <td>NaN</td>\n",
       "      <td>NaN</td>\n",
       "      <td>NaN</td>\n",
       "    </tr>\n",
       "    <tr>\n",
       "      <th>2020-07-30 23:00:00</th>\n",
       "      <td>NaN</td>\n",
       "      <td>NaN</td>\n",
       "      <td>NaN</td>\n",
       "      <td>NaN</td>\n",
       "    </tr>\n",
       "    <tr>\n",
       "      <th>2020-07-31 00:00:00</th>\n",
       "      <td>-0.146703</td>\n",
       "      <td>-0.171828</td>\n",
       "      <td>1.566195</td>\n",
       "      <td>-0.765523</td>\n",
       "    </tr>\n",
       "  </tbody>\n",
       "</table>\n",
       "<p>6577 rows × 4 columns</p>\n",
       "</div>"
      ],
      "text/plain": [
       "                           C1        C2        C3        C4\n",
       "2019-10-31 00:00:00 -0.755745  0.161799  0.800797  0.546400\n",
       "2019-10-31 01:00:00       NaN       NaN       NaN       NaN\n",
       "2019-10-31 02:00:00       NaN       NaN       NaN       NaN\n",
       "2019-10-31 03:00:00       NaN       NaN       NaN       NaN\n",
       "2019-10-31 04:00:00       NaN       NaN       NaN       NaN\n",
       "...                       ...       ...       ...       ...\n",
       "2020-07-30 20:00:00       NaN       NaN       NaN       NaN\n",
       "2020-07-30 21:00:00       NaN       NaN       NaN       NaN\n",
       "2020-07-30 22:00:00       NaN       NaN       NaN       NaN\n",
       "2020-07-30 23:00:00       NaN       NaN       NaN       NaN\n",
       "2020-07-31 00:00:00 -0.146703 -0.171828  1.566195 -0.765523\n",
       "\n",
       "[6577 rows x 4 columns]"
      ]
     },
     "execution_count": 140,
     "metadata": {},
     "output_type": "execute_result"
    }
   ],
   "source": [
    "df.resample('H').asfreq()"
   ]
  },
  {
   "cell_type": "code",
   "execution_count": 141,
   "id": "846cac06",
   "metadata": {},
   "outputs": [
    {
     "data": {
      "text/html": [
       "<div>\n",
       "<style scoped>\n",
       "    .dataframe tbody tr th:only-of-type {\n",
       "        vertical-align: middle;\n",
       "    }\n",
       "\n",
       "    .dataframe tbody tr th {\n",
       "        vertical-align: top;\n",
       "    }\n",
       "\n",
       "    .dataframe thead th {\n",
       "        text-align: right;\n",
       "    }\n",
       "</style>\n",
       "<table border=\"1\" class=\"dataframe\">\n",
       "  <thead>\n",
       "    <tr style=\"text-align: right;\">\n",
       "      <th></th>\n",
       "      <th>C1</th>\n",
       "      <th>C2</th>\n",
       "      <th>C3</th>\n",
       "      <th>C4</th>\n",
       "    </tr>\n",
       "  </thead>\n",
       "  <tbody>\n",
       "    <tr>\n",
       "      <th>2019-10-31 00:00:00</th>\n",
       "      <td>-0.755745</td>\n",
       "      <td>0.161799</td>\n",
       "      <td>0.800797</td>\n",
       "      <td>0.546400</td>\n",
       "    </tr>\n",
       "    <tr>\n",
       "      <th>2019-10-31 01:00:00</th>\n",
       "      <td>-0.755745</td>\n",
       "      <td>0.161799</td>\n",
       "      <td>0.800797</td>\n",
       "      <td>0.546400</td>\n",
       "    </tr>\n",
       "    <tr>\n",
       "      <th>2019-10-31 02:00:00</th>\n",
       "      <td>-0.755745</td>\n",
       "      <td>0.161799</td>\n",
       "      <td>0.800797</td>\n",
       "      <td>0.546400</td>\n",
       "    </tr>\n",
       "    <tr>\n",
       "      <th>2019-10-31 03:00:00</th>\n",
       "      <td>-0.755745</td>\n",
       "      <td>0.161799</td>\n",
       "      <td>0.800797</td>\n",
       "      <td>0.546400</td>\n",
       "    </tr>\n",
       "    <tr>\n",
       "      <th>2019-10-31 04:00:00</th>\n",
       "      <td>-0.755745</td>\n",
       "      <td>0.161799</td>\n",
       "      <td>0.800797</td>\n",
       "      <td>0.546400</td>\n",
       "    </tr>\n",
       "    <tr>\n",
       "      <th>...</th>\n",
       "      <td>...</td>\n",
       "      <td>...</td>\n",
       "      <td>...</td>\n",
       "      <td>...</td>\n",
       "    </tr>\n",
       "    <tr>\n",
       "      <th>2020-07-30 20:00:00</th>\n",
       "      <td>3.003987</td>\n",
       "      <td>0.481616</td>\n",
       "      <td>0.177511</td>\n",
       "      <td>1.264419</td>\n",
       "    </tr>\n",
       "    <tr>\n",
       "      <th>2020-07-30 21:00:00</th>\n",
       "      <td>3.003987</td>\n",
       "      <td>0.481616</td>\n",
       "      <td>0.177511</td>\n",
       "      <td>1.264419</td>\n",
       "    </tr>\n",
       "    <tr>\n",
       "      <th>2020-07-30 22:00:00</th>\n",
       "      <td>3.003987</td>\n",
       "      <td>0.481616</td>\n",
       "      <td>0.177511</td>\n",
       "      <td>1.264419</td>\n",
       "    </tr>\n",
       "    <tr>\n",
       "      <th>2020-07-30 23:00:00</th>\n",
       "      <td>3.003987</td>\n",
       "      <td>0.481616</td>\n",
       "      <td>0.177511</td>\n",
       "      <td>1.264419</td>\n",
       "    </tr>\n",
       "    <tr>\n",
       "      <th>2020-07-31 00:00:00</th>\n",
       "      <td>-0.146703</td>\n",
       "      <td>-0.171828</td>\n",
       "      <td>1.566195</td>\n",
       "      <td>-0.765523</td>\n",
       "    </tr>\n",
       "  </tbody>\n",
       "</table>\n",
       "<p>6577 rows × 4 columns</p>\n",
       "</div>"
      ],
      "text/plain": [
       "                           C1        C2        C3        C4\n",
       "2019-10-31 00:00:00 -0.755745  0.161799  0.800797  0.546400\n",
       "2019-10-31 01:00:00 -0.755745  0.161799  0.800797  0.546400\n",
       "2019-10-31 02:00:00 -0.755745  0.161799  0.800797  0.546400\n",
       "2019-10-31 03:00:00 -0.755745  0.161799  0.800797  0.546400\n",
       "2019-10-31 04:00:00 -0.755745  0.161799  0.800797  0.546400\n",
       "...                       ...       ...       ...       ...\n",
       "2020-07-30 20:00:00  3.003987  0.481616  0.177511  1.264419\n",
       "2020-07-30 21:00:00  3.003987  0.481616  0.177511  1.264419\n",
       "2020-07-30 22:00:00  3.003987  0.481616  0.177511  1.264419\n",
       "2020-07-30 23:00:00  3.003987  0.481616  0.177511  1.264419\n",
       "2020-07-31 00:00:00 -0.146703 -0.171828  1.566195 -0.765523\n",
       "\n",
       "[6577 rows x 4 columns]"
      ]
     },
     "execution_count": 141,
     "metadata": {},
     "output_type": "execute_result"
    }
   ],
   "source": [
    "df.resample('H').ffill()"
   ]
  },
  {
   "cell_type": "code",
   "execution_count": 142,
   "id": "894e0222",
   "metadata": {},
   "outputs": [
    {
     "data": {
      "text/html": [
       "<div>\n",
       "<style scoped>\n",
       "    .dataframe tbody tr th:only-of-type {\n",
       "        vertical-align: middle;\n",
       "    }\n",
       "\n",
       "    .dataframe tbody tr th {\n",
       "        vertical-align: top;\n",
       "    }\n",
       "\n",
       "    .dataframe thead th {\n",
       "        text-align: right;\n",
       "    }\n",
       "</style>\n",
       "<table border=\"1\" class=\"dataframe\">\n",
       "  <thead>\n",
       "    <tr style=\"text-align: right;\">\n",
       "      <th></th>\n",
       "      <th>C1</th>\n",
       "      <th>C2</th>\n",
       "      <th>C3</th>\n",
       "      <th>C4</th>\n",
       "    </tr>\n",
       "  </thead>\n",
       "  <tbody>\n",
       "    <tr>\n",
       "      <th>2019-10-31 00:00:00</th>\n",
       "      <td>-0.755745</td>\n",
       "      <td>0.161799</td>\n",
       "      <td>0.800797</td>\n",
       "      <td>0.546400</td>\n",
       "    </tr>\n",
       "    <tr>\n",
       "      <th>2019-10-31 01:00:00</th>\n",
       "      <td>-0.755745</td>\n",
       "      <td>0.161799</td>\n",
       "      <td>0.800797</td>\n",
       "      <td>0.546400</td>\n",
       "    </tr>\n",
       "    <tr>\n",
       "      <th>2019-10-31 02:00:00</th>\n",
       "      <td>-0.755745</td>\n",
       "      <td>0.161799</td>\n",
       "      <td>0.800797</td>\n",
       "      <td>0.546400</td>\n",
       "    </tr>\n",
       "    <tr>\n",
       "      <th>2019-10-31 03:00:00</th>\n",
       "      <td>NaN</td>\n",
       "      <td>NaN</td>\n",
       "      <td>NaN</td>\n",
       "      <td>NaN</td>\n",
       "    </tr>\n",
       "    <tr>\n",
       "      <th>2019-10-31 04:00:00</th>\n",
       "      <td>NaN</td>\n",
       "      <td>NaN</td>\n",
       "      <td>NaN</td>\n",
       "      <td>NaN</td>\n",
       "    </tr>\n",
       "    <tr>\n",
       "      <th>...</th>\n",
       "      <td>...</td>\n",
       "      <td>...</td>\n",
       "      <td>...</td>\n",
       "      <td>...</td>\n",
       "    </tr>\n",
       "    <tr>\n",
       "      <th>2020-07-30 20:00:00</th>\n",
       "      <td>NaN</td>\n",
       "      <td>NaN</td>\n",
       "      <td>NaN</td>\n",
       "      <td>NaN</td>\n",
       "    </tr>\n",
       "    <tr>\n",
       "      <th>2020-07-30 21:00:00</th>\n",
       "      <td>NaN</td>\n",
       "      <td>NaN</td>\n",
       "      <td>NaN</td>\n",
       "      <td>NaN</td>\n",
       "    </tr>\n",
       "    <tr>\n",
       "      <th>2020-07-30 22:00:00</th>\n",
       "      <td>NaN</td>\n",
       "      <td>NaN</td>\n",
       "      <td>NaN</td>\n",
       "      <td>NaN</td>\n",
       "    </tr>\n",
       "    <tr>\n",
       "      <th>2020-07-30 23:00:00</th>\n",
       "      <td>NaN</td>\n",
       "      <td>NaN</td>\n",
       "      <td>NaN</td>\n",
       "      <td>NaN</td>\n",
       "    </tr>\n",
       "    <tr>\n",
       "      <th>2020-07-31 00:00:00</th>\n",
       "      <td>-0.146703</td>\n",
       "      <td>-0.171828</td>\n",
       "      <td>1.566195</td>\n",
       "      <td>-0.765523</td>\n",
       "    </tr>\n",
       "  </tbody>\n",
       "</table>\n",
       "<p>6577 rows × 4 columns</p>\n",
       "</div>"
      ],
      "text/plain": [
       "                           C1        C2        C3        C4\n",
       "2019-10-31 00:00:00 -0.755745  0.161799  0.800797  0.546400\n",
       "2019-10-31 01:00:00 -0.755745  0.161799  0.800797  0.546400\n",
       "2019-10-31 02:00:00 -0.755745  0.161799  0.800797  0.546400\n",
       "2019-10-31 03:00:00       NaN       NaN       NaN       NaN\n",
       "2019-10-31 04:00:00       NaN       NaN       NaN       NaN\n",
       "...                       ...       ...       ...       ...\n",
       "2020-07-30 20:00:00       NaN       NaN       NaN       NaN\n",
       "2020-07-30 21:00:00       NaN       NaN       NaN       NaN\n",
       "2020-07-30 22:00:00       NaN       NaN       NaN       NaN\n",
       "2020-07-30 23:00:00       NaN       NaN       NaN       NaN\n",
       "2020-07-31 00:00:00 -0.146703 -0.171828  1.566195 -0.765523\n",
       "\n",
       "[6577 rows x 4 columns]"
      ]
     },
     "execution_count": 142,
     "metadata": {},
     "output_type": "execute_result"
    }
   ],
   "source": [
    "df.resample('H').ffill(limit=2)"
   ]
  },
  {
   "cell_type": "code",
   "execution_count": 143,
   "id": "d38788f9",
   "metadata": {},
   "outputs": [
    {
     "data": {
      "text/html": [
       "<div>\n",
       "<style scoped>\n",
       "    .dataframe tbody tr th:only-of-type {\n",
       "        vertical-align: middle;\n",
       "    }\n",
       "\n",
       "    .dataframe tbody tr th {\n",
       "        vertical-align: top;\n",
       "    }\n",
       "\n",
       "    .dataframe thead th {\n",
       "        text-align: right;\n",
       "    }\n",
       "</style>\n",
       "<table border=\"1\" class=\"dataframe\">\n",
       "  <thead>\n",
       "    <tr style=\"text-align: right;\">\n",
       "      <th></th>\n",
       "      <th>C1</th>\n",
       "      <th>C2</th>\n",
       "      <th>C3</th>\n",
       "      <th>C4</th>\n",
       "    </tr>\n",
       "  </thead>\n",
       "  <tbody>\n",
       "    <tr>\n",
       "      <th>2019-12-31</th>\n",
       "      <td>0.233848</td>\n",
       "      <td>0.405561</td>\n",
       "      <td>0.166769</td>\n",
       "      <td>0.450876</td>\n",
       "    </tr>\n",
       "    <tr>\n",
       "      <th>2020-03-31</th>\n",
       "      <td>-0.293752</td>\n",
       "      <td>-0.272022</td>\n",
       "      <td>-0.985300</td>\n",
       "      <td>0.135288</td>\n",
       "    </tr>\n",
       "    <tr>\n",
       "      <th>2020-06-30</th>\n",
       "      <td>1.062656</td>\n",
       "      <td>-0.251918</td>\n",
       "      <td>-0.135305</td>\n",
       "      <td>-0.155264</td>\n",
       "    </tr>\n",
       "    <tr>\n",
       "      <th>2020-09-30</th>\n",
       "      <td>-0.146703</td>\n",
       "      <td>-0.171828</td>\n",
       "      <td>1.566195</td>\n",
       "      <td>-0.765523</td>\n",
       "    </tr>\n",
       "  </tbody>\n",
       "</table>\n",
       "</div>"
      ],
      "text/plain": [
       "                  C1        C2        C3        C4\n",
       "2019-12-31  0.233848  0.405561  0.166769  0.450876\n",
       "2020-03-31 -0.293752 -0.272022 -0.985300  0.135288\n",
       "2020-06-30  1.062656 -0.251918 -0.135305 -0.155264\n",
       "2020-09-30 -0.146703 -0.171828  1.566195 -0.765523"
      ]
     },
     "execution_count": 143,
     "metadata": {},
     "output_type": "execute_result"
    }
   ],
   "source": [
    "df.resample('Q-DEC').mean()"
   ]
  },
  {
   "cell_type": "code",
   "execution_count": 144,
   "id": "f7e51a17",
   "metadata": {},
   "outputs": [
    {
     "data": {
      "text/html": [
       "<div>\n",
       "<style scoped>\n",
       "    .dataframe tbody tr th:only-of-type {\n",
       "        vertical-align: middle;\n",
       "    }\n",
       "\n",
       "    .dataframe tbody tr th {\n",
       "        vertical-align: top;\n",
       "    }\n",
       "\n",
       "    .dataframe thead th {\n",
       "        text-align: right;\n",
       "    }\n",
       "</style>\n",
       "<table border=\"1\" class=\"dataframe\">\n",
       "  <thead>\n",
       "    <tr style=\"text-align: right;\">\n",
       "      <th></th>\n",
       "      <th>C1</th>\n",
       "      <th>C2</th>\n",
       "      <th>C3</th>\n",
       "      <th>C4</th>\n",
       "    </tr>\n",
       "  </thead>\n",
       "  <tbody>\n",
       "    <tr>\n",
       "      <th>2019-12-31</th>\n",
       "      <td>0.233848</td>\n",
       "      <td>0.405561</td>\n",
       "      <td>0.166769</td>\n",
       "      <td>0.450876</td>\n",
       "    </tr>\n",
       "    <tr>\n",
       "      <th>2020-12-31</th>\n",
       "      <td>0.308573</td>\n",
       "      <td>-0.249092</td>\n",
       "      <td>-0.256517</td>\n",
       "      <td>-0.117922</td>\n",
       "    </tr>\n",
       "  </tbody>\n",
       "</table>\n",
       "</div>"
      ],
      "text/plain": [
       "                  C1        C2        C3        C4\n",
       "2019-12-31  0.233848  0.405561  0.166769  0.450876\n",
       "2020-12-31  0.308573 -0.249092 -0.256517 -0.117922"
      ]
     },
     "execution_count": 144,
     "metadata": {},
     "output_type": "execute_result"
    }
   ],
   "source": [
    "df.resample('Y').mean()"
   ]
  },
  {
   "cell_type": "code",
   "execution_count": 145,
   "id": "4b6776e6",
   "metadata": {},
   "outputs": [],
   "source": [
    "###무빙 윈도우"
   ]
  },
  {
   "cell_type": "code",
   "execution_count": 147,
   "id": "09c9f3a0",
   "metadata": {},
   "outputs": [
    {
     "data": {
      "text/html": [
       "<div>\n",
       "<style scoped>\n",
       "    .dataframe tbody tr th:only-of-type {\n",
       "        vertical-align: middle;\n",
       "    }\n",
       "\n",
       "    .dataframe tbody tr th {\n",
       "        vertical-align: top;\n",
       "    }\n",
       "\n",
       "    .dataframe thead th {\n",
       "        text-align: right;\n",
       "    }\n",
       "</style>\n",
       "<table border=\"1\" class=\"dataframe\">\n",
       "  <thead>\n",
       "    <tr style=\"text-align: right;\">\n",
       "      <th></th>\n",
       "      <th>C1</th>\n",
       "      <th>C2</th>\n",
       "      <th>C3</th>\n",
       "      <th>C4</th>\n",
       "    </tr>\n",
       "  </thead>\n",
       "  <tbody>\n",
       "    <tr>\n",
       "      <th>2020-01-01</th>\n",
       "      <td>-0.059837</td>\n",
       "      <td>-1.710822</td>\n",
       "      <td>-0.791537</td>\n",
       "      <td>0.481009</td>\n",
       "    </tr>\n",
       "    <tr>\n",
       "      <th>2020-01-02</th>\n",
       "      <td>0.733668</td>\n",
       "      <td>-0.093330</td>\n",
       "      <td>0.631620</td>\n",
       "      <td>0.133523</td>\n",
       "    </tr>\n",
       "    <tr>\n",
       "      <th>2020-01-03</th>\n",
       "      <td>1.604557</td>\n",
       "      <td>1.667505</td>\n",
       "      <td>-0.751425</td>\n",
       "      <td>1.243982</td>\n",
       "    </tr>\n",
       "    <tr>\n",
       "      <th>2020-01-04</th>\n",
       "      <td>0.020739</td>\n",
       "      <td>-0.274322</td>\n",
       "      <td>-2.317507</td>\n",
       "      <td>-1.106979</td>\n",
       "    </tr>\n",
       "    <tr>\n",
       "      <th>2020-01-05</th>\n",
       "      <td>-1.245528</td>\n",
       "      <td>-0.128504</td>\n",
       "      <td>0.771366</td>\n",
       "      <td>0.153393</td>\n",
       "    </tr>\n",
       "    <tr>\n",
       "      <th>...</th>\n",
       "      <td>...</td>\n",
       "      <td>...</td>\n",
       "      <td>...</td>\n",
       "      <td>...</td>\n",
       "    </tr>\n",
       "    <tr>\n",
       "      <th>2020-10-22</th>\n",
       "      <td>-2.036138</td>\n",
       "      <td>-0.471944</td>\n",
       "      <td>1.196093</td>\n",
       "      <td>-1.828691</td>\n",
       "    </tr>\n",
       "    <tr>\n",
       "      <th>2020-10-23</th>\n",
       "      <td>0.328733</td>\n",
       "      <td>0.012509</td>\n",
       "      <td>0.883802</td>\n",
       "      <td>-0.237348</td>\n",
       "    </tr>\n",
       "    <tr>\n",
       "      <th>2020-10-24</th>\n",
       "      <td>-1.543940</td>\n",
       "      <td>-1.648263</td>\n",
       "      <td>0.683792</td>\n",
       "      <td>0.722210</td>\n",
       "    </tr>\n",
       "    <tr>\n",
       "      <th>2020-10-25</th>\n",
       "      <td>0.327537</td>\n",
       "      <td>-3.490682</td>\n",
       "      <td>-0.967934</td>\n",
       "      <td>-0.250675</td>\n",
       "    </tr>\n",
       "    <tr>\n",
       "      <th>2020-10-26</th>\n",
       "      <td>0.919171</td>\n",
       "      <td>0.127011</td>\n",
       "      <td>0.266868</td>\n",
       "      <td>-2.081868</td>\n",
       "    </tr>\n",
       "  </tbody>\n",
       "</table>\n",
       "<p>300 rows × 4 columns</p>\n",
       "</div>"
      ],
      "text/plain": [
       "                  C1        C2        C3        C4\n",
       "2020-01-01 -0.059837 -1.710822 -0.791537  0.481009\n",
       "2020-01-02  0.733668 -0.093330  0.631620  0.133523\n",
       "2020-01-03  1.604557  1.667505 -0.751425  1.243982\n",
       "2020-01-04  0.020739 -0.274322 -2.317507 -1.106979\n",
       "2020-01-05 -1.245528 -0.128504  0.771366  0.153393\n",
       "...              ...       ...       ...       ...\n",
       "2020-10-22 -2.036138 -0.471944  1.196093 -1.828691\n",
       "2020-10-23  0.328733  0.012509  0.883802 -0.237348\n",
       "2020-10-24 -1.543940 -1.648263  0.683792  0.722210\n",
       "2020-10-25  0.327537 -3.490682 -0.967934 -0.250675\n",
       "2020-10-26  0.919171  0.127011  0.266868 -2.081868\n",
       "\n",
       "[300 rows x 4 columns]"
      ]
     },
     "execution_count": 147,
     "metadata": {},
     "output_type": "execute_result"
    }
   ],
   "source": [
    "df = pd.DataFrame(np.random.randn(300,4),\n",
    "                 index=pd.date_range('2020-01-01',periods=300,freq='D'),\n",
    "                 columns=['C1','C2','C3','C4'])\n",
    "df"
   ]
  },
  {
   "cell_type": "code",
   "execution_count": 148,
   "id": "cf5bb8a7",
   "metadata": {},
   "outputs": [
    {
     "data": {
      "text/html": [
       "<div>\n",
       "<style scoped>\n",
       "    .dataframe tbody tr th:only-of-type {\n",
       "        vertical-align: middle;\n",
       "    }\n",
       "\n",
       "    .dataframe tbody tr th {\n",
       "        vertical-align: top;\n",
       "    }\n",
       "\n",
       "    .dataframe thead th {\n",
       "        text-align: right;\n",
       "    }\n",
       "</style>\n",
       "<table border=\"1\" class=\"dataframe\">\n",
       "  <thead>\n",
       "    <tr style=\"text-align: right;\">\n",
       "      <th></th>\n",
       "      <th>C1</th>\n",
       "      <th>C2</th>\n",
       "      <th>C3</th>\n",
       "      <th>C4</th>\n",
       "    </tr>\n",
       "  </thead>\n",
       "  <tbody>\n",
       "    <tr>\n",
       "      <th>2020-01-01</th>\n",
       "      <td>NaN</td>\n",
       "      <td>NaN</td>\n",
       "      <td>NaN</td>\n",
       "      <td>NaN</td>\n",
       "    </tr>\n",
       "    <tr>\n",
       "      <th>2020-01-02</th>\n",
       "      <td>NaN</td>\n",
       "      <td>NaN</td>\n",
       "      <td>NaN</td>\n",
       "      <td>NaN</td>\n",
       "    </tr>\n",
       "    <tr>\n",
       "      <th>2020-01-03</th>\n",
       "      <td>NaN</td>\n",
       "      <td>NaN</td>\n",
       "      <td>NaN</td>\n",
       "      <td>NaN</td>\n",
       "    </tr>\n",
       "    <tr>\n",
       "      <th>2020-01-04</th>\n",
       "      <td>NaN</td>\n",
       "      <td>NaN</td>\n",
       "      <td>NaN</td>\n",
       "      <td>NaN</td>\n",
       "    </tr>\n",
       "    <tr>\n",
       "      <th>2020-01-05</th>\n",
       "      <td>NaN</td>\n",
       "      <td>NaN</td>\n",
       "      <td>NaN</td>\n",
       "      <td>NaN</td>\n",
       "    </tr>\n",
       "    <tr>\n",
       "      <th>...</th>\n",
       "      <td>...</td>\n",
       "      <td>...</td>\n",
       "      <td>...</td>\n",
       "      <td>...</td>\n",
       "    </tr>\n",
       "    <tr>\n",
       "      <th>2020-10-22</th>\n",
       "      <td>0.164935</td>\n",
       "      <td>0.127228</td>\n",
       "      <td>0.144672</td>\n",
       "      <td>-0.142649</td>\n",
       "    </tr>\n",
       "    <tr>\n",
       "      <th>2020-10-23</th>\n",
       "      <td>0.181386</td>\n",
       "      <td>0.071063</td>\n",
       "      <td>0.174486</td>\n",
       "      <td>-0.135150</td>\n",
       "    </tr>\n",
       "    <tr>\n",
       "      <th>2020-10-24</th>\n",
       "      <td>0.158205</td>\n",
       "      <td>0.028522</td>\n",
       "      <td>0.234201</td>\n",
       "      <td>-0.119988</td>\n",
       "    </tr>\n",
       "    <tr>\n",
       "      <th>2020-10-25</th>\n",
       "      <td>0.170094</td>\n",
       "      <td>-0.083570</td>\n",
       "      <td>0.230387</td>\n",
       "      <td>-0.163079</td>\n",
       "    </tr>\n",
       "    <tr>\n",
       "      <th>2020-10-26</th>\n",
       "      <td>0.150396</td>\n",
       "      <td>-0.079925</td>\n",
       "      <td>0.250022</td>\n",
       "      <td>-0.233838</td>\n",
       "    </tr>\n",
       "  </tbody>\n",
       "</table>\n",
       "<p>300 rows × 4 columns</p>\n",
       "</div>"
      ],
      "text/plain": [
       "                  C1        C2        C3        C4\n",
       "2020-01-01       NaN       NaN       NaN       NaN\n",
       "2020-01-02       NaN       NaN       NaN       NaN\n",
       "2020-01-03       NaN       NaN       NaN       NaN\n",
       "2020-01-04       NaN       NaN       NaN       NaN\n",
       "2020-01-05       NaN       NaN       NaN       NaN\n",
       "...              ...       ...       ...       ...\n",
       "2020-10-22  0.164935  0.127228  0.144672 -0.142649\n",
       "2020-10-23  0.181386  0.071063  0.174486 -0.135150\n",
       "2020-10-24  0.158205  0.028522  0.234201 -0.119988\n",
       "2020-10-25  0.170094 -0.083570  0.230387 -0.163079\n",
       "2020-10-26  0.150396 -0.079925  0.250022 -0.233838\n",
       "\n",
       "[300 rows x 4 columns]"
      ]
     },
     "execution_count": 148,
     "metadata": {},
     "output_type": "execute_result"
    }
   ],
   "source": [
    "df.rolling(30).mean()"
   ]
  },
  {
   "cell_type": "code",
   "execution_count": 149,
   "id": "a73ad497",
   "metadata": {
    "scrolled": true
   },
   "outputs": [
    {
     "data": {
      "text/plain": [
       "<AxesSubplot:>"
      ]
     },
     "execution_count": 149,
     "metadata": {},
     "output_type": "execute_result"
    },
    {
     "data": {
      "image/png": "[encoded data removed]",
      "text/plain": [
       "<Figure size 432x288 with 1 Axes>"
      ]
     },
     "metadata": {
      "needs_background": "light"
     },
     "output_type": "display_data"
    }
   ],
   "source": [
    "df.rolling(30).mean().plot()"
   ]
  },
  {
   "cell_type": "code",
   "execution_count": 163,
   "id": "32d6e155",
   "metadata": {},
   "outputs": [
    {
     "data": {
      "text/html": [
       "<div>\n",
       "<style scoped>\n",
       "    .dataframe tbody tr th:only-of-type {\n",
       "        vertical-align: middle;\n",
       "    }\n",
       "\n",
       "    .dataframe tbody tr th {\n",
       "        vertical-align: top;\n",
       "    }\n",
       "\n",
       "    .dataframe thead th {\n",
       "        text-align: right;\n",
       "    }\n",
       "</style>\n",
       "<table border=\"1\" class=\"dataframe\">\n",
       "  <thead>\n",
       "    <tr style=\"text-align: right;\">\n",
       "      <th></th>\n",
       "      <th>C1</th>\n",
       "      <th>C2</th>\n",
       "      <th>C3</th>\n",
       "      <th>C4</th>\n",
       "    </tr>\n",
       "  </thead>\n",
       "  <tbody>\n",
       "    <tr>\n",
       "      <th>2020-01-01</th>\n",
       "      <td>NaN</td>\n",
       "      <td>NaN</td>\n",
       "      <td>NaN</td>\n",
       "      <td>NaN</td>\n",
       "    </tr>\n",
       "    <tr>\n",
       "      <th>2020-01-02</th>\n",
       "      <td>NaN</td>\n",
       "      <td>NaN</td>\n",
       "      <td>NaN</td>\n",
       "      <td>NaN</td>\n",
       "    </tr>\n",
       "    <tr>\n",
       "      <th>2020-01-03</th>\n",
       "      <td>NaN</td>\n",
       "      <td>NaN</td>\n",
       "      <td>NaN</td>\n",
       "      <td>NaN</td>\n",
       "    </tr>\n",
       "    <tr>\n",
       "      <th>2020-01-04</th>\n",
       "      <td>NaN</td>\n",
       "      <td>NaN</td>\n",
       "      <td>NaN</td>\n",
       "      <td>NaN</td>\n",
       "    </tr>\n",
       "    <tr>\n",
       "      <th>2020-01-05</th>\n",
       "      <td>NaN</td>\n",
       "      <td>NaN</td>\n",
       "      <td>NaN</td>\n",
       "      <td>NaN</td>\n",
       "    </tr>\n",
       "    <tr>\n",
       "      <th>...</th>\n",
       "      <td>...</td>\n",
       "      <td>...</td>\n",
       "      <td>...</td>\n",
       "      <td>...</td>\n",
       "    </tr>\n",
       "    <tr>\n",
       "      <th>2020-10-22</th>\n",
       "      <td>-0.084634</td>\n",
       "      <td>0.102770</td>\n",
       "      <td>-0.018050</td>\n",
       "      <td>0.105081</td>\n",
       "    </tr>\n",
       "    <tr>\n",
       "      <th>2020-10-23</th>\n",
       "      <td>-0.067135</td>\n",
       "      <td>0.092535</td>\n",
       "      <td>0.007074</td>\n",
       "      <td>0.112777</td>\n",
       "    </tr>\n",
       "    <tr>\n",
       "      <th>2020-10-24</th>\n",
       "      <td>-0.080690</td>\n",
       "      <td>0.058651</td>\n",
       "      <td>0.021225</td>\n",
       "      <td>0.100916</td>\n",
       "    </tr>\n",
       "    <tr>\n",
       "      <th>2020-10-25</th>\n",
       "      <td>-0.074825</td>\n",
       "      <td>0.013752</td>\n",
       "      <td>0.019571</td>\n",
       "      <td>0.117721</td>\n",
       "    </tr>\n",
       "    <tr>\n",
       "      <th>2020-10-26</th>\n",
       "      <td>-0.046904</td>\n",
       "      <td>-0.020432</td>\n",
       "      <td>0.013069</td>\n",
       "      <td>0.088446</td>\n",
       "    </tr>\n",
       "  </tbody>\n",
       "</table>\n",
       "<p>300 rows × 4 columns</p>\n",
       "</div>"
      ],
      "text/plain": [
       "                  C1        C2        C3        C4\n",
       "2020-01-01       NaN       NaN       NaN       NaN\n",
       "2020-01-02       NaN       NaN       NaN       NaN\n",
       "2020-01-03       NaN       NaN       NaN       NaN\n",
       "2020-01-04       NaN       NaN       NaN       NaN\n",
       "2020-01-05       NaN       NaN       NaN       NaN\n",
       "...              ...       ...       ...       ...\n",
       "2020-10-22 -0.084634  0.102770 -0.018050  0.105081\n",
       "2020-10-23 -0.067135  0.092535  0.007074  0.112777\n",
       "2020-10-24 -0.080690  0.058651  0.021225  0.100916\n",
       "2020-10-25 -0.074825  0.013752  0.019571  0.117721\n",
       "2020-10-26 -0.046904 -0.020432  0.013069  0.088446\n",
       "\n",
       "[300 rows x 4 columns]"
      ]
     },
     "execution_count": 163,
     "metadata": {},
     "output_type": "execute_result"
    }
   ],
   "source": [
    "df.rolling(60).mean()"
   ]
  },
  {
   "cell_type": "code",
   "execution_count": 150,
   "id": "75ef1122",
   "metadata": {},
   "outputs": [
    {
     "data": {
      "text/plain": [
       "<AxesSubplot:>"
      ]
     },
     "execution_count": 150,
     "metadata": {},
     "output_type": "execute_result"
    },
    {
     "data": {
      "image/png": "[encoded data removed]",
      "text/plain": [
       "<Figure size 432x288 with 1 Axes>"
      ]
     },
     "metadata": {
      "needs_background": "light"
     },
     "output_type": "display_data"
    }
   ],
   "source": [
    "df.rolling(60).mean().plot()"
   ]
  },
  {
   "cell_type": "code",
   "execution_count": 152,
   "id": "71d05132",
   "metadata": {},
   "outputs": [
    {
     "data": {
      "text/plain": [
       "<AxesSubplot:>"
      ]
     },
     "execution_count": 152,
     "metadata": {},
     "output_type": "execute_result"
    },
    {
     "data": {
      "image/png": "[encoded data removed]",
      "text/plain": [
       "<Figure size 432x288 with 1 Axes>"
      ]
     },
     "metadata": {
      "needs_background": "light"
     },
     "output_type": "display_data"
    }
   ],
   "source": [
    "df.C1.rolling(60,min_periods=10).std().plot()"
   ]
  },
  {
   "cell_type": "code",
   "execution_count": 154,
   "id": "5831f2c7",
   "metadata": {},
   "outputs": [
    {
     "data": {
      "text/plain": [
       "<AxesSubplot:>"
      ]
     },
     "execution_count": 154,
     "metadata": {},
     "output_type": "execute_result"
    },
    {
     "data": {
      "image/png": "[encoded data removed]",
      "text/plain": [
       "<Figure size 432x288 with 1 Axes>"
      ]
     },
     "metadata": {
      "needs_background": "light"
     },
     "output_type": "display_data"
    }
   ],
   "source": [
    "df.rolling(60,min_periods=10).std()[10:50].plot()"
   ]
  },
  {
   "cell_type": "code",
   "execution_count": 156,
   "id": "a6c19e52",
   "metadata": {},
   "outputs": [
    {
     "data": {
      "text/plain": [
       "<AxesSubplot:>"
      ]
     },
     "execution_count": 156,
     "metadata": {},
     "output_type": "execute_result"
    },
    {
     "data": {
      "image/png": "[encoded data removed]",
      "text/plain": [
       "<Figure size 432x288 with 1 Axes>"
      ]
     },
     "metadata": {
      "needs_background": "light"
     },
     "output_type": "display_data"
    }
   ],
   "source": [
    "df.rolling(60,min_periods=10).std().expanding().mean().plot()"
   ]
  },
  {
   "cell_type": "code",
   "execution_count": 158,
   "id": "71331c88",
   "metadata": {},
   "outputs": [
    {
     "data": {
      "text/plain": [
       "<AxesSubplot:>"
      ]
     },
     "execution_count": 158,
     "metadata": {},
     "output_type": "execute_result"
    },
    {
     "data": {
      "image/png": "[encoded data removed]",
      "text/plain": [
       "<Figure size 432x288 with 1 Axes>"
      ]
     },
     "metadata": {
      "needs_background": "light"
     },
     "output_type": "display_data"
    }
   ],
   "source": [
    "df.rolling(60).mean().plot(logy=True)"
   ]
  },
  {
   "cell_type": "code",
   "execution_count": 159,
   "id": "47bf2f03",
   "metadata": {},
   "outputs": [
    {
     "data": {
      "text/plain": [
       "<AxesSubplot:>"
      ]
     },
     "execution_count": 159,
     "metadata": {},
     "output_type": "execute_result"
    },
    {
     "data": {
      "image/png": "[encoded data removed]",
      "text/plain": [
       "<Figure size 432x288 with 1 Axes>"
      ]
     },
     "metadata": {
      "needs_background": "light"
     },
     "output_type": "display_data"
    }
   ],
   "source": [
    "df.rolling('20D').mean().plot()"
   ]
  },
  {
   "cell_type": "code",
   "execution_count": 160,
   "id": "50c6b07d",
   "metadata": {},
   "outputs": [
    {
     "data": {
      "text/plain": [
       "<AxesSubplot:>"
      ]
     },
     "execution_count": 160,
     "metadata": {},
     "output_type": "execute_result"
    },
    {
     "data": {
      "image/png": "[encoded data removed]",
      "text/plain": [
       "<Figure size 432x288 with 1 Axes>"
      ]
     },
     "metadata": {
      "needs_background": "light"
     },
     "output_type": "display_data"
    }
   ],
   "source": [
    "df.C1.rolling(30,min_periods=20).mean().plot(style='--',label='Simple MA')\n",
    "df.C1.ewm(span=30).mean().plot(style='-',label='EWMA')"
   ]
  },
  {
   "cell_type": "code",
   "execution_count": 161,
   "id": "97d37cd3",
   "metadata": {},
   "outputs": [
    {
     "data": {
      "text/plain": [
       "<AxesSubplot:>"
      ]
     },
     "execution_count": 161,
     "metadata": {},
     "output_type": "execute_result"
    },
    {
     "data": {
      "image/png": "[encoded data removed]",
      "text/plain": [
       "<Figure size 432x288 with 1 Axes>"
      ]
     },
     "metadata": {
      "needs_background": "light"
     },
     "output_type": "display_data"
    }
   ],
   "source": [
    "df.C1.rolling(100,min_periods=50).corr(df.C3).plot()"
   ]
  },
  {
   "cell_type": "code",
   "execution_count": 162,
   "id": "7a88aebd",
   "metadata": {},
   "outputs": [
    {
     "data": {
      "text/plain": [
       "<AxesSubplot:>"
      ]
     },
     "execution_count": 162,
     "metadata": {},
     "output_type": "execute_result"
    },
    {
     "data": {
      "image/png": "[encoded data removed]",
      "text/plain": [
       "<Figure size 432x288 with 1 Axes>"
      ]
     },
     "metadata": {
      "needs_background": "light"
     },
     "output_type": "display_data"
    }
   ],
   "source": [
    "df.C2.rolling(100,min_periods=50).corr(df.C4).plot()"
   ]
  },
  {
   "cell_type": "code",
   "execution_count": 164,
   "id": "10d81647",
   "metadata": {},
   "outputs": [],
   "source": [
    "###데이터 읽기 및 저장"
   ]
  },
  {
   "cell_type": "code",
   "execution_count": 165,
   "id": "60900408",
   "metadata": {},
   "outputs": [
    {
     "name": "stdout",
     "output_type": "stream",
     "text": [
      "Writing example1.csv\n"
     ]
    }
   ],
   "source": [
    "%%writefile example1.csv\n",
    "a,b,c,d,e,text\n",
    "1,2,3,4,5,hi\n",
    "6,7,8,9,10,pandas\n",
    "11,12,13,14,15,csv"
   ]
  },
  {
   "cell_type": "code",
   "execution_count": 169,
   "id": "39543c68",
   "metadata": {},
   "outputs": [
    {
     "data": {
      "text/html": [
       "<div>\n",
       "<style scoped>\n",
       "    .dataframe tbody tr th:only-of-type {\n",
       "        vertical-align: middle;\n",
       "    }\n",
       "\n",
       "    .dataframe tbody tr th {\n",
       "        vertical-align: top;\n",
       "    }\n",
       "\n",
       "    .dataframe thead th {\n",
       "        text-align: right;\n",
       "    }\n",
       "</style>\n",
       "<table border=\"1\" class=\"dataframe\">\n",
       "  <thead>\n",
       "    <tr style=\"text-align: right;\">\n",
       "      <th></th>\n",
       "      <th>a</th>\n",
       "      <th>b</th>\n",
       "      <th>c</th>\n",
       "      <th>d</th>\n",
       "      <th>e</th>\n",
       "      <th>text</th>\n",
       "    </tr>\n",
       "  </thead>\n",
       "  <tbody>\n",
       "    <tr>\n",
       "      <th>0</th>\n",
       "      <td>1</td>\n",
       "      <td>2</td>\n",
       "      <td>3</td>\n",
       "      <td>4</td>\n",
       "      <td>5</td>\n",
       "      <td>hi</td>\n",
       "    </tr>\n",
       "    <tr>\n",
       "      <th>1</th>\n",
       "      <td>6</td>\n",
       "      <td>7</td>\n",
       "      <td>8</td>\n",
       "      <td>9</td>\n",
       "      <td>10</td>\n",
       "      <td>pandas</td>\n",
       "    </tr>\n",
       "    <tr>\n",
       "      <th>2</th>\n",
       "      <td>11</td>\n",
       "      <td>12</td>\n",
       "      <td>13</td>\n",
       "      <td>14</td>\n",
       "      <td>15</td>\n",
       "      <td>csv</td>\n",
       "    </tr>\n",
       "  </tbody>\n",
       "</table>\n",
       "</div>"
      ],
      "text/plain": [
       "    a   b   c   d   e    text\n",
       "0   1   2   3   4   5      hi\n",
       "1   6   7   8   9  10  pandas\n",
       "2  11  12  13  14  15     csv"
      ]
     },
     "execution_count": 169,
     "metadata": {},
     "output_type": "execute_result"
    }
   ],
   "source": [
    "pd.read_csv('example1.csv')"
   ]
  },
  {
   "cell_type": "code",
   "execution_count": 170,
   "id": "1fb46b72",
   "metadata": {},
   "outputs": [
    {
     "name": "stdout",
     "output_type": "stream",
     "text": [
      "Writing example2.csv\n"
     ]
    }
   ],
   "source": [
    "%%writefile example2.csv\n",
    "1,2,3,4,5,hi\n",
    "6,7,8,9,10,pandas\n",
    "11,12,13,14,15,csv"
   ]
  },
  {
   "cell_type": "code",
   "execution_count": 171,
   "id": "3cb83602",
   "metadata": {},
   "outputs": [
    {
     "data": {
      "text/html": [
       "<div>\n",
       "<style scoped>\n",
       "    .dataframe tbody tr th:only-of-type {\n",
       "        vertical-align: middle;\n",
       "    }\n",
       "\n",
       "    .dataframe tbody tr th {\n",
       "        vertical-align: top;\n",
       "    }\n",
       "\n",
       "    .dataframe thead th {\n",
       "        text-align: right;\n",
       "    }\n",
       "</style>\n",
       "<table border=\"1\" class=\"dataframe\">\n",
       "  <thead>\n",
       "    <tr style=\"text-align: right;\">\n",
       "      <th></th>\n",
       "      <th>0</th>\n",
       "      <th>1</th>\n",
       "      <th>2</th>\n",
       "      <th>3</th>\n",
       "      <th>4</th>\n",
       "      <th>5</th>\n",
       "    </tr>\n",
       "  </thead>\n",
       "  <tbody>\n",
       "    <tr>\n",
       "      <th>0</th>\n",
       "      <td>1</td>\n",
       "      <td>2</td>\n",
       "      <td>3</td>\n",
       "      <td>4</td>\n",
       "      <td>5</td>\n",
       "      <td>hi</td>\n",
       "    </tr>\n",
       "    <tr>\n",
       "      <th>1</th>\n",
       "      <td>6</td>\n",
       "      <td>7</td>\n",
       "      <td>8</td>\n",
       "      <td>9</td>\n",
       "      <td>10</td>\n",
       "      <td>pandas</td>\n",
       "    </tr>\n",
       "    <tr>\n",
       "      <th>2</th>\n",
       "      <td>11</td>\n",
       "      <td>12</td>\n",
       "      <td>13</td>\n",
       "      <td>14</td>\n",
       "      <td>15</td>\n",
       "      <td>csv</td>\n",
       "    </tr>\n",
       "  </tbody>\n",
       "</table>\n",
       "</div>"
      ],
      "text/plain": [
       "    0   1   2   3   4       5\n",
       "0   1   2   3   4   5      hi\n",
       "1   6   7   8   9  10  pandas\n",
       "2  11  12  13  14  15     csv"
      ]
     },
     "execution_count": 171,
     "metadata": {},
     "output_type": "execute_result"
    }
   ],
   "source": [
    "pd.read_csv('example2.csv',header=None)"
   ]
  },
  {
   "cell_type": "code",
   "execution_count": 172,
   "id": "44089875",
   "metadata": {},
   "outputs": [
    {
     "data": {
      "text/html": [
       "<div>\n",
       "<style scoped>\n",
       "    .dataframe tbody tr th:only-of-type {\n",
       "        vertical-align: middle;\n",
       "    }\n",
       "\n",
       "    .dataframe tbody tr th {\n",
       "        vertical-align: top;\n",
       "    }\n",
       "\n",
       "    .dataframe thead th {\n",
       "        text-align: right;\n",
       "    }\n",
       "</style>\n",
       "<table border=\"1\" class=\"dataframe\">\n",
       "  <thead>\n",
       "    <tr style=\"text-align: right;\">\n",
       "      <th></th>\n",
       "      <th>a</th>\n",
       "      <th>b</th>\n",
       "      <th>c</th>\n",
       "      <th>d</th>\n",
       "      <th>e</th>\n",
       "      <th>text</th>\n",
       "    </tr>\n",
       "  </thead>\n",
       "  <tbody>\n",
       "    <tr>\n",
       "      <th>0</th>\n",
       "      <td>1</td>\n",
       "      <td>2</td>\n",
       "      <td>3</td>\n",
       "      <td>4</td>\n",
       "      <td>5</td>\n",
       "      <td>hi</td>\n",
       "    </tr>\n",
       "    <tr>\n",
       "      <th>1</th>\n",
       "      <td>6</td>\n",
       "      <td>7</td>\n",
       "      <td>8</td>\n",
       "      <td>9</td>\n",
       "      <td>10</td>\n",
       "      <td>pandas</td>\n",
       "    </tr>\n",
       "    <tr>\n",
       "      <th>2</th>\n",
       "      <td>11</td>\n",
       "      <td>12</td>\n",
       "      <td>13</td>\n",
       "      <td>14</td>\n",
       "      <td>15</td>\n",
       "      <td>csv</td>\n",
       "    </tr>\n",
       "  </tbody>\n",
       "</table>\n",
       "</div>"
      ],
      "text/plain": [
       "    a   b   c   d   e    text\n",
       "0   1   2   3   4   5      hi\n",
       "1   6   7   8   9  10  pandas\n",
       "2  11  12  13  14  15     csv"
      ]
     },
     "execution_count": 172,
     "metadata": {},
     "output_type": "execute_result"
    }
   ],
   "source": [
    "pd.read_csv('example2.csv',names=['a','b','c','d','e','text'])"
   ]
  },
  {
   "cell_type": "code",
   "execution_count": 173,
   "id": "d90aa1f4",
   "metadata": {},
   "outputs": [
    {
     "data": {
      "text/html": [
       "<div>\n",
       "<style scoped>\n",
       "    .dataframe tbody tr th:only-of-type {\n",
       "        vertical-align: middle;\n",
       "    }\n",
       "\n",
       "    .dataframe tbody tr th {\n",
       "        vertical-align: top;\n",
       "    }\n",
       "\n",
       "    .dataframe thead th {\n",
       "        text-align: right;\n",
       "    }\n",
       "</style>\n",
       "<table border=\"1\" class=\"dataframe\">\n",
       "  <thead>\n",
       "    <tr style=\"text-align: right;\">\n",
       "      <th></th>\n",
       "      <th>a</th>\n",
       "      <th>b</th>\n",
       "      <th>c</th>\n",
       "      <th>d</th>\n",
       "      <th>e</th>\n",
       "    </tr>\n",
       "    <tr>\n",
       "      <th>text</th>\n",
       "      <th></th>\n",
       "      <th></th>\n",
       "      <th></th>\n",
       "      <th></th>\n",
       "      <th></th>\n",
       "    </tr>\n",
       "  </thead>\n",
       "  <tbody>\n",
       "    <tr>\n",
       "      <th>hi</th>\n",
       "      <td>1</td>\n",
       "      <td>2</td>\n",
       "      <td>3</td>\n",
       "      <td>4</td>\n",
       "      <td>5</td>\n",
       "    </tr>\n",
       "    <tr>\n",
       "      <th>pandas</th>\n",
       "      <td>6</td>\n",
       "      <td>7</td>\n",
       "      <td>8</td>\n",
       "      <td>9</td>\n",
       "      <td>10</td>\n",
       "    </tr>\n",
       "    <tr>\n",
       "      <th>csv</th>\n",
       "      <td>11</td>\n",
       "      <td>12</td>\n",
       "      <td>13</td>\n",
       "      <td>14</td>\n",
       "      <td>15</td>\n",
       "    </tr>\n",
       "  </tbody>\n",
       "</table>\n",
       "</div>"
      ],
      "text/plain": [
       "         a   b   c   d   e\n",
       "text                      \n",
       "hi       1   2   3   4   5\n",
       "pandas   6   7   8   9  10\n",
       "csv     11  12  13  14  15"
      ]
     },
     "execution_count": 173,
     "metadata": {},
     "output_type": "execute_result"
    }
   ],
   "source": [
    "pd.read_csv('example2.csv',names=['a','b','c','d','e','text'],index_col='text')"
   ]
  },
  {
   "cell_type": "code",
   "execution_count": 174,
   "id": "b4419066",
   "metadata": {},
   "outputs": [
    {
     "name": "stdout",
     "output_type": "stream",
     "text": [
      "Writing example3.txt\n"
     ]
    }
   ],
   "source": [
    "%%writefile example3.txt\n",
    "    a    b    c\n",
    "1  0.1  0.2  0.3\n",
    "2  0.4  0.5  0.6\n",
    "3  0.7  0.8  0.9"
   ]
  },
  {
   "cell_type": "code",
   "execution_count": 175,
   "id": "b9d2bbf8",
   "metadata": {},
   "outputs": [
    {
     "data": {
      "text/html": [
       "<div>\n",
       "<style scoped>\n",
       "    .dataframe tbody tr th:only-of-type {\n",
       "        vertical-align: middle;\n",
       "    }\n",
       "\n",
       "    .dataframe tbody tr th {\n",
       "        vertical-align: top;\n",
       "    }\n",
       "\n",
       "    .dataframe thead th {\n",
       "        text-align: right;\n",
       "    }\n",
       "</style>\n",
       "<table border=\"1\" class=\"dataframe\">\n",
       "  <thead>\n",
       "    <tr style=\"text-align: right;\">\n",
       "      <th></th>\n",
       "      <th>a</th>\n",
       "      <th>b</th>\n",
       "      <th>c</th>\n",
       "    </tr>\n",
       "  </thead>\n",
       "  <tbody>\n",
       "    <tr>\n",
       "      <th>1</th>\n",
       "      <td>0.1</td>\n",
       "      <td>0.2</td>\n",
       "      <td>0.3</td>\n",
       "    </tr>\n",
       "    <tr>\n",
       "      <th>2</th>\n",
       "      <td>0.4</td>\n",
       "      <td>0.5</td>\n",
       "      <td>0.6</td>\n",
       "    </tr>\n",
       "    <tr>\n",
       "      <th>3</th>\n",
       "      <td>0.7</td>\n",
       "      <td>0.8</td>\n",
       "      <td>0.9</td>\n",
       "    </tr>\n",
       "  </tbody>\n",
       "</table>\n",
       "</div>"
      ],
      "text/plain": [
       "     a    b    c\n",
       "1  0.1  0.2  0.3\n",
       "2  0.4  0.5  0.6\n",
       "3  0.7  0.8  0.9"
      ]
     },
     "execution_count": 175,
     "metadata": {},
     "output_type": "execute_result"
    }
   ],
   "source": [
    "pd.read_table('example3.txt',sep='\\s+')"
   ]
  },
  {
   "cell_type": "code",
   "execution_count": 176,
   "id": "60b57552",
   "metadata": {},
   "outputs": [
    {
     "name": "stdout",
     "output_type": "stream",
     "text": [
      "Writing example4.csv\n"
     ]
    }
   ],
   "source": [
    "%%writefile example4.csv\n",
    "# 파일 설명\n",
    "a,b,c,d,e,text\n",
    "# 컬럼은 알파벳과 텍스트가 있음\n",
    "1,2,3,4,5,hi\n",
    "6,7,8,9,10,pandas\n",
    "11,12,13,14,15,csv"
   ]
  },
  {
   "cell_type": "code",
   "execution_count": 178,
   "id": "c9f1894e",
   "metadata": {},
   "outputs": [
    {
     "data": {
      "text/html": [
       "<div>\n",
       "<style scoped>\n",
       "    .dataframe tbody tr th:only-of-type {\n",
       "        vertical-align: middle;\n",
       "    }\n",
       "\n",
       "    .dataframe tbody tr th {\n",
       "        vertical-align: top;\n",
       "    }\n",
       "\n",
       "    .dataframe thead th {\n",
       "        text-align: right;\n",
       "    }\n",
       "</style>\n",
       "<table border=\"1\" class=\"dataframe\">\n",
       "  <thead>\n",
       "    <tr style=\"text-align: right;\">\n",
       "      <th></th>\n",
       "      <th>a</th>\n",
       "      <th>b</th>\n",
       "      <th>c</th>\n",
       "      <th>d</th>\n",
       "      <th>e</th>\n",
       "      <th>text</th>\n",
       "    </tr>\n",
       "  </thead>\n",
       "  <tbody>\n",
       "    <tr>\n",
       "      <th>0</th>\n",
       "      <td>1</td>\n",
       "      <td>2</td>\n",
       "      <td>3</td>\n",
       "      <td>4</td>\n",
       "      <td>5</td>\n",
       "      <td>hi</td>\n",
       "    </tr>\n",
       "    <tr>\n",
       "      <th>1</th>\n",
       "      <td>6</td>\n",
       "      <td>7</td>\n",
       "      <td>8</td>\n",
       "      <td>9</td>\n",
       "      <td>10</td>\n",
       "      <td>pandas</td>\n",
       "    </tr>\n",
       "    <tr>\n",
       "      <th>2</th>\n",
       "      <td>11</td>\n",
       "      <td>12</td>\n",
       "      <td>13</td>\n",
       "      <td>14</td>\n",
       "      <td>15</td>\n",
       "      <td>csv</td>\n",
       "    </tr>\n",
       "  </tbody>\n",
       "</table>\n",
       "</div>"
      ],
      "text/plain": [
       "    a   b   c   d   e    text\n",
       "0   1   2   3   4   5      hi\n",
       "1   6   7   8   9  10  pandas\n",
       "2  11  12  13  14  15     csv"
      ]
     },
     "execution_count": 178,
     "metadata": {},
     "output_type": "execute_result"
    }
   ],
   "source": [
    "pd.read_csv('example4.csv',skiprows=[0,2])"
   ]
  },
  {
   "cell_type": "code",
   "execution_count": 179,
   "id": "2bf7a8a9",
   "metadata": {},
   "outputs": [
    {
     "name": "stdout",
     "output_type": "stream",
     "text": [
      "Writing example5.csv\n"
     ]
    }
   ],
   "source": [
    "%%writefile example5.csv\n",
    "a,b,c,d,e,text\n",
    "1,2,NA,4,5,hi\n",
    "6,7,8,NULL,10,pandas\n",
    "11,NA,13,14,15,csv"
   ]
  },
  {
   "cell_type": "code",
   "execution_count": 180,
   "id": "b16a7032",
   "metadata": {},
   "outputs": [
    {
     "data": {
      "text/html": [
       "<div>\n",
       "<style scoped>\n",
       "    .dataframe tbody tr th:only-of-type {\n",
       "        vertical-align: middle;\n",
       "    }\n",
       "\n",
       "    .dataframe tbody tr th {\n",
       "        vertical-align: top;\n",
       "    }\n",
       "\n",
       "    .dataframe thead th {\n",
       "        text-align: right;\n",
       "    }\n",
       "</style>\n",
       "<table border=\"1\" class=\"dataframe\">\n",
       "  <thead>\n",
       "    <tr style=\"text-align: right;\">\n",
       "      <th></th>\n",
       "      <th>a</th>\n",
       "      <th>b</th>\n",
       "      <th>c</th>\n",
       "      <th>d</th>\n",
       "      <th>e</th>\n",
       "      <th>text</th>\n",
       "    </tr>\n",
       "  </thead>\n",
       "  <tbody>\n",
       "    <tr>\n",
       "      <th>0</th>\n",
       "      <td>1</td>\n",
       "      <td>2.0</td>\n",
       "      <td>NaN</td>\n",
       "      <td>4.0</td>\n",
       "      <td>5</td>\n",
       "      <td>hi</td>\n",
       "    </tr>\n",
       "    <tr>\n",
       "      <th>1</th>\n",
       "      <td>6</td>\n",
       "      <td>7.0</td>\n",
       "      <td>8.0</td>\n",
       "      <td>NaN</td>\n",
       "      <td>10</td>\n",
       "      <td>pandas</td>\n",
       "    </tr>\n",
       "    <tr>\n",
       "      <th>2</th>\n",
       "      <td>11</td>\n",
       "      <td>NaN</td>\n",
       "      <td>13.0</td>\n",
       "      <td>14.0</td>\n",
       "      <td>15</td>\n",
       "      <td>csv</td>\n",
       "    </tr>\n",
       "  </tbody>\n",
       "</table>\n",
       "</div>"
      ],
      "text/plain": [
       "    a    b     c     d   e    text\n",
       "0   1  2.0   NaN   4.0   5      hi\n",
       "1   6  7.0   8.0   NaN  10  pandas\n",
       "2  11  NaN  13.0  14.0  15     csv"
      ]
     },
     "execution_count": 180,
     "metadata": {},
     "output_type": "execute_result"
    }
   ],
   "source": [
    "pd.read_csv('example5.csv')"
   ]
  },
  {
   "cell_type": "code",
   "execution_count": 181,
   "id": "665b8a72",
   "metadata": {},
   "outputs": [
    {
     "name": "stdout",
     "output_type": "stream",
     "text": [
      "Writing example6.csv\n"
     ]
    }
   ],
   "source": [
    "%%writefile example6.csv\n",
    "a,b,c,d,e,text\n",
    "1,2,3,4,5,hi\n",
    "6,7,8,9,10,pandas\n",
    "11,12,13,14,15,csv\n",
    "1,2,3,4,5,hi\n",
    "6,7,8,9,10,pandas\n",
    "11,12,13,14,15,csv\n",
    "1,2,3,4,5,hi\n",
    "6,7,8,9,10,pandas\n",
    "11,12,13,14,15,csv\n",
    "1,2,3,4,5,hi\n",
    "6,7,8,9,10,pandas\n",
    "11,12,13,14,15,csv"
   ]
  },
  {
   "cell_type": "code",
   "execution_count": 182,
   "id": "f870d19f",
   "metadata": {},
   "outputs": [
    {
     "data": {
      "text/html": [
       "<div>\n",
       "<style scoped>\n",
       "    .dataframe tbody tr th:only-of-type {\n",
       "        vertical-align: middle;\n",
       "    }\n",
       "\n",
       "    .dataframe tbody tr th {\n",
       "        vertical-align: top;\n",
       "    }\n",
       "\n",
       "    .dataframe thead th {\n",
       "        text-align: right;\n",
       "    }\n",
       "</style>\n",
       "<table border=\"1\" class=\"dataframe\">\n",
       "  <thead>\n",
       "    <tr style=\"text-align: right;\">\n",
       "      <th></th>\n",
       "      <th>a</th>\n",
       "      <th>b</th>\n",
       "      <th>c</th>\n",
       "      <th>d</th>\n",
       "      <th>e</th>\n",
       "      <th>text</th>\n",
       "    </tr>\n",
       "  </thead>\n",
       "  <tbody>\n",
       "    <tr>\n",
       "      <th>0</th>\n",
       "      <td>1</td>\n",
       "      <td>2</td>\n",
       "      <td>3</td>\n",
       "      <td>4</td>\n",
       "      <td>5</td>\n",
       "      <td>hi</td>\n",
       "    </tr>\n",
       "    <tr>\n",
       "      <th>1</th>\n",
       "      <td>6</td>\n",
       "      <td>7</td>\n",
       "      <td>8</td>\n",
       "      <td>9</td>\n",
       "      <td>10</td>\n",
       "      <td>pandas</td>\n",
       "    </tr>\n",
       "    <tr>\n",
       "      <th>2</th>\n",
       "      <td>11</td>\n",
       "      <td>12</td>\n",
       "      <td>13</td>\n",
       "      <td>14</td>\n",
       "      <td>15</td>\n",
       "      <td>csv</td>\n",
       "    </tr>\n",
       "    <tr>\n",
       "      <th>3</th>\n",
       "      <td>1</td>\n",
       "      <td>2</td>\n",
       "      <td>3</td>\n",
       "      <td>4</td>\n",
       "      <td>5</td>\n",
       "      <td>hi</td>\n",
       "    </tr>\n",
       "    <tr>\n",
       "      <th>4</th>\n",
       "      <td>6</td>\n",
       "      <td>7</td>\n",
       "      <td>8</td>\n",
       "      <td>9</td>\n",
       "      <td>10</td>\n",
       "      <td>pandas</td>\n",
       "    </tr>\n",
       "  </tbody>\n",
       "</table>\n",
       "</div>"
      ],
      "text/plain": [
       "    a   b   c   d   e    text\n",
       "0   1   2   3   4   5      hi\n",
       "1   6   7   8   9  10  pandas\n",
       "2  11  12  13  14  15     csv\n",
       "3   1   2   3   4   5      hi\n",
       "4   6   7   8   9  10  pandas"
      ]
     },
     "execution_count": 182,
     "metadata": {},
     "output_type": "execute_result"
    }
   ],
   "source": [
    "pd.read_csv('example6.csv',nrows=5)"
   ]
  },
  {
   "cell_type": "code",
   "execution_count": 183,
   "id": "f63c6300",
   "metadata": {},
   "outputs": [
    {
     "data": {
      "text/html": [
       "<div>\n",
       "<style scoped>\n",
       "    .dataframe tbody tr th:only-of-type {\n",
       "        vertical-align: middle;\n",
       "    }\n",
       "\n",
       "    .dataframe tbody tr th {\n",
       "        vertical-align: top;\n",
       "    }\n",
       "\n",
       "    .dataframe thead th {\n",
       "        text-align: right;\n",
       "    }\n",
       "</style>\n",
       "<table border=\"1\" class=\"dataframe\">\n",
       "  <thead>\n",
       "    <tr style=\"text-align: right;\">\n",
       "      <th></th>\n",
       "      <th>a</th>\n",
       "      <th>b</th>\n",
       "      <th>c</th>\n",
       "      <th>d</th>\n",
       "      <th>e</th>\n",
       "      <th>text</th>\n",
       "    </tr>\n",
       "  </thead>\n",
       "  <tbody>\n",
       "    <tr>\n",
       "      <th>0</th>\n",
       "      <td>1</td>\n",
       "      <td>2</td>\n",
       "      <td>3</td>\n",
       "      <td>4</td>\n",
       "      <td>5</td>\n",
       "      <td>hi</td>\n",
       "    </tr>\n",
       "    <tr>\n",
       "      <th>1</th>\n",
       "      <td>6</td>\n",
       "      <td>7</td>\n",
       "      <td>8</td>\n",
       "      <td>9</td>\n",
       "      <td>10</td>\n",
       "      <td>pandas</td>\n",
       "    </tr>\n",
       "    <tr>\n",
       "      <th>2</th>\n",
       "      <td>11</td>\n",
       "      <td>12</td>\n",
       "      <td>13</td>\n",
       "      <td>14</td>\n",
       "      <td>15</td>\n",
       "      <td>csv</td>\n",
       "    </tr>\n",
       "    <tr>\n",
       "      <th>3</th>\n",
       "      <td>1</td>\n",
       "      <td>2</td>\n",
       "      <td>3</td>\n",
       "      <td>4</td>\n",
       "      <td>5</td>\n",
       "      <td>hi</td>\n",
       "    </tr>\n",
       "    <tr>\n",
       "      <th>4</th>\n",
       "      <td>6</td>\n",
       "      <td>7</td>\n",
       "      <td>8</td>\n",
       "      <td>9</td>\n",
       "      <td>10</td>\n",
       "      <td>pandas</td>\n",
       "    </tr>\n",
       "    <tr>\n",
       "      <th>5</th>\n",
       "      <td>11</td>\n",
       "      <td>12</td>\n",
       "      <td>13</td>\n",
       "      <td>14</td>\n",
       "      <td>15</td>\n",
       "      <td>csv</td>\n",
       "    </tr>\n",
       "    <tr>\n",
       "      <th>6</th>\n",
       "      <td>1</td>\n",
       "      <td>2</td>\n",
       "      <td>3</td>\n",
       "      <td>4</td>\n",
       "      <td>5</td>\n",
       "      <td>hi</td>\n",
       "    </tr>\n",
       "    <tr>\n",
       "      <th>7</th>\n",
       "      <td>6</td>\n",
       "      <td>7</td>\n",
       "      <td>8</td>\n",
       "      <td>9</td>\n",
       "      <td>10</td>\n",
       "      <td>pandas</td>\n",
       "    </tr>\n",
       "    <tr>\n",
       "      <th>8</th>\n",
       "      <td>11</td>\n",
       "      <td>12</td>\n",
       "      <td>13</td>\n",
       "      <td>14</td>\n",
       "      <td>15</td>\n",
       "      <td>csv</td>\n",
       "    </tr>\n",
       "    <tr>\n",
       "      <th>9</th>\n",
       "      <td>1</td>\n",
       "      <td>2</td>\n",
       "      <td>3</td>\n",
       "      <td>4</td>\n",
       "      <td>5</td>\n",
       "      <td>hi</td>\n",
       "    </tr>\n",
       "    <tr>\n",
       "      <th>10</th>\n",
       "      <td>6</td>\n",
       "      <td>7</td>\n",
       "      <td>8</td>\n",
       "      <td>9</td>\n",
       "      <td>10</td>\n",
       "      <td>pandas</td>\n",
       "    </tr>\n",
       "    <tr>\n",
       "      <th>11</th>\n",
       "      <td>11</td>\n",
       "      <td>12</td>\n",
       "      <td>13</td>\n",
       "      <td>14</td>\n",
       "      <td>15</td>\n",
       "      <td>csv</td>\n",
       "    </tr>\n",
       "  </tbody>\n",
       "</table>\n",
       "</div>"
      ],
      "text/plain": [
       "     a   b   c   d   e    text\n",
       "0    1   2   3   4   5      hi\n",
       "1    6   7   8   9  10  pandas\n",
       "2   11  12  13  14  15     csv\n",
       "3    1   2   3   4   5      hi\n",
       "4    6   7   8   9  10  pandas\n",
       "5   11  12  13  14  15     csv\n",
       "6    1   2   3   4   5      hi\n",
       "7    6   7   8   9  10  pandas\n",
       "8   11  12  13  14  15     csv\n",
       "9    1   2   3   4   5      hi\n",
       "10   6   7   8   9  10  pandas\n",
       "11  11  12  13  14  15     csv"
      ]
     },
     "execution_count": 183,
     "metadata": {},
     "output_type": "execute_result"
    }
   ],
   "source": [
    "df = pd.read_csv('example6.csv')\n",
    "df"
   ]
  },
  {
   "cell_type": "code",
   "execution_count": 184,
   "id": "4157e22b",
   "metadata": {},
   "outputs": [],
   "source": [
    "df.to_csv('output.csv')"
   ]
  },
  {
   "cell_type": "code",
   "execution_count": 185,
   "id": "c1860121",
   "metadata": {},
   "outputs": [
    {
     "data": {
      "text/plain": [
       "2020-01-01    0\n",
       "2020-01-02    1\n",
       "2020-01-03    2\n",
       "2020-01-04    3\n",
       "2020-01-05    4\n",
       "2020-01-06    5\n",
       "2020-01-07    6\n",
       "2020-01-08    7\n",
       "2020-01-09    8\n",
       "2020-01-10    9\n",
       "Freq: D, dtype: int32"
      ]
     },
     "execution_count": 185,
     "metadata": {},
     "output_type": "execute_result"
    }
   ],
   "source": [
    "dr = pd.date_range('2020-01-01',periods=10)\n",
    "ts = pd.Series(np.arange(10),index=dr)\n",
    "ts"
   ]
  },
  {
   "cell_type": "code",
   "execution_count": 186,
   "id": "7c4f4e0d",
   "metadata": {},
   "outputs": [],
   "source": [
    "ts.to_csv('tx.csv',header=['value'])"
   ]
  },
  {
   "cell_type": "code",
   "execution_count": 190,
   "id": "de39a266",
   "metadata": {},
   "outputs": [
    {
     "name": "stdout",
     "output_type": "stream",
     "text": [
      "Overwriting example.json\n"
     ]
    }
   ],
   "source": [
    "%%writefile example.json\n",
    "[{\"a\":1,\"b\":2,\"c\":3,\"d\":4,\"e\":5},\n",
    "{\"a\":6,\"b\":7,\"c\":8,\"d\":9,\"e\":10},\n",
    " {\"a\":11,\"b\":12,\"c\":13,\"d\":14,\"e\":15}]"
   ]
  },
  {
   "cell_type": "code",
   "execution_count": 191,
   "id": "5b22040f",
   "metadata": {},
   "outputs": [
    {
     "data": {
      "text/html": [
       "<div>\n",
       "<style scoped>\n",
       "    .dataframe tbody tr th:only-of-type {\n",
       "        vertical-align: middle;\n",
       "    }\n",
       "\n",
       "    .dataframe tbody tr th {\n",
       "        vertical-align: top;\n",
       "    }\n",
       "\n",
       "    .dataframe thead th {\n",
       "        text-align: right;\n",
       "    }\n",
       "</style>\n",
       "<table border=\"1\" class=\"dataframe\">\n",
       "  <thead>\n",
       "    <tr style=\"text-align: right;\">\n",
       "      <th></th>\n",
       "      <th>a</th>\n",
       "      <th>b</th>\n",
       "      <th>c</th>\n",
       "      <th>d</th>\n",
       "      <th>e</th>\n",
       "    </tr>\n",
       "  </thead>\n",
       "  <tbody>\n",
       "    <tr>\n",
       "      <th>0</th>\n",
       "      <td>1</td>\n",
       "      <td>2</td>\n",
       "      <td>3</td>\n",
       "      <td>4</td>\n",
       "      <td>5</td>\n",
       "    </tr>\n",
       "    <tr>\n",
       "      <th>1</th>\n",
       "      <td>6</td>\n",
       "      <td>7</td>\n",
       "      <td>8</td>\n",
       "      <td>9</td>\n",
       "      <td>10</td>\n",
       "    </tr>\n",
       "    <tr>\n",
       "      <th>2</th>\n",
       "      <td>11</td>\n",
       "      <td>12</td>\n",
       "      <td>13</td>\n",
       "      <td>14</td>\n",
       "      <td>15</td>\n",
       "    </tr>\n",
       "  </tbody>\n",
       "</table>\n",
       "</div>"
      ],
      "text/plain": [
       "    a   b   c   d   e\n",
       "0   1   2   3   4   5\n",
       "1   6   7   8   9  10\n",
       "2  11  12  13  14  15"
      ]
     },
     "execution_count": 191,
     "metadata": {},
     "output_type": "execute_result"
    }
   ],
   "source": [
    "pd.read_json('example.json') "
   ]
  },
  {
   "cell_type": "code",
   "execution_count": 192,
   "id": "5371a74a",
   "metadata": {},
   "outputs": [],
   "source": [
    "ts.to_json(\"output.json\")"
   ]
  },
  {
   "cell_type": "code",
   "execution_count": 193,
   "id": "568bc09b",
   "metadata": {},
   "outputs": [],
   "source": [
    "df.to_json(\"output.json\")"
   ]
  },
  {
   "cell_type": "code",
   "execution_count": 194,
   "id": "92ded53f",
   "metadata": {},
   "outputs": [
    {
     "data": {
      "text/html": [
       "<div>\n",
       "<style scoped>\n",
       "    .dataframe tbody tr th:only-of-type {\n",
       "        vertical-align: middle;\n",
       "    }\n",
       "\n",
       "    .dataframe tbody tr th {\n",
       "        vertical-align: top;\n",
       "    }\n",
       "\n",
       "    .dataframe thead th {\n",
       "        text-align: right;\n",
       "    }\n",
       "</style>\n",
       "<table border=\"1\" class=\"dataframe\">\n",
       "  <thead>\n",
       "    <tr style=\"text-align: right;\">\n",
       "      <th></th>\n",
       "      <th>a</th>\n",
       "      <th>b</th>\n",
       "      <th>c</th>\n",
       "      <th>d</th>\n",
       "      <th>e</th>\n",
       "      <th>text</th>\n",
       "    </tr>\n",
       "  </thead>\n",
       "  <tbody>\n",
       "    <tr>\n",
       "      <th>0</th>\n",
       "      <td>1</td>\n",
       "      <td>2</td>\n",
       "      <td>3</td>\n",
       "      <td>4</td>\n",
       "      <td>5</td>\n",
       "      <td>hi</td>\n",
       "    </tr>\n",
       "    <tr>\n",
       "      <th>1</th>\n",
       "      <td>6</td>\n",
       "      <td>7</td>\n",
       "      <td>8</td>\n",
       "      <td>9</td>\n",
       "      <td>10</td>\n",
       "      <td>pandas</td>\n",
       "    </tr>\n",
       "    <tr>\n",
       "      <th>2</th>\n",
       "      <td>11</td>\n",
       "      <td>12</td>\n",
       "      <td>13</td>\n",
       "      <td>14</td>\n",
       "      <td>15</td>\n",
       "      <td>csv</td>\n",
       "    </tr>\n",
       "  </tbody>\n",
       "</table>\n",
       "</div>"
      ],
      "text/plain": [
       "    a   b   c   d   e    text\n",
       "0   1   2   3   4   5      hi\n",
       "1   6   7   8   9  10  pandas\n",
       "2  11  12  13  14  15     csv"
      ]
     },
     "execution_count": 194,
     "metadata": {},
     "output_type": "execute_result"
    }
   ],
   "source": [
    "df = pd.read_csv('example1.csv')\n",
    "df"
   ]
  },
  {
   "cell_type": "code",
   "execution_count": 195,
   "id": "8f80d3b1",
   "metadata": {},
   "outputs": [
    {
     "data": {
      "text/html": [
       "<div>\n",
       "<style scoped>\n",
       "    .dataframe tbody tr th:only-of-type {\n",
       "        vertical-align: middle;\n",
       "    }\n",
       "\n",
       "    .dataframe tbody tr th {\n",
       "        vertical-align: top;\n",
       "    }\n",
       "\n",
       "    .dataframe thead th {\n",
       "        text-align: right;\n",
       "    }\n",
       "</style>\n",
       "<table border=\"1\" class=\"dataframe\">\n",
       "  <thead>\n",
       "    <tr style=\"text-align: right;\">\n",
       "      <th></th>\n",
       "      <th>a</th>\n",
       "      <th>b</th>\n",
       "      <th>c</th>\n",
       "      <th>d</th>\n",
       "      <th>e</th>\n",
       "      <th>text</th>\n",
       "    </tr>\n",
       "  </thead>\n",
       "  <tbody>\n",
       "    <tr>\n",
       "      <th>0</th>\n",
       "      <td>1</td>\n",
       "      <td>2</td>\n",
       "      <td>3</td>\n",
       "      <td>4</td>\n",
       "      <td>5</td>\n",
       "      <td>hi</td>\n",
       "    </tr>\n",
       "    <tr>\n",
       "      <th>1</th>\n",
       "      <td>6</td>\n",
       "      <td>7</td>\n",
       "      <td>8</td>\n",
       "      <td>9</td>\n",
       "      <td>10</td>\n",
       "      <td>pandas</td>\n",
       "    </tr>\n",
       "    <tr>\n",
       "      <th>2</th>\n",
       "      <td>11</td>\n",
       "      <td>12</td>\n",
       "      <td>13</td>\n",
       "      <td>14</td>\n",
       "      <td>15</td>\n",
       "      <td>csv</td>\n",
       "    </tr>\n",
       "  </tbody>\n",
       "</table>\n",
       "</div>"
      ],
      "text/plain": [
       "    a   b   c   d   e    text\n",
       "0   1   2   3   4   5      hi\n",
       "1   6   7   8   9  10  pandas\n",
       "2  11  12  13  14  15     csv"
      ]
     },
     "execution_count": 195,
     "metadata": {},
     "output_type": "execute_result"
    }
   ],
   "source": [
    "df.to_pickle('df_pickle')\n",
    "pd.read_pickle('df_pickle')"
   ]
  },
  {
   "cell_type": "code",
   "execution_count": 196,
   "id": "ddf961ad",
   "metadata": {},
   "outputs": [
    {
     "data": {
      "text/html": [
       "<div>\n",
       "<style scoped>\n",
       "    .dataframe tbody tr th:only-of-type {\n",
       "        vertical-align: middle;\n",
       "    }\n",
       "\n",
       "    .dataframe tbody tr th {\n",
       "        vertical-align: top;\n",
       "    }\n",
       "\n",
       "    .dataframe thead th {\n",
       "        text-align: right;\n",
       "    }\n",
       "</style>\n",
       "<table border=\"1\" class=\"dataframe\">\n",
       "  <thead>\n",
       "    <tr style=\"text-align: right;\">\n",
       "      <th></th>\n",
       "      <th>a</th>\n",
       "      <th>b</th>\n",
       "      <th>c</th>\n",
       "    </tr>\n",
       "  </thead>\n",
       "  <tbody>\n",
       "    <tr>\n",
       "      <th>0</th>\n",
       "      <td>-0.360410</td>\n",
       "      <td>-2.036329</td>\n",
       "      <td>1.547026</td>\n",
       "    </tr>\n",
       "    <tr>\n",
       "      <th>1</th>\n",
       "      <td>-0.259543</td>\n",
       "      <td>1.379332</td>\n",
       "      <td>-1.753251</td>\n",
       "    </tr>\n",
       "    <tr>\n",
       "      <th>2</th>\n",
       "      <td>0.216288</td>\n",
       "      <td>-0.640751</td>\n",
       "      <td>0.201306</td>\n",
       "    </tr>\n",
       "    <tr>\n",
       "      <th>3</th>\n",
       "      <td>0.994012</td>\n",
       "      <td>0.691071</td>\n",
       "      <td>0.476620</td>\n",
       "    </tr>\n",
       "    <tr>\n",
       "      <th>4</th>\n",
       "      <td>-1.301952</td>\n",
       "      <td>-0.865399</td>\n",
       "      <td>0.548195</td>\n",
       "    </tr>\n",
       "    <tr>\n",
       "      <th>...</th>\n",
       "      <td>...</td>\n",
       "      <td>...</td>\n",
       "      <td>...</td>\n",
       "    </tr>\n",
       "    <tr>\n",
       "      <th>95</th>\n",
       "      <td>-0.369954</td>\n",
       "      <td>-1.054928</td>\n",
       "      <td>-0.894135</td>\n",
       "    </tr>\n",
       "    <tr>\n",
       "      <th>96</th>\n",
       "      <td>0.235690</td>\n",
       "      <td>-0.259456</td>\n",
       "      <td>0.712010</td>\n",
       "    </tr>\n",
       "    <tr>\n",
       "      <th>97</th>\n",
       "      <td>-1.110670</td>\n",
       "      <td>1.801370</td>\n",
       "      <td>1.945774</td>\n",
       "    </tr>\n",
       "    <tr>\n",
       "      <th>98</th>\n",
       "      <td>0.165016</td>\n",
       "      <td>-0.776622</td>\n",
       "      <td>1.160646</td>\n",
       "    </tr>\n",
       "    <tr>\n",
       "      <th>99</th>\n",
       "      <td>0.039091</td>\n",
       "      <td>1.602219</td>\n",
       "      <td>0.626984</td>\n",
       "    </tr>\n",
       "  </tbody>\n",
       "</table>\n",
       "<p>100 rows × 3 columns</p>\n",
       "</div>"
      ],
      "text/plain": [
       "           a         b         c\n",
       "0  -0.360410 -2.036329  1.547026\n",
       "1  -0.259543  1.379332 -1.753251\n",
       "2   0.216288 -0.640751  0.201306\n",
       "3   0.994012  0.691071  0.476620\n",
       "4  -1.301952 -0.865399  0.548195\n",
       "..       ...       ...       ...\n",
       "95 -0.369954 -1.054928 -0.894135\n",
       "96  0.235690 -0.259456  0.712010\n",
       "97 -1.110670  1.801370  1.945774\n",
       "98  0.165016 -0.776622  1.160646\n",
       "99  0.039091  1.602219  0.626984\n",
       "\n",
       "[100 rows x 3 columns]"
      ]
     },
     "execution_count": 196,
     "metadata": {},
     "output_type": "execute_result"
    }
   ],
   "source": [
    "df = pd.DataFrame({'a':np.random.randn(100),\n",
    "                  'b':np.random.randn(100),\n",
    "                  'c':np.random.randn(100)})\n",
    "df"
   ]
  },
  {
   "cell_type": "code",
   "execution_count": 198,
   "id": "c4ca18db",
   "metadata": {},
   "outputs": [
    {
     "ename": "ImportError",
     "evalue": "Missing optional dependency 'tables'.  Use pip or conda to install tables.",
     "output_type": "error",
     "traceback": [
      "\u001b[1;31m---------------------------------------------------------------------------\u001b[0m",
      "\u001b[1;31mImportError\u001b[0m                               Traceback (most recent call last)",
      "\u001b[1;32m~\\AppData\\Local\\Temp\\ipykernel_14940\\3969191898.py\u001b[0m in \u001b[0;36m<module>\u001b[1;34m\u001b[0m\n\u001b[1;32m----> 1\u001b[1;33m \u001b[0mh\u001b[0m \u001b[1;33m=\u001b[0m \u001b[0mpd\u001b[0m\u001b[1;33m.\u001b[0m\u001b[0mHDFStore\u001b[0m\u001b[1;33m(\u001b[0m\u001b[1;34m'date.h5'\u001b[0m\u001b[1;33m)\u001b[0m\u001b[1;33m\u001b[0m\u001b[1;33m\u001b[0m\u001b[0m\n\u001b[0m\u001b[0;32m      2\u001b[0m \u001b[0mh\u001b[0m\u001b[1;33m[\u001b[0m\u001b[1;34m'obj1'\u001b[0m\u001b[1;33m]\u001b[0m \u001b[1;33m=\u001b[0m \u001b[0mdf\u001b[0m\u001b[1;33m\u001b[0m\u001b[1;33m\u001b[0m\u001b[0m\n\u001b[0;32m      3\u001b[0m \u001b[0mh\u001b[0m\u001b[1;33m[\u001b[0m\u001b[1;34m'obj1_col1'\u001b[0m\u001b[1;33m]\u001b[0m \u001b[1;33m=\u001b[0m \u001b[0mdf\u001b[0m\u001b[1;33m[\u001b[0m\u001b[1;34m'a'\u001b[0m\u001b[1;33m]\u001b[0m\u001b[1;33m\u001b[0m\u001b[1;33m\u001b[0m\u001b[0m\n\u001b[0;32m      4\u001b[0m \u001b[0mh\u001b[0m\u001b[1;33m[\u001b[0m\u001b[1;34m'obj1_col2'\u001b[0m\u001b[1;33m]\u001b[0m \u001b[1;33m=\u001b[0m \u001b[0mdf\u001b[0m\u001b[1;33m[\u001b[0m\u001b[1;34m'b'\u001b[0m\u001b[1;33m]\u001b[0m\u001b[1;33m\u001b[0m\u001b[1;33m\u001b[0m\u001b[0m\n\u001b[0;32m      5\u001b[0m \u001b[0mh\u001b[0m\u001b[1;33m[\u001b[0m\u001b[1;34m'obj1_col3'\u001b[0m\u001b[1;33m]\u001b[0m \u001b[1;33m=\u001b[0m \u001b[0mdf\u001b[0m\u001b[1;33m[\u001b[0m\u001b[1;34m'c'\u001b[0m\u001b[1;33m]\u001b[0m\u001b[1;33m\u001b[0m\u001b[1;33m\u001b[0m\u001b[0m\n",
      "\u001b[1;32m~\\miniconda3\\lib\\site-packages\\pandas\\io\\pytables.py\u001b[0m in \u001b[0;36m__init__\u001b[1;34m(self, path, mode, complevel, complib, fletcher32, **kwargs)\u001b[0m\n\u001b[0;32m    570\u001b[0m             \u001b[1;32mraise\u001b[0m \u001b[0mValueError\u001b[0m\u001b[1;33m(\u001b[0m\u001b[1;34m\"format is not a defined argument for HDFStore\"\u001b[0m\u001b[1;33m)\u001b[0m\u001b[1;33m\u001b[0m\u001b[1;33m\u001b[0m\u001b[0m\n\u001b[0;32m    571\u001b[0m \u001b[1;33m\u001b[0m\u001b[0m\n\u001b[1;32m--> 572\u001b[1;33m         \u001b[0mtables\u001b[0m \u001b[1;33m=\u001b[0m \u001b[0mimport_optional_dependency\u001b[0m\u001b[1;33m(\u001b[0m\u001b[1;34m\"tables\"\u001b[0m\u001b[1;33m)\u001b[0m\u001b[1;33m\u001b[0m\u001b[1;33m\u001b[0m\u001b[0m\n\u001b[0m\u001b[0;32m    573\u001b[0m \u001b[1;33m\u001b[0m\u001b[0m\n\u001b[0;32m    574\u001b[0m         \u001b[1;32mif\u001b[0m \u001b[0mcomplib\u001b[0m \u001b[1;32mis\u001b[0m \u001b[1;32mnot\u001b[0m \u001b[1;32mNone\u001b[0m \u001b[1;32mand\u001b[0m \u001b[0mcomplib\u001b[0m \u001b[1;32mnot\u001b[0m \u001b[1;32min\u001b[0m \u001b[0mtables\u001b[0m\u001b[1;33m.\u001b[0m\u001b[0mfilters\u001b[0m\u001b[1;33m.\u001b[0m\u001b[0mall_complibs\u001b[0m\u001b[1;33m:\u001b[0m\u001b[1;33m\u001b[0m\u001b[1;33m\u001b[0m\u001b[0m\n",
      "\u001b[1;32m~\\miniconda3\\lib\\site-packages\\pandas\\compat\\_optional.py\u001b[0m in \u001b[0;36mimport_optional_dependency\u001b[1;34m(name, extra, errors, min_version)\u001b[0m\n\u001b[0;32m    116\u001b[0m     \u001b[1;32mexcept\u001b[0m \u001b[0mImportError\u001b[0m\u001b[1;33m:\u001b[0m\u001b[1;33m\u001b[0m\u001b[1;33m\u001b[0m\u001b[0m\n\u001b[0;32m    117\u001b[0m         \u001b[1;32mif\u001b[0m \u001b[0merrors\u001b[0m \u001b[1;33m==\u001b[0m \u001b[1;34m\"raise\"\u001b[0m\u001b[1;33m:\u001b[0m\u001b[1;33m\u001b[0m\u001b[1;33m\u001b[0m\u001b[0m\n\u001b[1;32m--> 118\u001b[1;33m             \u001b[1;32mraise\u001b[0m \u001b[0mImportError\u001b[0m\u001b[1;33m(\u001b[0m\u001b[0mmsg\u001b[0m\u001b[1;33m)\u001b[0m \u001b[1;32mfrom\u001b[0m \u001b[1;32mNone\u001b[0m\u001b[1;33m\u001b[0m\u001b[1;33m\u001b[0m\u001b[0m\n\u001b[0m\u001b[0;32m    119\u001b[0m         \u001b[1;32melse\u001b[0m\u001b[1;33m:\u001b[0m\u001b[1;33m\u001b[0m\u001b[1;33m\u001b[0m\u001b[0m\n\u001b[0;32m    120\u001b[0m             \u001b[1;32mreturn\u001b[0m \u001b[1;32mNone\u001b[0m\u001b[1;33m\u001b[0m\u001b[1;33m\u001b[0m\u001b[0m\n",
      "\u001b[1;31mImportError\u001b[0m: Missing optional dependency 'tables'.  Use pip or conda to install tables."
     ]
    }
   ],
   "source": [
    "h = pd.HDFStore('date.h5')\n",
    "h['obj1'] = df\n",
    "h['obj1_col1'] = df['a']\n",
    "h['obj1_col2'] = df['b']\n",
    "h['obj1_col3'] = df['c']\n",
    "h"
   ]
  },
  {
   "cell_type": "code",
   "execution_count": 199,
   "id": "d59459ff",
   "metadata": {},
   "outputs": [],
   "source": [
    "## 데이터 읽기 및 저장"
   ]
  },
  {
   "cell_type": "code",
   "execution_count": null,
   "id": "8411b163",
   "metadata": {},
   "outputs": [],
   "source": []
  }
 ],
 "metadata": {
  "kernelspec": {
   "display_name": "Python 3 (ipykernel)",
   "language": "python",
   "name": "python3"
  },
  "language_info": {
   "codemirror_mode": {
    "name": "ipython",
    "version": 3
   },
   "file_extension": ".py",
   "mimetype": "text/x-python",
   "name": "python",
   "nbconvert_exporter": "python",
   "pygments_lexer": "ipython3",
   "version": "3.7.11"
  }
 },
 "nbformat": 4,
 "nbformat_minor": 5
}
