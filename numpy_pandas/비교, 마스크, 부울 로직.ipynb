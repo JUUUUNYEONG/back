{
 "cells": [
  {
   "cell_type": "code",
   "execution_count": 1,
   "id": "e0df8046",
   "metadata": {},
   "outputs": [],
   "source": [
    "import numpy as np"
   ]
  },
  {
   "cell_type": "code",
   "execution_count": 2,
   "id": "f033d4a6",
   "metadata": {},
   "outputs": [
    {
     "data": {
      "text/plain": [
       "array([5, 6, 7])"
      ]
     },
     "execution_count": 2,
     "metadata": {},
     "output_type": "execute_result"
    }
   ],
   "source": [
    "a=np.array([0,1,2]) #배열의 각 항목끼리 연산을 수행한다\n",
    "b=np.array([5,5,5])\n",
    "a+b"
   ]
  },
  {
   "cell_type": "code",
   "execution_count": 3,
   "id": "331b9c2e",
   "metadata": {},
   "outputs": [
    {
     "data": {
      "text/plain": [
       "array([5, 6, 7])"
      ]
     },
     "execution_count": 3,
     "metadata": {},
     "output_type": "execute_result"
    }
   ],
   "source": [
    "a+5"
   ]
  },
  {
   "cell_type": "code",
   "execution_count": 3,
   "id": "13ebef4d",
   "metadata": {},
   "outputs": [
    {
     "name": "stdout",
     "output_type": "stream",
     "text": [
      "[[1. 1. 1.]\n",
      " [1. 1. 1.]\n",
      " [1. 1. 1.]]\n",
      "[0 1 2]\n"
     ]
    }
   ],
   "source": [
    "M=np.ones((3,3))\n",
    "print(M)\n",
    "print(a)"
   ]
  },
  {
   "cell_type": "code",
   "execution_count": 9,
   "id": "15315467",
   "metadata": {},
   "outputs": [
    {
     "data": {
      "text/plain": [
       "array([[1., 2., 3.],\n",
       "       [1., 2., 3.],\n",
       "       [1., 2., 3.]])"
      ]
     },
     "execution_count": 9,
     "metadata": {},
     "output_type": "execute_result"
    }
   ],
   "source": [
    "M+a"
   ]
  },
  {
   "cell_type": "code",
   "execution_count": 10,
   "id": "868b6ebe",
   "metadata": {},
   "outputs": [
    {
     "name": "stdout",
     "output_type": "stream",
     "text": [
      "[0 1 2]\n",
      "[[0]\n",
      " [1]\n",
      " [2]]\n"
     ]
    }
   ],
   "source": [
    "a=np.arange(3)\n",
    "b=np.arange(3)[:,np.newaxis]\n",
    "print(a)\n",
    "print(b)"
   ]
  },
  {
   "cell_type": "code",
   "execution_count": 11,
   "id": "7d844797",
   "metadata": {},
   "outputs": [
    {
     "data": {
      "text/plain": [
       "array([[0, 1, 2],\n",
       "       [1, 2, 3],\n",
       "       [2, 3, 4]])"
      ]
     },
     "execution_count": 11,
     "metadata": {},
     "output_type": "execute_result"
    }
   ],
   "source": [
    "a+b"
   ]
  },
  {
   "cell_type": "code",
   "execution_count": 12,
   "id": "02c6f66a",
   "metadata": {},
   "outputs": [],
   "source": [
    "M=np.ones((2,3))\n",
    "a=np.arange(3)"
   ]
  },
  {
   "cell_type": "code",
   "execution_count": 13,
   "id": "25ea7ad0",
   "metadata": {},
   "outputs": [
    {
     "data": {
      "text/plain": [
       "array([[1., 2., 3.],\n",
       "       [1., 2., 3.]])"
      ]
     },
     "execution_count": 13,
     "metadata": {},
     "output_type": "execute_result"
    }
   ],
   "source": [
    "M+a"
   ]
  },
  {
   "cell_type": "code",
   "execution_count": 14,
   "id": "f4913d6d",
   "metadata": {},
   "outputs": [],
   "source": [
    "M=np.ones((3,2))\n",
    "a=np.arange(3)"
   ]
  },
  {
   "cell_type": "code",
   "execution_count": 15,
   "id": "4211e4c2",
   "metadata": {},
   "outputs": [],
   "source": [
    "#M=(3,2) 1이 아니기 때문에 2->3으로 갈 수 없다\n",
    "#a=(1,3) 즉, 이 두 배열은 브로드캐스팅 연산을 사용할 수 없다"
   ]
  },
  {
   "cell_type": "code",
   "execution_count": 16,
   "id": "a33b4cfa",
   "metadata": {},
   "outputs": [
    {
     "data": {
      "text/plain": [
       "(3, 1)"
      ]
     },
     "execution_count": 16,
     "metadata": {},
     "output_type": "execute_result"
    }
   ],
   "source": [
    "a[:,np.newaxis].shape"
   ]
  },
  {
   "cell_type": "code",
   "execution_count": 17,
   "id": "9ba1ff04",
   "metadata": {},
   "outputs": [
    {
     "data": {
      "text/plain": [
       "array([[1., 1.],\n",
       "       [2., 2.],\n",
       "       [3., 3.]])"
      ]
     },
     "execution_count": 17,
     "metadata": {},
     "output_type": "execute_result"
    }
   ],
   "source": [
    "M+a[:,np.newaxis]"
   ]
  },
  {
   "cell_type": "code",
   "execution_count": 19,
   "id": "4756e164",
   "metadata": {},
   "outputs": [
    {
     "data": {
      "text/plain": [
       "array([[0.02336197, 0.0578687 , 0.33027698],\n",
       "       [0.39018038, 0.54972379, 0.50901094],\n",
       "       [0.30786052, 0.1422798 , 0.74128979],\n",
       "       [0.56990708, 0.5389942 , 0.37811103],\n",
       "       [0.33693743, 0.29276267, 0.61086941],\n",
       "       [0.24602014, 0.95473408, 0.37753701],\n",
       "       [0.98007214, 0.53149685, 0.82794404],\n",
       "       [0.52042899, 0.40839833, 0.71991057],\n",
       "       [0.88094442, 0.79379211, 0.07007631],\n",
       "       [0.27911826, 0.90602682, 0.20980558]])"
      ]
     },
     "execution_count": 19,
     "metadata": {},
     "output_type": "execute_result"
    }
   ],
   "source": [
    "X=np.random.random((10,3))\n",
    "X"
   ]
  },
  {
   "cell_type": "code",
   "execution_count": 20,
   "id": "24b940c1",
   "metadata": {},
   "outputs": [
    {
     "data": {
      "text/plain": [
       "array([0.45348313, 0.51760773, 0.47748316])"
      ]
     },
     "execution_count": 20,
     "metadata": {},
     "output_type": "execute_result"
    }
   ],
   "source": [
    "Xmean=X.mean(0)\n",
    "Xmean"
   ]
  },
  {
   "cell_type": "code",
   "execution_count": 31,
   "id": "921ffd1d",
   "metadata": {},
   "outputs": [
    {
     "data": {
      "text/plain": [
       "(365,)"
      ]
     },
     "execution_count": 31,
     "metadata": {},
     "output_type": "execute_result"
    }
   ],
   "source": [
    "import numpy as np\n",
    "import pandas as pd\n",
    "rainfall=pd.read_csv('DataScience/Seattle2014.csv')['PRCP'].values\n",
    "inches=rainfall/254\n",
    "inches.shape"
   ]
  },
  {
   "cell_type": "code",
   "execution_count": 32,
   "id": "1c966808",
   "metadata": {},
   "outputs": [],
   "source": [
    "%matplotlib inline\n",
    "import matplotlib.pyplot as plt\n",
    "import seaborn; seaborn.set()"
   ]
  },
  {
   "cell_type": "code",
   "execution_count": 33,
   "id": "07865eb9",
   "metadata": {},
   "outputs": [
    {
     "data": {
      "image/png": "[encoded data removed]",
      "text/plain": [
       "<Figure size 432x288 with 1 Axes>"
      ]
     },
     "metadata": {},
     "output_type": "display_data"
    }
   ],
   "source": [
    "plt.hist(inches,40); #각 배열의 세세한 항목을 파악할 수 없다."
   ]
  },
  {
   "cell_type": "code",
   "execution_count": 21,
   "id": "db84116d",
   "metadata": {},
   "outputs": [],
   "source": [
    "x=np.array([1,2,3,4,5])"
   ]
  },
  {
   "cell_type": "code",
   "execution_count": 26,
   "id": "dadb3142",
   "metadata": {},
   "outputs": [
    {
     "data": {
      "text/plain": [
       "array([ True,  True, False, False, False])"
      ]
     },
     "execution_count": 26,
     "metadata": {},
     "output_type": "execute_result"
    }
   ],
   "source": [
    "x<3 #x 배열에서 3보다 작은 항목\n",
    "np.less(x,3) #유니버셜 함수"
   ]
  },
  {
   "cell_type": "code",
   "execution_count": 27,
   "id": "7bd40e22",
   "metadata": {},
   "outputs": [
    {
     "data": {
      "text/plain": [
       "array([False, False, False,  True,  True])"
      ]
     },
     "execution_count": 27,
     "metadata": {},
     "output_type": "execute_result"
    }
   ],
   "source": [
    "x>3 #x 배열에서 3보다 큰 항목\n",
    "np.greater(x,3) #유니버셜 함수"
   ]
  },
  {
   "cell_type": "code",
   "execution_count": 35,
   "id": "57eb5b04",
   "metadata": {},
   "outputs": [],
   "source": [
    "#연산자와 대응되는 유니버셜 함수\n",
    "#'==' <-> np.equal\n",
    "#'!=' <-> np.not_equal\n",
    "#'<' <-> np.less\n",
    "#'<=' <-> np.less_equal\n",
    "#'>' <-> np.greater\n",
    "#'>=' <-> np.greater_equal"
   ]
  },
  {
   "cell_type": "code",
   "execution_count": 24,
   "id": "f7b5efbd",
   "metadata": {},
   "outputs": [
    {
     "data": {
      "text/plain": [
       "array([False,  True, False, False, False])"
      ]
     },
     "execution_count": 24,
     "metadata": {},
     "output_type": "execute_result"
    }
   ],
   "source": [
    "(2*x)==(x**2) #x배열에서 2x=x^2를 만족하는 항목 x"
   ]
  },
  {
   "cell_type": "code",
   "execution_count": 28,
   "id": "385247c0",
   "metadata": {},
   "outputs": [
    {
     "data": {
      "text/plain": [
       "array([[5, 0, 3, 3],\n",
       "       [7, 9, 3, 5],\n",
       "       [2, 4, 7, 6]])"
      ]
     },
     "execution_count": 28,
     "metadata": {},
     "output_type": "execute_result"
    }
   ],
   "source": [
    "rng=np.random.RandomState(0)\n",
    "x=rng.randint(10,size=(3,4))\n",
    "x"
   ]
  },
  {
   "cell_type": "code",
   "execution_count": 29,
   "id": "25fd6065",
   "metadata": {},
   "outputs": [
    {
     "data": {
      "text/plain": [
       "array([[ True,  True,  True,  True],\n",
       "       [False, False,  True,  True],\n",
       "       [ True,  True, False, False]])"
      ]
     },
     "execution_count": 29,
     "metadata": {},
     "output_type": "execute_result"
    }
   ],
   "source": [
    "x<6"
   ]
  },
  {
   "cell_type": "code",
   "execution_count": 15,
   "id": "2eee9391",
   "metadata": {},
   "outputs": [
    {
     "data": {
      "text/plain": [
       "8"
      ]
     },
     "execution_count": 15,
     "metadata": {},
     "output_type": "execute_result"
    }
   ],
   "source": [
    "np.count_nonzero(x<6) #x 배열에서 6보다 작은 항목들의 개수"
   ]
  },
  {
   "cell_type": "code",
   "execution_count": 16,
   "id": "45c6fa46",
   "metadata": {},
   "outputs": [
    {
     "data": {
      "text/plain": [
       "8"
      ]
     },
     "execution_count": 16,
     "metadata": {},
     "output_type": "execute_result"
    }
   ],
   "source": [
    "np.sum(x<6)"
   ]
  },
  {
   "cell_type": "code",
   "execution_count": 18,
   "id": "341cf912",
   "metadata": {},
   "outputs": [
    {
     "data": {
      "text/plain": [
       "array([4, 2, 2])"
      ]
     },
     "execution_count": 18,
     "metadata": {},
     "output_type": "execute_result"
    }
   ],
   "source": [
    "np.sum(x<6,axis=1) #x 배열의 행에서 6보다 작은 항목의 수"
   ]
  },
  {
   "cell_type": "code",
   "execution_count": 30,
   "id": "f48f8498",
   "metadata": {},
   "outputs": [
    {
     "data": {
      "text/plain": [
       "array([2, 2, 2, 2])"
      ]
     },
     "execution_count": 30,
     "metadata": {},
     "output_type": "execute_result"
    }
   ],
   "source": [
    "np.sum(x<6,axis=0) #x 배열의 열에서 6보다 작은 항목의 수"
   ]
  },
  {
   "cell_type": "code",
   "execution_count": 19,
   "id": "7e74b951",
   "metadata": {},
   "outputs": [
    {
     "data": {
      "text/plain": [
       "True"
      ]
     },
     "execution_count": 19,
     "metadata": {},
     "output_type": "execute_result"
    }
   ],
   "source": [
    "np.any(x>8) #x 배열 중에서 8보다 작은 항목이 1개라도 있는가"
   ]
  },
  {
   "cell_type": "code",
   "execution_count": 26,
   "id": "7a7189be",
   "metadata": {},
   "outputs": [
    {
     "data": {
      "text/plain": [
       "array([ True, False,  True,  True])"
      ]
     },
     "execution_count": 26,
     "metadata": {},
     "output_type": "execute_result"
    }
   ],
   "source": [
    "np.all(x<8,axis=0) #배열의 각 열에서 모든 항목은 8보다 작은가"
   ]
  },
  {
   "cell_type": "code",
   "execution_count": 27,
   "id": "ac130b09",
   "metadata": {},
   "outputs": [
    {
     "data": {
      "text/plain": [
       "29"
      ]
     },
     "execution_count": 27,
     "metadata": {},
     "output_type": "execute_result"
    }
   ],
   "source": [
    "np.sum((inches>0.5)&(inches<1)) #bool 연산자 "
   ]
  },
  {
   "cell_type": "code",
   "execution_count": 34,
   "id": "7e62ddec",
   "metadata": {
    "scrolled": true
   },
   "outputs": [
    {
     "data": {
      "text/plain": [
       "29"
      ]
     },
     "execution_count": 34,
     "metadata": {},
     "output_type": "execute_result"
    }
   ],
   "source": [
    "np.sum(~((inches<=0.5)|(inches>=1))) #bool 연산자로 배열 각각의 요소를 파악할 수 있다."
   ]
  },
  {
   "cell_type": "code",
   "execution_count": 36,
   "id": "f4a5feb5",
   "metadata": {},
   "outputs": [],
   "source": [
    "#연산자 유니버셜 대응 관계\n",
    "#'&' <-> np.bitwise_and\n",
    "#'|' <-> np.bitwise_or\n",
    "#'^' <-> np.bitwise_xor\n",
    "#'~' <-> np.bitwise_not"
   ]
  },
  {
   "cell_type": "code",
   "execution_count": 38,
   "id": "a945f686",
   "metadata": {},
   "outputs": [
    {
     "data": {
      "text/plain": [
       "29"
      ]
     },
     "execution_count": 38,
     "metadata": {},
     "output_type": "execute_result"
    }
   ],
   "source": [
    "np.sum(np.bitwise_and(inches>0.5,inches<1)) #유니버셜 함수"
   ]
  },
  {
   "cell_type": "code",
   "execution_count": 29,
   "id": "d64eb4f9",
   "metadata": {},
   "outputs": [
    {
     "data": {
      "text/plain": [
       "array([0, 3, 3, 3, 2, 4])"
      ]
     },
     "execution_count": 29,
     "metadata": {},
     "output_type": "execute_result"
    }
   ],
   "source": [
    "x[x<5] #bool 연산자로 배열 인덱싱(파악하는 것 그 이상, 인덱싱까지 할 수 있다.)"
   ]
  },
  {
   "cell_type": "code",
   "execution_count": 30,
   "id": "914ef595",
   "metadata": {
    "scrolled": true
   },
   "outputs": [
    {
     "data": {
      "text/plain": [
       "array([[False,  True,  True,  True],\n",
       "       [False, False,  True, False],\n",
       "       [ True,  True, False, False]])"
      ]
     },
     "execution_count": 30,
     "metadata": {},
     "output_type": "execute_result"
    }
   ],
   "source": [
    "x<5"
   ]
  },
  {
   "cell_type": "code",
   "execution_count": 31,
   "id": "e891c40b",
   "metadata": {},
   "outputs": [],
   "source": [
    "rainy=(inches>0) #비가 온 날에 대한 마스크 생성\n",
    "summer=(np.arange(365)-172<90)&(np.arange(365)-172>0) #여름에 해당하는 날에 대한 마스크 생성"
   ]
  },
  {
   "cell_type": "code",
   "execution_count": 33,
   "id": "56954a45",
   "metadata": {},
   "outputs": [
    {
     "name": "stdout",
     "output_type": "stream",
     "text": [
      "0.19488188976377951\n",
      "0.0\n",
      "0.8503937007874016\n",
      "0.20078740157480315\n"
     ]
    }
   ],
   "source": [
    "print(np.median(inches[rainy])) #비가 온 날, 강수량의 중앙값\n",
    "print(np.median(inches[summer])) #여름날, 강수량의 중앙값\n",
    "print(np.max(inches[summer]))\n",
    "print(np.median(inches[rainy&~summer])) #여름이 아니지만 비가 왔을때, 강수량의 중앙값"
   ]
  },
  {
   "cell_type": "code",
   "execution_count": 34,
   "id": "34aab108",
   "metadata": {},
   "outputs": [],
   "source": [
    "#and, or / &, | 차이\n",
    "#and or 는 객체를 그 자체의 데이터로 보는데 그치지만,\n",
    "#&, | 는 객체를 구성하고 있는 데이터 bit를 참조한다."
   ]
  }
 ],
 "metadata": {
  "kernelspec": {
   "display_name": "Python 3 (ipykernel)",
   "language": "python",
   "name": "python3"
  },
  "language_info": {
   "codemirror_mode": {
    "name": "ipython",
    "version": 3
   },
   "file_extension": ".py",
   "mimetype": "text/x-python",
   "name": "python",
   "nbconvert_exporter": "python",
   "pygments_lexer": "ipython3",
   "version": "3.7.11"
  }
 },
 "nbformat": 4,
 "nbformat_minor": 5
}
