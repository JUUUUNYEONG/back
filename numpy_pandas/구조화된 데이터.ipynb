{
 "cells": [
  {
   "cell_type": "code",
   "execution_count": 1,
   "id": "b2f3118c",
   "metadata": {},
   "outputs": [],
   "source": [
    "import numpy as np"
   ]
  },
  {
   "cell_type": "code",
   "execution_count": 2,
   "id": "00cd0d25",
   "metadata": {},
   "outputs": [],
   "source": [
    "name=['Alice','Bob','Cathy','Doug'] #각 데이터간의 연관성을 파악하기 힘들다\n",
    "age=[25,45,37,19]\n",
    "weight=[55.0,85.5,68.0,61.5]"
   ]
  },
  {
   "cell_type": "code",
   "execution_count": 30,
   "id": "41d93c22",
   "metadata": {},
   "outputs": [
    {
     "data": {
      "text/plain": [
       "array([0, 0, 0, 0])"
      ]
     },
     "execution_count": 30,
     "metadata": {},
     "output_type": "execute_result"
    }
   ],
   "source": [
    "x=np.zeros(4,dtype=int) #내용이 없는 구조화 된 배열 생성\n",
    "x"
   ]
  },
  {
   "cell_type": "code",
   "execution_count": 4,
   "id": "a87a73cc",
   "metadata": {},
   "outputs": [
    {
     "data": {
      "text/plain": [
       "array([0, 0, 0, 0])"
      ]
     },
     "execution_count": 4,
     "metadata": {},
     "output_type": "execute_result"
    }
   ],
   "source": [
    "x"
   ]
  },
  {
   "cell_type": "code",
   "execution_count": 5,
   "id": "52b7b1af",
   "metadata": {},
   "outputs": [
    {
     "name": "stdout",
     "output_type": "stream",
     "text": [
      "[('이름', '<U10'), ('나이', '<i4'), ('몸무게', '<f8')]\n"
     ]
    }
   ],
   "source": [
    "data=np.zeros(4,dtype={'names':('이름','나이','몸무게'),'formats':('U10','i4','f8')})\n",
    "print(data.dtype)"
   ]
  },
  {
   "cell_type": "code",
   "execution_count": 6,
   "id": "73abbdfd",
   "metadata": {
    "scrolled": true
   },
   "outputs": [
    {
     "data": {
      "text/plain": [
       "array([('', 0, 0.), ('', 0, 0.), ('', 0, 0.), ('', 0, 0.)],\n",
       "      dtype=[('이름', '<U10'), ('나이', '<i4'), ('몸무게', '<f8')])"
      ]
     },
     "execution_count": 6,
     "metadata": {},
     "output_type": "execute_result"
    }
   ],
   "source": [
    "data #('',0,0.)"
   ]
  },
  {
   "cell_type": "code",
   "execution_count": 7,
   "id": "4243ba88",
   "metadata": {
    "scrolled": true
   },
   "outputs": [
    {
     "name": "stdout",
     "output_type": "stream",
     "text": [
      "[('Alice', 25, 55. ) ('Bob', 45, 85.5) ('Cathy', 37, 68. )\n",
      " ('Doug', 19, 61.5)]\n"
     ]
    }
   ],
   "source": [
    "data['이름']=name\n",
    "data['나이']=age\n",
    "data['몸무게']=weight\n",
    "print(data)"
   ]
  },
  {
   "cell_type": "code",
   "execution_count": 8,
   "id": "f0c93120",
   "metadata": {},
   "outputs": [
    {
     "data": {
      "text/plain": [
       "array(['Alice', 'Bob', 'Cathy', 'Doug'], dtype='<U10')"
      ]
     },
     "execution_count": 8,
     "metadata": {},
     "output_type": "execute_result"
    }
   ],
   "source": [
    "data['이름'] #이름으로 인덱싱"
   ]
  },
  {
   "cell_type": "code",
   "execution_count": 9,
   "id": "2f3ca0fd",
   "metadata": {
    "scrolled": true
   },
   "outputs": [
    {
     "data": {
      "text/plain": [
       "('Alice', 25, 55.)"
      ]
     },
     "execution_count": 9,
     "metadata": {},
     "output_type": "execute_result"
    }
   ],
   "source": [
    "data[0] #인덱스 번호로 인덱싱"
   ]
  },
  {
   "cell_type": "code",
   "execution_count": 10,
   "id": "16ef1a50",
   "metadata": {},
   "outputs": [
    {
     "data": {
      "text/plain": [
       "'Doug'"
      ]
     },
     "execution_count": 10,
     "metadata": {},
     "output_type": "execute_result"
    }
   ],
   "source": [
    "data[3]['이름'] #4번째 칸에서 이름 칸 인덱싱"
   ]
  },
  {
   "cell_type": "code",
   "execution_count": 31,
   "id": "d6050f9b",
   "metadata": {
    "scrolled": true
   },
   "outputs": [
    {
     "data": {
      "text/plain": [
       "array(['Alice', 'Doug'], dtype='<U10')"
      ]
     },
     "execution_count": 31,
     "metadata": {},
     "output_type": "execute_result"
    }
   ],
   "source": [
    "data[data['나이']<30]['이름'] #나이가 30살 미만인 사람의 이름"
   ]
  },
  {
   "cell_type": "code",
   "execution_count": 20,
   "id": "fab14777",
   "metadata": {},
   "outputs": [],
   "source": [
    "dat=np.zeros(4,dtype=dt)"
   ]
  },
  {
   "cell_type": "code",
   "execution_count": 21,
   "id": "404e9d65",
   "metadata": {
    "scrolled": true
   },
   "outputs": [
    {
     "data": {
      "text/plain": [
       "array([(b'', 0, 0.), (b'', 0, 0.), (b'', 0, 0.), (b'', 0, 0.)],\n",
       "      dtype=[('f0', 'S10'), ('f1', '<i4'), ('f2', '<f8')])"
      ]
     },
     "execution_count": 21,
     "metadata": {},
     "output_type": "execute_result"
    }
   ],
   "source": [
    "dat"
   ]
  },
  {
   "cell_type": "code",
   "execution_count": 40,
   "id": "1f9176a1",
   "metadata": {
    "scrolled": true
   },
   "outputs": [],
   "source": [
    "dt=np.dtype({'names':('이름','나이','몸무게'),'formats':('U10','i4','f8')}) #데이터 타입 지정 방법1-딕셔너리 형태"
   ]
  },
  {
   "cell_type": "code",
   "execution_count": 41,
   "id": "ab81d7c7",
   "metadata": {},
   "outputs": [],
   "source": [
    "dt=np.dtype({'names':('이름','나이','몸무게'),'formats':((np.str_,10),int,np.float32)}) #데이터 타입 지정 방법2 - 넘파이 데이터 형태"
   ]
  },
  {
   "cell_type": "code",
   "execution_count": 42,
   "id": "b652df34",
   "metadata": {},
   "outputs": [
    {
     "data": {
      "text/plain": [
       "dtype([('이름', 'S10'), ('나이', '<i4'), ('몸무게', '<f8')])"
      ]
     },
     "execution_count": 42,
     "metadata": {},
     "output_type": "execute_result"
    }
   ],
   "source": [
    "dt=np.dtype([('이름','S10'),('나이','i4'),('몸무게','f8')]) #데이터 타입 지정 방법 - 튜플의 리스트\n",
    "dt"
   ]
  },
  {
   "cell_type": "code",
   "execution_count": 43,
   "id": "a229930f",
   "metadata": {},
   "outputs": [
    {
     "data": {
      "text/plain": [
       "dtype([('f0', 'S10'), ('f1', '<i4'), ('f2', '<f8')])"
      ]
     },
     "execution_count": 43,
     "metadata": {},
     "output_type": "execute_result"
    }
   ],
   "source": [
    "dt=np.dtype('S10,i4,f8')\n",
    "dt"
   ]
  },
  {
   "cell_type": "code",
   "execution_count": 23,
   "id": "193c5558",
   "metadata": {},
   "outputs": [
    {
     "name": "stdout",
     "output_type": "stream",
     "text": [
      "(0, [[0., 0., 0.], [0., 0., 0.], [0., 0., 0.]])\n",
      "[[0. 0. 0.]\n",
      " [0. 0. 0.]\n",
      " [0. 0. 0.]]\n"
     ]
    }
   ],
   "source": [
    "tp=np.dtype([('id','i8'),('mat','f8',(3,3))]) #행렬을 담을 수 있다\n",
    "X=np.zeros(1,dtype=tp)\n",
    "print(X[0])\n",
    "print(X['mat'][0]) #배열 안에 있는 행렬 불러오기"
   ]
  },
  {
   "cell_type": "code",
   "execution_count": 24,
   "id": "991f932b",
   "metadata": {},
   "outputs": [
    {
     "data": {
      "text/plain": [
       "array([(0, [[0., 0., 0.], [0., 0., 0.], [0., 0., 0.]])],\n",
       "      dtype=[('id', '<i8'), ('mat', '<f8', (3, 3))])"
      ]
     },
     "execution_count": 24,
     "metadata": {},
     "output_type": "execute_result"
    }
   ],
   "source": [
    "X"
   ]
  },
  {
   "cell_type": "code",
   "execution_count": 25,
   "id": "ab3404bd",
   "metadata": {
    "scrolled": true
   },
   "outputs": [
    {
     "data": {
      "text/plain": [
       "0.0"
      ]
     },
     "execution_count": 25,
     "metadata": {},
     "output_type": "execute_result"
    }
   ],
   "source": [
    "X['mat'][0][1,1]"
   ]
  },
  {
   "cell_type": "code",
   "execution_count": 32,
   "id": "728fb0ee",
   "metadata": {
    "scrolled": true
   },
   "outputs": [
    {
     "data": {
      "text/plain": [
       "array([25, 45, 37, 19])"
      ]
     },
     "execution_count": 32,
     "metadata": {},
     "output_type": "execute_result"
    }
   ],
   "source": [
    "data['나이']"
   ]
  },
  {
   "cell_type": "code",
   "execution_count": 33,
   "id": "01aad007",
   "metadata": {},
   "outputs": [
    {
     "data": {
      "text/plain": [
       "array([25, 45, 37, 19])"
      ]
     },
     "execution_count": 33,
     "metadata": {},
     "output_type": "execute_result"
    }
   ],
   "source": [
    "data_rec=data.view(np.recarray)\n",
    "data_rec.나이"
   ]
  },
  {
   "cell_type": "code",
   "execution_count": 34,
   "id": "860eac80",
   "metadata": {},
   "outputs": [
    {
     "name": "stdout",
     "output_type": "stream",
     "text": [
      "102 ns ± 4 ns per loop (mean ± std. dev. of 7 runs, 10000000 loops each)\n",
      "2.55 µs ± 313 ns per loop (mean ± std. dev. of 7 runs, 100000 loops each)\n",
      "3.43 µs ± 256 ns per loop (mean ± std. dev. of 7 runs, 100000 loops each)\n"
     ]
    }
   ],
   "source": [
    "%timeit data['나이']\n",
    "%timeit data_rec['나이']\n",
    "%timeit data_rec.나이"
   ]
  },
  {
   "cell_type": "code",
   "execution_count": 30,
   "id": "8e354f79",
   "metadata": {},
   "outputs": [
    {
     "data": {
      "text/plain": [
       "rec.array([('Alice', 25, 55. ), ('Bob', 45, 85.5), ('Cathy', 37, 68. ),\n",
       "           ('Doug', 19, 61.5)],\n",
       "          dtype=[('nam', '<U10'), ('age', '<i4'), ('weight', '<f8')])"
      ]
     },
     "execution_count": 30,
     "metadata": {},
     "output_type": "execute_result"
    }
   ],
   "source": [
    "data_rec"
   ]
  },
  {
   "cell_type": "code",
   "execution_count": null,
   "id": "eae19aca",
   "metadata": {},
   "outputs": [],
   "source": []
  }
 ],
 "metadata": {
  "kernelspec": {
   "display_name": "Python 3 (ipykernel)",
   "language": "python",
   "name": "python3"
  },
  "language_info": {
   "codemirror_mode": {
    "name": "ipython",
    "version": 3
   },
   "file_extension": ".py",
   "mimetype": "text/x-python",
   "name": "python",
   "nbconvert_exporter": "python",
   "pygments_lexer": "ipython3",
   "version": "3.7.11"
  }
 },
 "nbformat": 4,
 "nbformat_minor": 5
}
